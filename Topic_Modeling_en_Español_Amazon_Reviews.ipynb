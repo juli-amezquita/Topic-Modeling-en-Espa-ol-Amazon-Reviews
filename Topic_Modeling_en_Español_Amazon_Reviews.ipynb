{
  "nbformat": 4,
  "nbformat_minor": 0,
  "metadata": {
    "colab": {
      "name": "Topic Modeling en Español_Amazon Reviews.ipynb",
      "provenance": [],
      "collapsed_sections": [],
      "authorship_tag": "ABX9TyN2uL6+fe6aNkXxNSHmi0G+",
      "include_colab_link": true
    },
    "kernelspec": {
      "name": "python3",
      "display_name": "Python 3"
    }
  },
  "cells": [
    {
      "cell_type": "markdown",
      "metadata": {
        "id": "view-in-github",
        "colab_type": "text"
      },
      "source": [
        "<a href=\"https://colab.research.google.com/github/juli-amezquita/Topic-Modeling-in-Spanish-Amazon-Reviews/blob/main/Topic_Modeling_en_Espa%C3%B1ol_Amazon_Reviews.ipynb\" target=\"_parent\"><img src=\"https://colab.research.google.com/assets/colab-badge.svg\" alt=\"Open In Colab\"/></a>"
      ]
    },
    {
      "cell_type": "markdown",
      "metadata": {
        "id": "Jq2p7VnHr4BG"
      },
      "source": [
        "# Proyecto - Topic Modeling \n",
        "\n",
        "## Dataset: The Multilingual Amazon Reviews Corpus\n",
        "El Modelado de Temas es tal vez la técnica más utilizada para agrupar y encontrar los denominados temas subyacentes u ocultos en los diferentes textos. El presente proyecto de Topic Modeling tiene justamente como propósito encontrar dichos temas dentro de las reseñas u opiniones dadas por los clientes o usuarios de Amazon y que se encuentran en el dataset que se puede descargar del siguiente [link](https://drive.google.com/uc?export=download&id=11XnXB7Ubgf3t6gotXGlM4FCwPOMHhDLX). \n",
        "\n",
        "Para desarrollar lo mencionado anteriormente debe tenerse en cuenta que estamos frente a un problema de aprendizaje no supervisado, esto debido a que nuestros datos no se encuentran etiquetados, es decir, en nuestros datos no se encuentran definidos los temas y por el contrario lo que se hará es encontrarlos. \n",
        "\n",
        "Para desarrollar este objetivo se emplearán 3 algorítmos frecuentemente utilizados: Latent Semantic Analysis (LSA), Hierarchical Dirichlet Process (HDP) y Latent Dirichlet Allocation (LDA) y se hará uso de librerías como SpaCy, Gensim, ConTexto y sus dependencias en español. Al final, estos algrorítmos tendrán como resultado grupos de palabras que representan un tema y nuestra labor será interpretarlas para enunciar dichos temas.\n",
        "\n",
        "El presente proyecto tendrá como contenido los siguientes cinco pasos:\n",
        "\n",
        "1. Carga de Datos\n",
        "2. Limpieza y pre-procesamiento de datos\n",
        "3. Ejecución de Modelos\n",
        "4. Visualización del Modelo Final y Conclusiones\n",
        "\n",
        "Si se desea revisar un Análisis Exploratorio de Datos (EDA) y otras aplicaciones sobre este mismo dataset, se puede consultar el siguiente repositorio en [GitHub](https://github.com/juli-amezquita/NLP-Amazon-Reviews-Star-Prediction) o el siguiente link de [nbviewer](https://nbviewer.jupyter.org/github/juli-amezquita/NLP-Amazon-Reviews-Star-Prediction/blob/main/1_NLP%20Amazon%20Reviews%20Espan%CC%83ol.ipynb)."
      ]
    },
    {
      "cell_type": "code",
      "metadata": {
        "id": "_Kz1h5ez6PuU"
      },
      "source": [
        "# Este proyecto está desarrollado sobre Google Colab, de esta manera se establce conexión con Google Drive para acceder al dataset \n",
        "from google.colab import drive\n",
        "drive.mount('/content/gdrive')"
      ],
      "execution_count": 1,
      "outputs": []
    },
    {
      "cell_type": "markdown",
      "metadata": {
        "id": "ps4D6hJupQWz"
      },
      "source": [
        "Antes de iniciar el proceso, se procede a instalar e importar las librerías necesarias para poder llevar a cabo el proyecto."
      ]
    },
    {
      "cell_type": "code",
      "metadata": {
        "id": "metropolitan-april"
      },
      "source": [
        "#! pip install contexto\n",
        "#! python -m spacy download es_core_news_md\n",
        "#!pip install pyLDAvis"
      ],
      "execution_count": 2,
      "outputs": []
    },
    {
      "cell_type": "code",
      "metadata": {
        "id": "residential-carnival"
      },
      "source": [
        "# Librerías para tratamiento, limpieza y visualización de datos\n",
        "import numpy as np\n",
        "import pandas as pd\n",
        "import re\n",
        "import string\n",
        "from unicodedata import normalize\n",
        "import matplotlib.pyplot as plt\n",
        "import seaborn as sns\n",
        "sns.set()\n",
        "\n",
        "# Librerías para procesamiento de texto y modelado de temas: SpaCy, ConTexto y Gensim\n",
        "# Para mayor comprensión, en el transcurso del proyecto se irán importando los módulos a utilizar."
      ],
      "execution_count": 3,
      "outputs": []
    },
    {
      "cell_type": "markdown",
      "metadata": {
        "id": "brazilian-organization"
      },
      "source": [
        "## **1. Carga de Datos**\n",
        "\n",
        "Se cargan los datasets de entrenamiento y de testeo."
      ]
    },
    {
      "cell_type": "code",
      "metadata": {
        "colab": {
          "base_uri": "https://localhost:8080/",
          "height": 204
        },
        "id": "indoor-attitude",
        "outputId": "e87b0a99-5ccf-494b-a293-48fc14de9c72"
      },
      "source": [
        "data_train = pd.read_json('/content/gdrive/MyDrive/PROYECTO NLP/dataset_es_dev.json', lines= True)\n",
        "data_train.head()"
      ],
      "execution_count": 4,
      "outputs": [
        {
          "output_type": "execute_result",
          "data": {
            "text/html": [
              "<div>\n",
              "<style scoped>\n",
              "    .dataframe tbody tr th:only-of-type {\n",
              "        vertical-align: middle;\n",
              "    }\n",
              "\n",
              "    .dataframe tbody tr th {\n",
              "        vertical-align: top;\n",
              "    }\n",
              "\n",
              "    .dataframe thead th {\n",
              "        text-align: right;\n",
              "    }\n",
              "</style>\n",
              "<table border=\"1\" class=\"dataframe\">\n",
              "  <thead>\n",
              "    <tr style=\"text-align: right;\">\n",
              "      <th></th>\n",
              "      <th>review_id</th>\n",
              "      <th>product_id</th>\n",
              "      <th>reviewer_id</th>\n",
              "      <th>stars</th>\n",
              "      <th>review_body</th>\n",
              "      <th>review_title</th>\n",
              "      <th>language</th>\n",
              "      <th>product_category</th>\n",
              "    </tr>\n",
              "  </thead>\n",
              "  <tbody>\n",
              "    <tr>\n",
              "      <th>0</th>\n",
              "      <td>es_0417480</td>\n",
              "      <td>product_es_0873923</td>\n",
              "      <td>reviewer_es_0672978</td>\n",
              "      <td>1</td>\n",
              "      <td>Malisimo, muy grande demasiado aparatoso y mal...</td>\n",
              "      <td>Mala compra</td>\n",
              "      <td>es</td>\n",
              "      <td>wireless</td>\n",
              "    </tr>\n",
              "    <tr>\n",
              "      <th>1</th>\n",
              "      <td>es_0180432</td>\n",
              "      <td>product_es_0713146</td>\n",
              "      <td>reviewer_es_0100858</td>\n",
              "      <td>1</td>\n",
              "      <td>No he recibido el pedido no la devolución</td>\n",
              "      <td>No lo he recibido</td>\n",
              "      <td>es</td>\n",
              "      <td>apparel</td>\n",
              "    </tr>\n",
              "    <tr>\n",
              "      <th>2</th>\n",
              "      <td>es_0144850</td>\n",
              "      <td>product_es_0356874</td>\n",
              "      <td>reviewer_es_0486447</td>\n",
              "      <td>1</td>\n",
              "      <td>Tengo que buscar otro sistema, este no funcion...</td>\n",
              "      <td>Que no aprieta bien en el manillar</td>\n",
              "      <td>es</td>\n",
              "      <td>sports</td>\n",
              "    </tr>\n",
              "    <tr>\n",
              "      <th>3</th>\n",
              "      <td>es_0339629</td>\n",
              "      <td>product_es_0939832</td>\n",
              "      <td>reviewer_es_0894703</td>\n",
              "      <td>1</td>\n",
              "      <td>Utilicé las brocas de menor diámetro y se me d...</td>\n",
              "      <td>Brocas de mantequilla</td>\n",
              "      <td>es</td>\n",
              "      <td>home_improvement</td>\n",
              "    </tr>\n",
              "    <tr>\n",
              "      <th>4</th>\n",
              "      <td>es_0858362</td>\n",
              "      <td>product_es_0489066</td>\n",
              "      <td>reviewer_es_0887663</td>\n",
              "      <td>1</td>\n",
              "      <td>No me gusta su olor a viejo y aspecto malo</td>\n",
              "      <td>No me gusta</td>\n",
              "      <td>es</td>\n",
              "      <td>beauty</td>\n",
              "    </tr>\n",
              "  </tbody>\n",
              "</table>\n",
              "</div>"
            ],
            "text/plain": [
              "    review_id          product_id  ... language  product_category\n",
              "0  es_0417480  product_es_0873923  ...       es          wireless\n",
              "1  es_0180432  product_es_0713146  ...       es           apparel\n",
              "2  es_0144850  product_es_0356874  ...       es            sports\n",
              "3  es_0339629  product_es_0939832  ...       es  home_improvement\n",
              "4  es_0858362  product_es_0489066  ...       es            beauty\n",
              "\n",
              "[5 rows x 8 columns]"
            ]
          },
          "metadata": {
            "tags": []
          },
          "execution_count": 4
        }
      ]
    },
    {
      "cell_type": "code",
      "metadata": {
        "colab": {
          "base_uri": "https://localhost:8080/",
          "height": 238
        },
        "id": "caroline-trouble",
        "outputId": "b31631a7-d705-485e-e41b-bf3e488adc64"
      },
      "source": [
        "data_test = pd.read_json('/content/gdrive/MyDrive/PROYECTO NLP/dataset_es_test.json', lines= True)\n",
        "data_test.head()"
      ],
      "execution_count": 5,
      "outputs": [
        {
          "output_type": "execute_result",
          "data": {
            "text/html": [
              "<div>\n",
              "<style scoped>\n",
              "    .dataframe tbody tr th:only-of-type {\n",
              "        vertical-align: middle;\n",
              "    }\n",
              "\n",
              "    .dataframe tbody tr th {\n",
              "        vertical-align: top;\n",
              "    }\n",
              "\n",
              "    .dataframe thead th {\n",
              "        text-align: right;\n",
              "    }\n",
              "</style>\n",
              "<table border=\"1\" class=\"dataframe\">\n",
              "  <thead>\n",
              "    <tr style=\"text-align: right;\">\n",
              "      <th></th>\n",
              "      <th>review_id</th>\n",
              "      <th>product_id</th>\n",
              "      <th>reviewer_id</th>\n",
              "      <th>stars</th>\n",
              "      <th>review_body</th>\n",
              "      <th>review_title</th>\n",
              "      <th>language</th>\n",
              "      <th>product_category</th>\n",
              "    </tr>\n",
              "  </thead>\n",
              "  <tbody>\n",
              "    <tr>\n",
              "      <th>0</th>\n",
              "      <td>es_0038754</td>\n",
              "      <td>product_es_0113523</td>\n",
              "      <td>reviewer_es_0580071</td>\n",
              "      <td>1</td>\n",
              "      <td>no me llego el articulo me lo mando por correo...</td>\n",
              "      <td>no me llego</td>\n",
              "      <td>es</td>\n",
              "      <td>wireless</td>\n",
              "    </tr>\n",
              "    <tr>\n",
              "      <th>1</th>\n",
              "      <td>es_0748979</td>\n",
              "      <td>product_es_0017036</td>\n",
              "      <td>reviewer_es_0819733</td>\n",
              "      <td>1</td>\n",
              "      <td>la mensajería horrible, no compro mas</td>\n",
              "      <td>amazon sigue sin cumplir en las entregas</td>\n",
              "      <td>es</td>\n",
              "      <td>home</td>\n",
              "    </tr>\n",
              "    <tr>\n",
              "      <th>2</th>\n",
              "      <td>es_0411746</td>\n",
              "      <td>product_es_0138642</td>\n",
              "      <td>reviewer_es_0508607</td>\n",
              "      <td>1</td>\n",
              "      <td>Estoy muy decepcionado con el vendedor ya que ...</td>\n",
              "      <td>ESTAFA EN EL ENVÍO</td>\n",
              "      <td>es</td>\n",
              "      <td>toy</td>\n",
              "    </tr>\n",
              "    <tr>\n",
              "      <th>3</th>\n",
              "      <td>es_0786686</td>\n",
              "      <td>product_es_0170887</td>\n",
              "      <td>reviewer_es_0491157</td>\n",
              "      <td>1</td>\n",
              "      <td>Mi valoración no es sobre el producto sino sob...</td>\n",
              "      <td>Estafa de Amazon</td>\n",
              "      <td>es</td>\n",
              "      <td>home</td>\n",
              "    </tr>\n",
              "    <tr>\n",
              "      <th>4</th>\n",
              "      <td>es_0429700</td>\n",
              "      <td>product_es_0710642</td>\n",
              "      <td>reviewer_es_0008745</td>\n",
              "      <td>1</td>\n",
              "      <td>Pues tenía interés en este libro y probé la ve...</td>\n",
              "      <td>No conseguí pasar de la portada en Kindle</td>\n",
              "      <td>es</td>\n",
              "      <td>digital_ebook_purchase</td>\n",
              "    </tr>\n",
              "  </tbody>\n",
              "</table>\n",
              "</div>"
            ],
            "text/plain": [
              "    review_id          product_id  ... language        product_category\n",
              "0  es_0038754  product_es_0113523  ...       es                wireless\n",
              "1  es_0748979  product_es_0017036  ...       es                    home\n",
              "2  es_0411746  product_es_0138642  ...       es                     toy\n",
              "3  es_0786686  product_es_0170887  ...       es                    home\n",
              "4  es_0429700  product_es_0710642  ...       es  digital_ebook_purchase\n",
              "\n",
              "[5 rows x 8 columns]"
            ]
          },
          "metadata": {
            "tags": []
          },
          "execution_count": 5
        }
      ]
    },
    {
      "cell_type": "code",
      "metadata": {
        "colab": {
          "base_uri": "https://localhost:8080/"
        },
        "id": "facial-alcohol",
        "outputId": "3344cef7-f3af-484a-f88a-c465e164f0a0"
      },
      "source": [
        "# Se revisa la forma del dataframe para saber con cuántos datos contamos\n",
        "data_train.shape, data_test.shape"
      ],
      "execution_count": 6,
      "outputs": [
        {
          "output_type": "execute_result",
          "data": {
            "text/plain": [
              "((5000, 8), (5000, 8))"
            ]
          },
          "metadata": {
            "tags": []
          },
          "execution_count": 6
        }
      ]
    },
    {
      "cell_type": "markdown",
      "metadata": {
        "id": "essential-monster"
      },
      "source": [
        "Se unifican los dataset de entrenamiento y de testeo."
      ]
    },
    {
      "cell_type": "code",
      "metadata": {
        "colab": {
          "base_uri": "https://localhost:8080/",
          "height": 204
        },
        "id": "available-bacon",
        "outputId": "c6d541fe-66f4-485d-9c1f-17a658bb3f26"
      },
      "source": [
        "data = pd.concat([data_train,data_test], ignore_index = True )\n",
        "data.head()"
      ],
      "execution_count": 7,
      "outputs": [
        {
          "output_type": "execute_result",
          "data": {
            "text/html": [
              "<div>\n",
              "<style scoped>\n",
              "    .dataframe tbody tr th:only-of-type {\n",
              "        vertical-align: middle;\n",
              "    }\n",
              "\n",
              "    .dataframe tbody tr th {\n",
              "        vertical-align: top;\n",
              "    }\n",
              "\n",
              "    .dataframe thead th {\n",
              "        text-align: right;\n",
              "    }\n",
              "</style>\n",
              "<table border=\"1\" class=\"dataframe\">\n",
              "  <thead>\n",
              "    <tr style=\"text-align: right;\">\n",
              "      <th></th>\n",
              "      <th>review_id</th>\n",
              "      <th>product_id</th>\n",
              "      <th>reviewer_id</th>\n",
              "      <th>stars</th>\n",
              "      <th>review_body</th>\n",
              "      <th>review_title</th>\n",
              "      <th>language</th>\n",
              "      <th>product_category</th>\n",
              "    </tr>\n",
              "  </thead>\n",
              "  <tbody>\n",
              "    <tr>\n",
              "      <th>0</th>\n",
              "      <td>es_0417480</td>\n",
              "      <td>product_es_0873923</td>\n",
              "      <td>reviewer_es_0672978</td>\n",
              "      <td>1</td>\n",
              "      <td>Malisimo, muy grande demasiado aparatoso y mal...</td>\n",
              "      <td>Mala compra</td>\n",
              "      <td>es</td>\n",
              "      <td>wireless</td>\n",
              "    </tr>\n",
              "    <tr>\n",
              "      <th>1</th>\n",
              "      <td>es_0180432</td>\n",
              "      <td>product_es_0713146</td>\n",
              "      <td>reviewer_es_0100858</td>\n",
              "      <td>1</td>\n",
              "      <td>No he recibido el pedido no la devolución</td>\n",
              "      <td>No lo he recibido</td>\n",
              "      <td>es</td>\n",
              "      <td>apparel</td>\n",
              "    </tr>\n",
              "    <tr>\n",
              "      <th>2</th>\n",
              "      <td>es_0144850</td>\n",
              "      <td>product_es_0356874</td>\n",
              "      <td>reviewer_es_0486447</td>\n",
              "      <td>1</td>\n",
              "      <td>Tengo que buscar otro sistema, este no funcion...</td>\n",
              "      <td>Que no aprieta bien en el manillar</td>\n",
              "      <td>es</td>\n",
              "      <td>sports</td>\n",
              "    </tr>\n",
              "    <tr>\n",
              "      <th>3</th>\n",
              "      <td>es_0339629</td>\n",
              "      <td>product_es_0939832</td>\n",
              "      <td>reviewer_es_0894703</td>\n",
              "      <td>1</td>\n",
              "      <td>Utilicé las brocas de menor diámetro y se me d...</td>\n",
              "      <td>Brocas de mantequilla</td>\n",
              "      <td>es</td>\n",
              "      <td>home_improvement</td>\n",
              "    </tr>\n",
              "    <tr>\n",
              "      <th>4</th>\n",
              "      <td>es_0858362</td>\n",
              "      <td>product_es_0489066</td>\n",
              "      <td>reviewer_es_0887663</td>\n",
              "      <td>1</td>\n",
              "      <td>No me gusta su olor a viejo y aspecto malo</td>\n",
              "      <td>No me gusta</td>\n",
              "      <td>es</td>\n",
              "      <td>beauty</td>\n",
              "    </tr>\n",
              "  </tbody>\n",
              "</table>\n",
              "</div>"
            ],
            "text/plain": [
              "    review_id          product_id  ... language  product_category\n",
              "0  es_0417480  product_es_0873923  ...       es          wireless\n",
              "1  es_0180432  product_es_0713146  ...       es           apparel\n",
              "2  es_0144850  product_es_0356874  ...       es            sports\n",
              "3  es_0339629  product_es_0939832  ...       es  home_improvement\n",
              "4  es_0858362  product_es_0489066  ...       es            beauty\n",
              "\n",
              "[5 rows x 8 columns]"
            ]
          },
          "metadata": {
            "tags": []
          },
          "execution_count": 7
        }
      ]
    },
    {
      "cell_type": "code",
      "metadata": {
        "colab": {
          "base_uri": "https://localhost:8080/"
        },
        "id": "decent-frost",
        "outputId": "6bdfcfbf-8222-4914-af8d-5259fc841763"
      },
      "source": [
        "# Se revisa la forma del nuevo dataset\n",
        "data.shape"
      ],
      "execution_count": 8,
      "outputs": [
        {
          "output_type": "execute_result",
          "data": {
            "text/plain": [
              "(10000, 8)"
            ]
          },
          "metadata": {
            "tags": []
          },
          "execution_count": 8
        }
      ]
    },
    {
      "cell_type": "code",
      "metadata": {
        "colab": {
          "base_uri": "https://localhost:8080/"
        },
        "id": "sonic-issue",
        "outputId": "5f49425b-ed9b-4b5f-acd5-066ef54552fc"
      },
      "source": [
        "# Se verifica si hay valores faltantes\n",
        "print(data.isna().sum())"
      ],
      "execution_count": 9,
      "outputs": [
        {
          "output_type": "stream",
          "text": [
            "review_id           0\n",
            "product_id          0\n",
            "reviewer_id         0\n",
            "stars               0\n",
            "review_body         0\n",
            "review_title        0\n",
            "language            0\n",
            "product_category    0\n",
            "dtype: int64\n"
          ],
          "name": "stdout"
        }
      ]
    },
    {
      "cell_type": "markdown",
      "metadata": {
        "id": "MN5blG-kPh5-"
      },
      "source": [
        "## **2. Limpieza y pre-procesamiento de datos**\n"
      ]
    },
    {
      "cell_type": "markdown",
      "metadata": {
        "id": "X5aHFfzwQvYz"
      },
      "source": [
        "### **Primera función de limpieza:**\n",
        "\n",
        "Se crea una primera función de limpieza donde se eliminan emoticones, signos de puntuación, dígitos y errores tipográficos."
      ]
    },
    {
      "cell_type": "code",
      "metadata": {
        "id": "adverse-lightning"
      },
      "source": [
        "re_punc = re.compile(\"([\\\"\\''().,;:/_¿?¡!—\\-])\") # Agrega espacios alrededor de la puntuación\n",
        "\n",
        "re_mult_space = re.compile(r\"  *\") # Reemplaza multiples espacios con solo uno\n",
        "\n",
        "# Pattern para remover los emoticones. Referencia: https://gist.github.com/slowkow/7a7f61f495e3dbb7e3d767f97bd7304b\n",
        "emoji_pattern = re.compile(\"[\"\n",
        "                               u\"\\U0001F600-\\U0001F64F\"  # emoticons\n",
        "                               u\"\\U0001F300-\\U0001F5FF\"  # symbols & pictographs\n",
        "                               u\"\\U0001F680-\\U0001F6FF\"  # transport & map symbols\n",
        "                               u\"\\U0001F1E0-\\U0001F1FF\"  # flags (iOS)\n",
        "                               u\"\\U00002500-\\U00002BEF\"  # chinese char\n",
        "                               u\"\\U00002702-\\U000027B0\"\n",
        "                               u\"\\U00002702-\\U000027B0\"\n",
        "                               u\"\\U000024C2-\\U0001F251\"\n",
        "                               u\"\\U0001f926-\\U0001f937\"\n",
        "                               u\"\\U00010000-\\U0010ffff\"\n",
        "                               u\"\\u2640-\\u2642\"\n",
        "                               u\"\\u2600-\\u2B55\"\n",
        "                               u\"\\u200d\"\n",
        "                               u\"\\u23cf\"\n",
        "                               u\"\\u23e9\"\n",
        "                               u\"\\u231a\"\n",
        "                               u\"\\ufe0f\"  # dingbats\n",
        "                               u\"\\u3030\"\n",
        "                               \"]+\", flags=re.UNICODE)\n",
        "\n",
        "\n",
        "def clean_text1(text):\n",
        "    text = re_punc.sub(r\" \\1 \", text) # Agrega espacios alrededor de la puntuación para corregir por ej: pero,no\n",
        "    text = re.sub('\\w*\\d\\w*', '', text) # Remueve todos los dígitos\n",
        "    text = emoji_pattern.sub(r'', text) # Remueve todos los emoticones\n",
        "    # Remueve todas las puntuaciones incluyendo los signos que no están en la librería string y se convierte texto a minúsculas\n",
        "    text = re.sub('[%s]' % re.escape(string.punctuation + '¡¿°€ª”'), '', text.lower())\n",
        "    text = re.sub(\"(.)\\\\1{2,}\", \"\\\\1\", text) # Cuando encuentra 3 letras juntas o más, las remueve y deja solo una. Ej: noooo\n",
        "    text = re_mult_space.sub(' ', text) # Reemplaza múltiples espacios con solo uno\n",
        "    return text"
      ],
      "execution_count": 10,
      "outputs": []
    },
    {
      "cell_type": "code",
      "metadata": {
        "colab": {
          "base_uri": "https://localhost:8080/",
          "height": 35
        },
        "id": "cosmetic-masters",
        "outputId": "72e8d235-4fce-476b-8ea7-e8714951a85c"
      },
      "source": [
        "# Se toma un ejemplo para probar la función\n",
        "\n",
        "clean_text1(\"400€ muyyyyy carooo ✊ 😜 😡 coordinar por 2ª vez, pero,NO   me gusta\")"
      ],
      "execution_count": 11,
      "outputs": [
        {
          "output_type": "execute_result",
          "data": {
            "application/vnd.google.colaboratory.intrinsic+json": {
              "type": "string"
            },
            "text/plain": [
              "' muy caro coordinar por vez pero no me gusta'"
            ]
          },
          "metadata": {
            "tags": []
          },
          "execution_count": 11
        }
      ]
    },
    {
      "cell_type": "code",
      "metadata": {
        "colab": {
          "base_uri": "https://localhost:8080/"
        },
        "id": "visible-brief",
        "outputId": "49baadfe-cf7d-4e6b-a6df-29a95acf5725"
      },
      "source": [
        "%%time\n",
        "# Se aplica la función clean_text1 sobre todo el dataset\n",
        "data['review_body'] = data['review_body'].apply(lambda x: clean_text1(x))"
      ],
      "execution_count": 12,
      "outputs": [
        {
          "output_type": "stream",
          "text": [
            "CPU times: user 712 ms, sys: 3.26 ms, total: 716 ms\n",
            "Wall time: 720 ms\n"
          ],
          "name": "stdout"
        }
      ]
    },
    {
      "cell_type": "markdown",
      "metadata": {
        "id": "BHO-D8g8P2Zr"
      },
      "source": [
        " ### **Se eliminan stopwords**\n",
        "\n",
        " De la librería de ConTexto y el módulo de limpieza, se importa la lista de stopwords, se agregan y se eliminan algunas palabras a esta lista."
      ]
    },
    {
      "cell_type": "code",
      "metadata": {
        "id": "pressed-march"
      },
      "source": [
        "# Del módulo limpieza de ConTexto se importa el listado de las stopwords\n",
        "from contexto.limpieza import lista_stopwords"
      ],
      "execution_count": 13,
      "outputs": []
    },
    {
      "cell_type": "code",
      "metadata": {
        "colab": {
          "base_uri": "https://localhost:8080/"
        },
        "id": "manual-collective",
        "outputId": "e99f7935-5b2b-47d8-f17b-b35d9df6d6ed"
      },
      "source": [
        "# Se instancia el objeto y se cuentan cuántas palabras contiene la lista\n",
        "stopwords = lista_stopwords()\n",
        "print(len(stopwords))"
      ],
      "execution_count": 14,
      "outputs": [
        {
          "output_type": "stream",
          "text": [
            "350\n"
          ],
          "name": "stdout"
        }
      ]
    },
    {
      "cell_type": "markdown",
      "metadata": {
        "id": "three-trailer"
      },
      "source": [
        "**Se remueve de las stopwords la palabra 'no'**"
      ]
    },
    {
      "cell_type": "code",
      "metadata": {
        "colab": {
          "base_uri": "https://localhost:8080/"
        },
        "id": "sought-sampling",
        "outputId": "b7b65323-8a96-4aa7-a191-350f2a6de0d4"
      },
      "source": [
        "stopwords.remove('no')\n",
        "len(stopwords)"
      ],
      "execution_count": 15,
      "outputs": [
        {
          "output_type": "execute_result",
          "data": {
            "text/plain": [
              "349"
            ]
          },
          "metadata": {
            "tags": []
          },
          "execution_count": 15
        }
      ]
    },
    {
      "cell_type": "markdown",
      "metadata": {
        "id": "utility-basin"
      },
      "source": [
        "**Se agregan unas palabras adicionales a lista de stopwords**"
      ]
    },
    {
      "cell_type": "code",
      "metadata": {
        "colab": {
          "base_uri": "https://localhost:8080/"
        },
        "id": "involved-westminster",
        "outputId": "70bc7dd8-a910-4779-909a-dcfec8f03740"
      },
      "source": [
        "stopwords.append('q')\n",
        "stopwords.append('pekes')\n",
        "stopwords.append('peques')\n",
        "stopwords.append('xke')\n",
        "stopwords.append('x')\n",
        "stopwords.append('xq')\n",
        "stopwords.append('pq')\n",
        "stopwords.append('amazon')\n",
        "stopwords.append('mas')\n",
        "stopwords.append('hace')\n",
        "stopwords.append('puede')\n",
        "stopwords.append('va')\n",
        "stopwords.append('vez')\n",
        "stopwords.append('ser')\n",
        "stopwords.append('queda')\n",
        "stopwords.append('tal')\n",
        "stopwords.append('ve')\n",
        "stopwords.append('pantalla')\n",
        "stopwords.append('dos')\n",
        "stopwords.append('sé')\n",
        "stopwords.append('da')\n",
        "stopwords.append('después')\n",
        "stopwords.append('despues')\n",
        "stopwords.append('pelin')\n",
        "len(stopwords)"
      ],
      "execution_count": 16,
      "outputs": [
        {
          "output_type": "execute_result",
          "data": {
            "text/plain": [
              "373"
            ]
          },
          "metadata": {
            "tags": []
          },
          "execution_count": 16
        }
      ]
    },
    {
      "cell_type": "code",
      "metadata": {
        "colab": {
          "base_uri": "https://localhost:8080/"
        },
        "id": "organic-bulgarian",
        "outputId": "0d548b19-c2d0-409f-8dc2-ccad32723158"
      },
      "source": [
        "%%time\n",
        "# Se remueven las stopwords definidas de todo el dataset\n",
        "data['review_body'] = data['review_body'].apply(lambda x: \" \".join([t for t in x.split() if t not in stopwords]))"
      ],
      "execution_count": 17,
      "outputs": [
        {
          "output_type": "stream",
          "text": [
            "CPU times: user 1.11 s, sys: 3.33 ms, total: 1.12 s\n",
            "Wall time: 1.12 s\n"
          ],
          "name": "stdout"
        }
      ]
    },
    {
      "cell_type": "markdown",
      "metadata": {
        "id": "Ebgph6BmQ2jJ"
      },
      "source": [
        "### **Segunda función de limpieza:**\n",
        "\n",
        "Luego de haber eliminado las stopwords, se crea una segunda función de limpieza con la que se pretende reemplazar todas las vocales con tildes por su respectiva vocal sin tilde."
      ]
    },
    {
      "cell_type": "code",
      "metadata": {
        "id": "liable-sector"
      },
      "source": [
        "def clean_text2(text):\n",
        "    # Se reemplazan todas las letras que tienen tilde por letras sin tilde \n",
        "    text = re.sub(r\"([^n\\u0300-\\u036f]|n(?!\\u0303(?![\\u0300-\\u036f])))[\\u0300-\\u036f]+\", r\"\\1\", normalize( \"NFD\", text), 0, re.I)\n",
        "    text = normalize( 'NFC', text)\n",
        "    return text"
      ],
      "execution_count": 18,
      "outputs": []
    },
    {
      "cell_type": "code",
      "metadata": {
        "colab": {
          "base_uri": "https://localhost:8080/",
          "height": 35
        },
        "id": "inside-emphasis",
        "outputId": "94f381a7-1df8-43df-d890-a07e45116599"
      },
      "source": [
        "# Se toma un ejemplo para hacer una prueba de la función\n",
        "clean_text2(\"esta función debe quitar tildes PERO NO eñes á, é, í, ó, ú, Á, É, Í, Ó, Ú, EÑE...\")"
      ],
      "execution_count": 19,
      "outputs": [
        {
          "output_type": "execute_result",
          "data": {
            "application/vnd.google.colaboratory.intrinsic+json": {
              "type": "string"
            },
            "text/plain": [
              "'esta funcion debe quitar tildes PERO NO eñes a, e, i, o, u, A, E, I, O, U, EÑE...'"
            ]
          },
          "metadata": {
            "tags": []
          },
          "execution_count": 19
        }
      ]
    },
    {
      "cell_type": "code",
      "metadata": {
        "colab": {
          "base_uri": "https://localhost:8080/"
        },
        "id": "expected-sleeping",
        "outputId": "e6672f0c-e1e6-4986-ea53-fb9e7ee3cbb1"
      },
      "source": [
        "%%time\n",
        "# Se aplica la función clean_text2 sobre todo el dataset\n",
        "data['review_body'] = data['review_body'].apply(lambda x: clean_text2(x))"
      ],
      "execution_count": 20,
      "outputs": [
        {
          "output_type": "stream",
          "text": [
            "CPU times: user 206 ms, sys: 0 ns, total: 206 ms\n",
            "Wall time: 208 ms\n"
          ],
          "name": "stdout"
        }
      ]
    },
    {
      "cell_type": "markdown",
      "metadata": {
        "id": "recreational-affiliate"
      },
      "source": [
        "### **Se eliminan todas las palabras que aparecen menos de 20 veces**\n",
        "\n",
        "Se eliminarán aquellas palabras muy poco empleadas en las reviews y para ello se asumió que aquellas palabras que aparecen entre 1 y 20 veces podrían eliminarse toda vez que es un rango razonable, por ser poco representativo respecto a la base total de palabras que son 131.159, tal como se mencionó en el proyecto [Procesamiento del Lenguaje Natural](https://nbviewer.jupyter.org/github/juli-amezquita/NLP-Amazon-Reviews-Star-Prediction/blob/main/1_NLP%20Amazon%20Reviews%20Espan%CC%83ol.ipynb)."
      ]
    },
    {
      "cell_type": "code",
      "metadata": {
        "id": "sStAzApw6mne"
      },
      "source": [
        "# Se crea una variable 'texto' que nos permite juntar el texto de todas las reviews en uno solo\n",
        "texto = ' '.join(data['review_body'])\n",
        "#texto"
      ],
      "execution_count": 21,
      "outputs": []
    },
    {
      "cell_type": "code",
      "metadata": {
        "id": "o5n0DCvH7lYb"
      },
      "source": [
        "# Esta línea nos permite dividir el texto completo en palabras el cual se pone en una lista\n",
        "split_texto = texto.split()\n",
        "#split_texto"
      ],
      "execution_count": 22,
      "outputs": []
    },
    {
      "cell_type": "code",
      "metadata": {
        "id": "kY9fNfZQ7sqq"
      },
      "source": [
        "freq_words = pd.Series(split_texto).value_counts()"
      ],
      "execution_count": 23,
      "outputs": []
    },
    {
      "cell_type": "code",
      "metadata": {
        "colab": {
          "base_uri": "https://localhost:8080/"
        },
        "id": "Cb0fNfeI7xpD",
        "outputId": "7baf04bf-f10b-47e5-94bc-dacb9724bea5"
      },
      "source": [
        "# Cantidad total de palabras que aparecen de 1 a 20 veces \n",
        "freq20 = freq_words[freq_words.values <= 20]\n",
        "freq20.sum()"
      ],
      "execution_count": 24,
      "outputs": [
        {
          "output_type": "execute_result",
          "data": {
            "text/plain": [
              "40370"
            ]
          },
          "metadata": {
            "tags": []
          },
          "execution_count": 24
        }
      ]
    },
    {
      "cell_type": "code",
      "metadata": {
        "colab": {
          "base_uri": "https://localhost:8080/"
        },
        "id": "prostate-packaging",
        "outputId": "59493a48-55b7-4a15-8644-aa292ce8b34d"
      },
      "source": [
        "%%time \n",
        "# Se remueven las palabras que aparecen de 1 a 20 veces\n",
        "data['review_body'] = data['review_body'].apply(lambda x: \" \".join([t for t in x.split() if t not in freq20]))"
      ],
      "execution_count": 25,
      "outputs": [
        {
          "output_type": "stream",
          "text": [
            "CPU times: user 177 ms, sys: 831 µs, total: 178 ms\n",
            "Wall time: 180 ms\n"
          ],
          "name": "stdout"
        }
      ]
    },
    {
      "cell_type": "markdown",
      "metadata": {
        "id": "hyqrqR1rRe4M"
      },
      "source": [
        "### **Función de Lematización:**\n",
        "\n",
        "Se crea una función de lematización utilizando la librería SpaCy en la que se tiene la posibilidad de decidir si se quieren utilizar o no los sustantivos, adjetivos, adverbios y verbos. Para este caso y después de haber hecho varias pruebas se decide utilizar todas estas opciones, ya que contribuyen al mejor entendimiento e inferencia de los temas para el momento en el que se corran los modelos.\n",
        "\n",
        "Para crear esta función se utiliza la librería Spacy y se descarga el modelo mediano de español, el cual fue previamente instalado al inicio de este proyecto."
      ]
    },
    {
      "cell_type": "code",
      "metadata": {
        "id": "QRxJe1NPGBZd"
      },
      "source": [
        "import spacy \n",
        "import es_core_news_md\n",
        "\n",
        "# Se carga el modelo mediano de español\n",
        "nlp = es_core_news_md.load()\n",
        "# Se aumenta el límite máximo de NLP de SpaCy\n",
        "nlp.max_length = 1950000 "
      ],
      "execution_count": 26,
      "outputs": []
    },
    {
      "cell_type": "code",
      "metadata": {
        "id": "yvpNDESlvOQr"
      },
      "source": [
        "def lemmatization(texts, allowed=['NOUN', 'ADJ', 'ADV', 'VERB']): \n",
        "    texts_out = [token.text for token in nlp(texts) if token.pos_ in \n",
        "                 allowed and token.text and len(token.text)>2]\n",
        "    return texts_out"
      ],
      "execution_count": 27,
      "outputs": []
    },
    {
      "cell_type": "code",
      "metadata": {
        "id": "I_4lgK7xgPag",
        "colab": {
          "base_uri": "https://localhost:8080/"
        },
        "outputId": "8bb15e10-72b7-4a92-9b99-a55566828255"
      },
      "source": [
        "%%time\n",
        "# Se aplica la función lemmatization sobre todo el dataset\n",
        "data['review_body'] = data['review_body'].apply(lambda x: lemmatization(x))"
      ],
      "execution_count": 28,
      "outputs": [
        {
          "output_type": "stream",
          "text": [
            "CPU times: user 2min 11s, sys: 115 ms, total: 2min 11s\n",
            "Wall time: 2min 12s\n"
          ],
          "name": "stdout"
        }
      ]
    },
    {
      "cell_type": "markdown",
      "metadata": {
        "id": "ptlSsy7fX9vp"
      },
      "source": [
        "### **Preparar el Corpus**\n",
        "\n",
        "Para construir los modelos con Gensim, necesitamos alimentar el corpus en forma de un diccionario utilizando el método de Bag of words (BOW) o el método TF-IDF (Term Frequency - Inverse Document Frequency). \n",
        "\n",
        "El diccionario en este caso, corresponde a un \"mapeo\" entre las palabras y su respectiva identifión con un vector de números, ya que como bien se sabe, los algorítmos de Machine Learning no pueden interpretar las palabras y documentos tal como son sino que lo hacen a través de vectores. \n",
        "\n",
        "Para nuestro proyecto se ha decidido utilizar el método TF-IDF."
      ]
    },
    {
      "cell_type": "code",
      "metadata": {
        "id": "Md1Nxm-DYN_y"
      },
      "source": [
        "from gensim.corpora import Dictionary\n",
        "\n",
        "# Se instancia y se define nuestro diccionario\n",
        "dictionary = Dictionary(data['review_body'].to_list())\n",
        "dictionary.compactify()\n",
        "\n",
        "# Gensim filter_extremes\n",
        "# Filtra los tokens que aparecen en menos de 100 documentos (número absoluto) o más del 0.97 documentos(fracción del tamaño total del corpus)\n",
        "# después de los dos pasos anteriores, conserva todos los tokens más frecuentes.\n",
        "dictionary.filter_extremes(no_below=100, no_above=0.97, keep_n=None)\n",
        "dictionary.compactify()\n",
        "\n",
        "# Para cada documento creamos un diccionario que informa cuántas palabras y cuántas veces aparecen esas palabras (doc2bow)\n",
        "bow_corpus = [dictionary.doc2bow(review_body) for review_body in data['review_body'].to_list()]"
      ],
      "execution_count": 29,
      "outputs": []
    },
    {
      "cell_type": "markdown",
      "metadata": {
        "id": "b7Gj0zk6ZGie"
      },
      "source": [
        "A continuación se crea un modelo TF-IDF utilizando el módulo \"models\" de Gensim (TfidfModel) sobre \"bow_corpus\", luego se aplica la transformación a todo el corpus."
      ]
    },
    {
      "cell_type": "code",
      "metadata": {
        "id": "z9_UMlvKY7lD"
      },
      "source": [
        "from gensim.models import TfidfModel\n",
        "tfidf = TfidfModel(bow_corpus)\n",
        "corpus_tfidf = tfidf[bow_corpus]"
      ],
      "execution_count": 30,
      "outputs": []
    },
    {
      "cell_type": "markdown",
      "metadata": {
        "id": "kK3S4pEzfci6"
      },
      "source": [
        "## **3. Ejecución de Modelos**\n",
        "\n",
        "Con nuestro diccionario listo podemos pasar a ejecutar nuestros modelos. Para este trabajo se emplearán 3 modelos con el propósito de poder comparar cuál de ellos realiza un mejor trabajo en la determinación de los temas. Los 3 modelos son los siguientes: Latent Dirichlet Allocation (LDA), Latent Semantic Analysis (LSA) y Hierarchical Dirichlet Process (HDP).\n"
      ]
    },
    {
      "cell_type": "code",
      "metadata": {
        "id": "EZ7ddb-bodu4"
      },
      "source": [
        "# Se importan los modelos\n",
        "from gensim.models import CoherenceModel, LdaModel, LsiModel, HdpModel"
      ],
      "execution_count": 31,
      "outputs": []
    },
    {
      "cell_type": "markdown",
      "metadata": {
        "id": "mJAVGxWsmaWm"
      },
      "source": [
        "### **Modelo 1: Hierarchical Dirichlet Process (HDP)**\n",
        "\n",
        "El modelo HDP utiliza un enfoque bayesiano no paramétrico para agrupar textos, básicamente, entrenar un modelo de este tipo en el contexto de modelado de temas, significa que lo que hará el modelo es tratar de aprender o inferir la distribución de los temas no observados. \n",
        "\n",
        "A diferencia de los otros modelos que se utilizarán en este proyecto, el modelo HDP infiere la cantidad de temas a partir de los datos y no es necesario que nosotros los proporcionemos, como si aplica para los otros modelos.\n",
        "\n",
        "Para implementar HDP utilizando Gensim, necesitamos entrenar el corpus y el diccionario (como se hizo en el paso anteior).\n",
        "\n"
      ]
    },
    {
      "cell_type": "code",
      "metadata": {
        "id": "IjmSYbQOoNMK",
        "colab": {
          "base_uri": "https://localhost:8080/"
        },
        "outputId": "5b9f907f-7104-4074-c840-045732337ed1"
      },
      "source": [
        "%%time\n",
        "# Se entrena el modelo HDP\n",
        "hdpmodel = HdpModel(corpus=corpus_tfidf, id2word=dictionary, random_state= 42)"
      ],
      "execution_count": 32,
      "outputs": [
        {
          "output_type": "stream",
          "text": [
            "CPU times: user 16.7 s, sys: 8.97 ms, total: 16.7 s\n",
            "Wall time: 16.8 s\n"
          ],
          "name": "stdout"
        }
      ]
    },
    {
      "cell_type": "code",
      "metadata": {
        "colab": {
          "base_uri": "https://localhost:8080/"
        },
        "id": "eJrUY5SK3mJt",
        "outputId": "2fac82e4-7cf3-4468-cfd8-c1ad646fd7f8"
      },
      "source": [
        "# Se imprimen los temas haciendo uso del método show.topics\n",
        "topics_hdp = hdpmodel.show_topics()\n",
        "for topic in topics_hdp:\n",
        "    print(topic)"
      ],
      "execution_count": 33,
      "outputs": [
        {
          "output_type": "stream",
          "text": [
            "(0, '0.035*casi + 0.031*comodo + 0.030*ahora + 0.030*ajusta + 0.029*buena + 0.027*bueno + 0.025*agua + 0.025*carga + 0.022*casa + 0.022*ver + 0.020*tipo + 0.018*cristal + 0.017*igual + 0.017*mal + 0.016*recomendable + 0.016*luego + 0.016*diseño + 0.016*viene + 0.014*marca + 0.013*sonido')\n",
            "(1, '0.031*parte + 0.027*bien + 0.026*buen + 0.026*marca + 0.024*bastante + 0.023*gusto + 0.019*genial + 0.019*años + 0.018*gustado + 0.018*colores + 0.018*mal + 0.017*ver + 0.016*poder + 0.015*bonita + 0.015*perfecto + 0.015*recomendable + 0.015*recomiendo + 0.015*luego + 0.014*original + 0.014*tamaño')\n",
            "(2, '0.029*caso + 0.025*bueno + 0.023*pone + 0.022*pega + 0.021*usar + 0.019*calidad + 0.019*luz + 0.019*tiempo + 0.018*excelente + 0.017*perfectamente + 0.017*sonido + 0.016*diseño + 0.016*encantado + 0.015*roto + 0.014*uso + 0.014*producto + 0.014*precio + 0.014*solo + 0.013*ajusta + 0.013*talla')\n",
            "(3, '0.035*grande + 0.032*encima + 0.031*resistente + 0.029*bueno + 0.028*tampoco + 0.024*casa + 0.022*decir + 0.020*pena + 0.020*roto + 0.019*devolver + 0.018*casi + 0.016*llegar + 0.016*pega + 0.016*bateria + 0.015*recibido + 0.015*entrega + 0.015*mejor + 0.015*mala + 0.015*parte + 0.014*comodo')\n",
            "(4, '0.037*puesto + 0.033*pequeño + 0.032*siempre + 0.024*practico + 0.024*probado + 0.024*calidad + 0.022*buena + 0.021*ahora + 0.021*grande + 0.021*comodo + 0.018*mal + 0.016*mejor + 0.016*llevar + 0.016*funcionar + 0.016*correcto + 0.014*solo + 0.013*creo + 0.013*talla + 0.012*totalmente + 0.012*lleva')\n",
            "(5, '0.025*comprar + 0.025*perfectamente + 0.024*igual + 0.024*recibido + 0.023*buen + 0.020*llega + 0.020*pedir + 0.020*caro + 0.019*correctamente + 0.018*normal + 0.017*mal + 0.016*colores + 0.015*trae + 0.015*gustado + 0.015*luz + 0.014*mala + 0.014*devolver + 0.014*menos + 0.014*tener + 0.014*carga')\n",
            "(6, '0.047*probado + 0.033*semana + 0.029*parte + 0.025*encima + 0.025*tipo + 0.023*mejor + 0.021*solo + 0.020*llegado + 0.020*totalmente + 0.020*dinero + 0.019*gusta + 0.019*bastante + 0.018*llega + 0.017*usado + 0.017*tamaño + 0.017*carga + 0.017*deja + 0.016*vale + 0.015*momento + 0.014*funcionar')\n",
            "(7, '0.032*buena + 0.029*sido + 0.025*malo + 0.022*cuenta + 0.022*luego + 0.020*excelente + 0.020*ver + 0.019*espero + 0.019*dentro + 0.017*caja + 0.016*diseño + 0.016*caro + 0.016*comprado + 0.016*llegar + 0.015*foto + 0.015*material + 0.014*lleva + 0.014*compra + 0.014*perfectamente + 0.014*creo')\n",
            "(8, '0.034*viene + 0.027*gusta + 0.027*facil + 0.024*usar + 0.024*encantado + 0.023*sonido + 0.022*pedido + 0.020*espero + 0.017*luz + 0.017*instrucciones + 0.017*cuesta + 0.016*pega + 0.016*comodo + 0.015*bonita + 0.015*caso + 0.014*caro + 0.014*tener + 0.013*cumple + 0.013*caja + 0.012*recomiendo')\n",
            "(9, '0.035*espero + 0.030*hecho + 0.028*gusto + 0.022*llega + 0.022*sonido + 0.020*mejor + 0.020*cuesta + 0.019*excelente + 0.019*mala + 0.018*falta + 0.017*perfecto + 0.017*reloj + 0.016*llegado + 0.016*hora + 0.015*pequeños + 0.015*totalmente + 0.014*pedi + 0.014*vendedor + 0.013*funciona + 0.013*recomiendo')\n",
            "(10, '0.042*vale + 0.039*problemas + 0.037*contenta + 0.036*contento + 0.033*material + 0.023*llego + 0.022*excelente + 0.022*llegado + 0.021*sirve + 0.020*tamaño + 0.016*nunca + 0.016*devolver + 0.015*llega + 0.015*sido + 0.014*instrucciones + 0.014*años + 0.013*comodo + 0.013*hora + 0.013*ahora + 0.013*regalo')\n",
            "(11, '0.027*facil + 0.024*bateria + 0.024*reloj + 0.023*gusta + 0.022*malo + 0.021*puesto + 0.021*vale + 0.020*estrellas + 0.020*fotos + 0.019*usar + 0.019*calidad + 0.017*hora + 0.017*tampoco + 0.016*decir + 0.014*material + 0.014*veces + 0.014*duro + 0.014*resistente + 0.014*buen + 0.013*llegar')\n",
            "(12, '0.040*cuesta + 0.037*ver + 0.024*luego + 0.023*rapido + 0.023*pedi + 0.022*forma + 0.021*mala + 0.021*resistente + 0.021*llevar + 0.020*marca + 0.019*entrega + 0.018*buen + 0.018*poner + 0.017*tampoco + 0.017*totalmente + 0.017*probado + 0.016*pedido + 0.015*correctamente + 0.015*pequeños + 0.015*envio')\n",
            "(13, '0.034*luz + 0.029*trae + 0.027*espero + 0.027*compre + 0.026*vale + 0.023*pega + 0.023*bonito + 0.022*comprado + 0.020*verdad + 0.020*usado + 0.020*libro + 0.017*cristal + 0.016*nunca + 0.016*tiempo + 0.015*pedi + 0.014*ver + 0.013*original + 0.013*dinero + 0.013*hacer + 0.012*dura')\n",
            "(14, '0.036*gusto + 0.027*probado + 0.020*mal + 0.019*precio + 0.018*marca + 0.018*forma + 0.016*recomiendo + 0.016*bonito + 0.016*llegar + 0.016*igual + 0.014*facil + 0.014*perfecto + 0.013*mejor + 0.013*original + 0.013*dentro + 0.013*plastico + 0.013*foto + 0.013*pequeño + 0.012*pedido + 0.012*menos')\n",
            "(15, '0.035*rapido + 0.026*pone + 0.022*malo + 0.021*resistente + 0.021*pedir + 0.019*menos + 0.019*tener + 0.019*reloj + 0.019*tipo + 0.018*puesto + 0.016*igual + 0.016*mes + 0.015*precio + 0.015*casa + 0.015*ajusta + 0.014*gran + 0.014*verdad + 0.014*plastico + 0.013*contento + 0.013*pena')\n",
            "(16, '0.035*perfectamente + 0.031*regalo + 0.028*producto + 0.026*hacer + 0.024*cumple + 0.021*cuesta + 0.021*uso + 0.021*perfecto + 0.019*problema + 0.018*viene + 0.018*llegado + 0.017*poder + 0.017*pega + 0.016*momento + 0.016*carga + 0.016*ver + 0.013*vale + 0.013*buena + 0.013*pena + 0.013*parte')\n",
            "(17, '0.036*bateria + 0.030*entrega + 0.027*verdad + 0.026*malo + 0.023*buenos + 0.023*bonita + 0.022*veces + 0.020*cuenta + 0.019*practico + 0.018*primera + 0.018*perfecto + 0.017*diseño + 0.017*lleva + 0.016*parte + 0.016*estrellas + 0.016*luego + 0.015*problemas + 0.015*viene + 0.015*momento + 0.015*trae')\n",
            "(18, '0.037*luz + 0.030*meses + 0.025*demasiado + 0.024*compre + 0.024*totalmente + 0.023*encantado + 0.020*parte + 0.020*ver + 0.019*mal + 0.019*siempre + 0.019*igual + 0.019*espero + 0.018*momento + 0.017*funcionar + 0.016*correcto + 0.016*gran + 0.014*regalo + 0.014*ajusta + 0.013*caro + 0.013*estrellas')\n",
            "(19, '0.048*bien + 0.033*practico + 0.026*pone + 0.019*menos + 0.018*probado + 0.018*colores + 0.018*bateria + 0.018*material + 0.017*roto + 0.017*usado + 0.017*llegar + 0.016*vendedor + 0.016*pedido + 0.016*tamaño + 0.015*devolver + 0.015*entrega + 0.015*igual + 0.014*gusto + 0.014*nota + 0.014*diseño')\n"
          ],
          "name": "stdout"
        }
      ]
    },
    {
      "cell_type": "markdown",
      "metadata": {
        "id": "UF4BFJ52p6KX"
      },
      "source": [
        "Para visualizar los temas de manera ordenada se hace un ciclo for y se imprimen las palabras por tema en un DataFrame. En este caso, vamos a observar los 10 primeros temas arrojados por el modelo."
      ]
    },
    {
      "cell_type": "code",
      "metadata": {
        "colab": {
          "base_uri": "https://localhost:8080/",
          "height": 514
        },
        "id": "Z1-86QWk3s2i",
        "outputId": "a625d7d5-ada9-4395-a9ac-5e2518d27d7c"
      },
      "source": [
        "word_dict = {};\n",
        "for i in range(0,10):\n",
        "    words = hdpmodel.show_topic(i, topn = 15)\n",
        "    word_dict['Topic# ' + '{:02d}'.format(i+1)] = [i[0] for i in words]\n",
        "pd.DataFrame(word_dict)"
      ],
      "execution_count": 34,
      "outputs": [
        {
          "output_type": "execute_result",
          "data": {
            "text/html": [
              "<div>\n",
              "<style scoped>\n",
              "    .dataframe tbody tr th:only-of-type {\n",
              "        vertical-align: middle;\n",
              "    }\n",
              "\n",
              "    .dataframe tbody tr th {\n",
              "        vertical-align: top;\n",
              "    }\n",
              "\n",
              "    .dataframe thead th {\n",
              "        text-align: right;\n",
              "    }\n",
              "</style>\n",
              "<table border=\"1\" class=\"dataframe\">\n",
              "  <thead>\n",
              "    <tr style=\"text-align: right;\">\n",
              "      <th></th>\n",
              "      <th>Topic# 01</th>\n",
              "      <th>Topic# 02</th>\n",
              "      <th>Topic# 03</th>\n",
              "      <th>Topic# 04</th>\n",
              "      <th>Topic# 05</th>\n",
              "      <th>Topic# 06</th>\n",
              "      <th>Topic# 07</th>\n",
              "      <th>Topic# 08</th>\n",
              "      <th>Topic# 09</th>\n",
              "      <th>Topic# 10</th>\n",
              "    </tr>\n",
              "  </thead>\n",
              "  <tbody>\n",
              "    <tr>\n",
              "      <th>0</th>\n",
              "      <td>casi</td>\n",
              "      <td>parte</td>\n",
              "      <td>caso</td>\n",
              "      <td>grande</td>\n",
              "      <td>puesto</td>\n",
              "      <td>comprar</td>\n",
              "      <td>probado</td>\n",
              "      <td>buena</td>\n",
              "      <td>viene</td>\n",
              "      <td>espero</td>\n",
              "    </tr>\n",
              "    <tr>\n",
              "      <th>1</th>\n",
              "      <td>comodo</td>\n",
              "      <td>bien</td>\n",
              "      <td>bueno</td>\n",
              "      <td>encima</td>\n",
              "      <td>pequeño</td>\n",
              "      <td>perfectamente</td>\n",
              "      <td>semana</td>\n",
              "      <td>sido</td>\n",
              "      <td>gusta</td>\n",
              "      <td>hecho</td>\n",
              "    </tr>\n",
              "    <tr>\n",
              "      <th>2</th>\n",
              "      <td>ahora</td>\n",
              "      <td>buen</td>\n",
              "      <td>pone</td>\n",
              "      <td>resistente</td>\n",
              "      <td>siempre</td>\n",
              "      <td>igual</td>\n",
              "      <td>parte</td>\n",
              "      <td>malo</td>\n",
              "      <td>facil</td>\n",
              "      <td>gusto</td>\n",
              "    </tr>\n",
              "    <tr>\n",
              "      <th>3</th>\n",
              "      <td>ajusta</td>\n",
              "      <td>marca</td>\n",
              "      <td>pega</td>\n",
              "      <td>bueno</td>\n",
              "      <td>practico</td>\n",
              "      <td>recibido</td>\n",
              "      <td>encima</td>\n",
              "      <td>cuenta</td>\n",
              "      <td>usar</td>\n",
              "      <td>llega</td>\n",
              "    </tr>\n",
              "    <tr>\n",
              "      <th>4</th>\n",
              "      <td>buena</td>\n",
              "      <td>bastante</td>\n",
              "      <td>usar</td>\n",
              "      <td>tampoco</td>\n",
              "      <td>probado</td>\n",
              "      <td>buen</td>\n",
              "      <td>tipo</td>\n",
              "      <td>luego</td>\n",
              "      <td>encantado</td>\n",
              "      <td>sonido</td>\n",
              "    </tr>\n",
              "    <tr>\n",
              "      <th>5</th>\n",
              "      <td>bueno</td>\n",
              "      <td>gusto</td>\n",
              "      <td>calidad</td>\n",
              "      <td>casa</td>\n",
              "      <td>calidad</td>\n",
              "      <td>llega</td>\n",
              "      <td>mejor</td>\n",
              "      <td>excelente</td>\n",
              "      <td>sonido</td>\n",
              "      <td>mejor</td>\n",
              "    </tr>\n",
              "    <tr>\n",
              "      <th>6</th>\n",
              "      <td>agua</td>\n",
              "      <td>genial</td>\n",
              "      <td>luz</td>\n",
              "      <td>decir</td>\n",
              "      <td>buena</td>\n",
              "      <td>pedir</td>\n",
              "      <td>solo</td>\n",
              "      <td>ver</td>\n",
              "      <td>pedido</td>\n",
              "      <td>cuesta</td>\n",
              "    </tr>\n",
              "    <tr>\n",
              "      <th>7</th>\n",
              "      <td>carga</td>\n",
              "      <td>años</td>\n",
              "      <td>tiempo</td>\n",
              "      <td>pena</td>\n",
              "      <td>ahora</td>\n",
              "      <td>caro</td>\n",
              "      <td>llegado</td>\n",
              "      <td>espero</td>\n",
              "      <td>espero</td>\n",
              "      <td>excelente</td>\n",
              "    </tr>\n",
              "    <tr>\n",
              "      <th>8</th>\n",
              "      <td>casa</td>\n",
              "      <td>gustado</td>\n",
              "      <td>excelente</td>\n",
              "      <td>roto</td>\n",
              "      <td>grande</td>\n",
              "      <td>correctamente</td>\n",
              "      <td>totalmente</td>\n",
              "      <td>dentro</td>\n",
              "      <td>luz</td>\n",
              "      <td>mala</td>\n",
              "    </tr>\n",
              "    <tr>\n",
              "      <th>9</th>\n",
              "      <td>ver</td>\n",
              "      <td>colores</td>\n",
              "      <td>perfectamente</td>\n",
              "      <td>devolver</td>\n",
              "      <td>comodo</td>\n",
              "      <td>normal</td>\n",
              "      <td>dinero</td>\n",
              "      <td>caja</td>\n",
              "      <td>instrucciones</td>\n",
              "      <td>falta</td>\n",
              "    </tr>\n",
              "    <tr>\n",
              "      <th>10</th>\n",
              "      <td>tipo</td>\n",
              "      <td>mal</td>\n",
              "      <td>sonido</td>\n",
              "      <td>casi</td>\n",
              "      <td>mal</td>\n",
              "      <td>mal</td>\n",
              "      <td>gusta</td>\n",
              "      <td>diseño</td>\n",
              "      <td>cuesta</td>\n",
              "      <td>perfecto</td>\n",
              "    </tr>\n",
              "    <tr>\n",
              "      <th>11</th>\n",
              "      <td>cristal</td>\n",
              "      <td>ver</td>\n",
              "      <td>diseño</td>\n",
              "      <td>llegar</td>\n",
              "      <td>mejor</td>\n",
              "      <td>colores</td>\n",
              "      <td>bastante</td>\n",
              "      <td>caro</td>\n",
              "      <td>pega</td>\n",
              "      <td>reloj</td>\n",
              "    </tr>\n",
              "    <tr>\n",
              "      <th>12</th>\n",
              "      <td>igual</td>\n",
              "      <td>poder</td>\n",
              "      <td>encantado</td>\n",
              "      <td>pega</td>\n",
              "      <td>llevar</td>\n",
              "      <td>trae</td>\n",
              "      <td>llega</td>\n",
              "      <td>comprado</td>\n",
              "      <td>comodo</td>\n",
              "      <td>llegado</td>\n",
              "    </tr>\n",
              "    <tr>\n",
              "      <th>13</th>\n",
              "      <td>mal</td>\n",
              "      <td>bonita</td>\n",
              "      <td>roto</td>\n",
              "      <td>bateria</td>\n",
              "      <td>funcionar</td>\n",
              "      <td>gustado</td>\n",
              "      <td>usado</td>\n",
              "      <td>llegar</td>\n",
              "      <td>bonita</td>\n",
              "      <td>hora</td>\n",
              "    </tr>\n",
              "    <tr>\n",
              "      <th>14</th>\n",
              "      <td>recomendable</td>\n",
              "      <td>perfecto</td>\n",
              "      <td>uso</td>\n",
              "      <td>recibido</td>\n",
              "      <td>correcto</td>\n",
              "      <td>luz</td>\n",
              "      <td>tamaño</td>\n",
              "      <td>foto</td>\n",
              "      <td>caso</td>\n",
              "      <td>pequeños</td>\n",
              "    </tr>\n",
              "  </tbody>\n",
              "</table>\n",
              "</div>"
            ],
            "text/plain": [
              "       Topic# 01 Topic# 02      Topic# 03  ...  Topic# 08      Topic# 09  Topic# 10\n",
              "0           casi     parte           caso  ...      buena          viene     espero\n",
              "1         comodo      bien          bueno  ...       sido          gusta      hecho\n",
              "2          ahora      buen           pone  ...       malo          facil      gusto\n",
              "3         ajusta     marca           pega  ...     cuenta           usar      llega\n",
              "4          buena  bastante           usar  ...      luego      encantado     sonido\n",
              "5          bueno     gusto        calidad  ...  excelente         sonido      mejor\n",
              "6           agua    genial            luz  ...        ver         pedido     cuesta\n",
              "7          carga      años         tiempo  ...     espero         espero  excelente\n",
              "8           casa   gustado      excelente  ...     dentro            luz       mala\n",
              "9            ver   colores  perfectamente  ...       caja  instrucciones      falta\n",
              "10          tipo       mal         sonido  ...     diseño         cuesta   perfecto\n",
              "11       cristal       ver         diseño  ...       caro           pega      reloj\n",
              "12         igual     poder      encantado  ...   comprado         comodo    llegado\n",
              "13           mal    bonita           roto  ...     llegar         bonita       hora\n",
              "14  recomendable  perfecto            uso  ...       foto           caso   pequeños\n",
              "\n",
              "[15 rows x 10 columns]"
            ]
          },
          "metadata": {
            "tags": []
          },
          "execution_count": 34
        }
      ]
    },
    {
      "cell_type": "markdown",
      "metadata": {
        "id": "EIG4CngWqvXk"
      },
      "source": [
        "**Conclusión**\n",
        "\n",
        "Como se puede observar, dentro de los 10 temas principales resultantes, el modelo arroja una serie de palabras bastante diversas y sin aparente lógica de relación. Por lo anterior y dado que su interpretación resultaría difícil de realizar y por ende casi imposible de inferir los temas, se decide probar con los otros modelos.\n",
        "\n",
        "\n",
        "### **Métrica a utilizar**\n",
        "\n",
        "Como ya se ha dicho, en el modelado de temas nos enfrentamos a un problema de aprendizaje no supervisado, por ende no podemos utilizar las mismas métricas de rendimiento que ya conocemos de los problemas de aprendizaje supervisado (RMSE, r2, accuracy, etc), en este caso para evaluar nuestros modelos se hará uso de una métrica llamada \"Coherencia\" la cual proporciona una medida objetiva de si las palabras agrupadas en un tema tienen sentido o no.\n",
        "\n",
        "Antes de seguir ejecutando los modelos, es necesario entonces, dar otro paso adicional para optimizar los resultados de los mismos, el cual consiste en identificar la cantidad óptima de temas, para esto se hará uso de las puntuaciones de \"Coherencia\" para determinar así el número óptimo de temas. A continuación se creará una función que nos permitirá ver de manera gráfica el número óptimo de temas a utilizar."
      ]
    },
    {
      "cell_type": "code",
      "metadata": {
        "id": "rPc6c9fZfkEI"
      },
      "source": [
        "def coherence_graph(dictionary, corpus_tfidf, data_reviews, limit, model):\n",
        "    \"\"\"\n",
        "    Esta función permite calcular y graficar la coherencia para varios temas.\n",
        "\n",
        "    Input: \n",
        "    dictionary : Gensim dictionary\n",
        "    corpus : corpus_tfidf\n",
        "    texts  : data_reviews\n",
        "    limit  : topic limit\n",
        "\n",
        "    Resultado: \n",
        "    model_list: Lista de modelos de temas \n",
        "    coherence_values: valores de coherencia correspondientes al modelo con el número respectivo de temas\n",
        "    \n",
        "    \"\"\"\n",
        "    coherence_values = []\n",
        "    model_list = []\n",
        "    for num_topics in range(1, limit):\n",
        "        if model == 'lsi':\n",
        "          lm = LsiModel(corpus_tfidf, num_topics=num_topics, id2word=dictionary) # Entrenar modelo LSI\n",
        "        else:\n",
        "          lm = LdaModel(corpus_tfidf, num_topics=num_topics, id2word=dictionary) # Entrenar modelo LDA\n",
        "        model_list.append(lm)\n",
        "        cm = CoherenceModel(model=lm, texts=data_reviews, dictionary=dictionary, coherence='c_v') # Calcular la coherencia del modelo\n",
        "        coherence_values.append(cm.get_coherence())\n",
        "        \n",
        "    # Show graph\n",
        "    x = range(1, limit)\n",
        "    plt.plot(x, coherence_values)\n",
        "    plt.xlabel(\"num_topics\")\n",
        "    plt.ylabel(\"Coherence score\")\n",
        "    plt.legend((\"coherence_values\"), loc='best')\n",
        "    plt.show()\n",
        "    \n",
        "    return model_list, coherence_values"
      ],
      "execution_count": 35,
      "outputs": []
    },
    {
      "cell_type": "markdown",
      "metadata": {
        "id": "ZiGP_WMjq71g"
      },
      "source": [
        "### **Modelo 2: Latent Semantic Analysis (LSA)**\n",
        "\n",
        "El LSA (Análisis Semántico Latente), también conocido como LSI (Índice Semántico Latente), modela los temas realizando una descomposición matricial (matrix decomposition) sobre el corpus. Este modelo se utiliza normalmente como una técnica de reducción de dimensionalidad o reducción de ruido.\n",
        "\n",
        "Se entrena el modelo LSA incluyendo hasta 20 temas y se listan:"
      ]
    },
    {
      "cell_type": "code",
      "metadata": {
        "id": "AgLdZYvYsqOd",
        "colab": {
          "base_uri": "https://localhost:8080/"
        },
        "outputId": "7ff47b06-c4cf-466a-cc43-a770f593fd67"
      },
      "source": [
        "%%time\n",
        "lsimodel = LsiModel(corpus_tfidf, num_topics=20, id2word=dictionary)"
      ],
      "execution_count": 36,
      "outputs": [
        {
          "output_type": "stream",
          "text": [
            "CPU times: user 794 ms, sys: 92 ms, total: 886 ms\n",
            "Wall time: 698 ms\n"
          ],
          "name": "stdout"
        }
      ]
    },
    {
      "cell_type": "code",
      "metadata": {
        "colab": {
          "base_uri": "https://localhost:8080/"
        },
        "id": "sSz7Wjzw7Wa3",
        "outputId": "2ed5b3e5-3229-4173-c0cb-35ba9b9d2dc5"
      },
      "source": [
        "topics_lsi = lsimodel.show_topics()\n",
        "for topic in topics_lsi:\n",
        "    print(topic)"
      ],
      "execution_count": 37,
      "outputs": [
        {
          "output_type": "stream",
          "text": [
            "(0, '0.728*\"bien\" + 0.295*\"calidad\" + 0.295*\"precio\" + 0.257*\"buena\" + 0.154*\"producto\" + 0.135*\"bastante\" + 0.133*\"buen\" + 0.119*\"funciona\" + 0.091*\"cumple\" + 0.074*\"recomiendo\"')\n",
            "(1, '-0.625*\"bien\" + 0.471*\"calidad\" + 0.457*\"buena\" + 0.322*\"precio\" + 0.139*\"buen\" + 0.096*\"producto\" + 0.069*\"mala\" + 0.058*\"compra\" + 0.058*\"mejor\" + 0.054*\"cumple\"')\n",
            "(2, '0.582*\"producto\" + 0.384*\"buen\" + -0.329*\"buena\" + -0.325*\"calidad\" + -0.205*\"bien\" + 0.177*\"llego\" + 0.127*\"llegado\" + 0.106*\"tiempo\" + 0.105*\"solo\" + 0.103*\"cumple\"')\n",
            "(3, '-0.674*\"precio\" + -0.429*\"buen\" + 0.238*\"calidad\" + 0.157*\"solo\" + 0.154*\"funciona\" + 0.148*\"recomiendo\" + 0.141*\"llego\" + 0.128*\"mala\" + 0.118*\"bastante\" + 0.110*\"perfecto\"')\n",
            "(4, '-0.466*\"producto\" + 0.409*\"precio\" + -0.318*\"buen\" + 0.263*\"funciona\" + -0.231*\"calidad\" + -0.214*\"buena\" + 0.213*\"bastante\" + 0.203*\"cumple\" + 0.182*\"solo\" + -0.157*\"bien\"')\n",
            "(5, '-0.926*\"cumple\" + 0.150*\"precio\" + 0.139*\"funciona\" + -0.132*\"perfectamente\" + 0.121*\"solo\" + -0.101*\"buena\" + 0.079*\"mal\" + 0.079*\"recomiendo\" + -0.064*\"producto\" + 0.062*\"buen\"')\n",
            "(6, '-0.753*\"funciona\" + -0.302*\"buen\" + 0.217*\"bastante\" + 0.216*\"llego\" + 0.158*\"llegado\" + 0.157*\"perfecto\" + -0.142*\"calidad\" + 0.139*\"precio\" + -0.131*\"perfectamente\" + 0.122*\"mal\"')\n",
            "(7, '-0.482*\"bastante\" + -0.405*\"buen\" + -0.367*\"buena\" + 0.315*\"calidad\" + 0.251*\"precio\" + 0.234*\"producto\" + -0.186*\"perfecto\" + 0.178*\"llegado\" + 0.157*\"mala\" + 0.131*\"llego\"')\n",
            "(8, '-0.482*\"buena\" + 0.391*\"calidad\" + 0.355*\"bastante\" + -0.294*\"llego\" + -0.249*\"perfecto\" + -0.249*\"funciona\" + -0.212*\"tiempo\" + 0.199*\"mala\" + 0.161*\"buen\" + 0.132*\"pequeño\"')\n",
            "(9, '-0.658*\"perfecto\" + 0.342*\"bastante\" + 0.314*\"producto\" + 0.277*\"buena\" + -0.258*\"buen\" + -0.216*\"calidad\" + -0.143*\"llego\" + 0.142*\"funciona\" + -0.124*\"tiempo\" + 0.124*\"solo\"')\n",
            "(10, '-0.466*\"perfecto\" + -0.442*\"bastante\" + 0.339*\"solo\" + -0.318*\"funciona\" + -0.243*\"producto\" + 0.218*\"uso\" + 0.202*\"buen\" + 0.197*\"recomiendo\" + 0.130*\"tiempo\" + 0.117*\"buena\"')\n",
            "(11, '0.542*\"llego\" + 0.439*\"tiempo\" + -0.345*\"perfecto\" + 0.254*\"bastante\" + -0.249*\"solo\" + -0.225*\"producto\" + 0.213*\"buen\" + -0.141*\"llegado\" + 0.138*\"mal\" + -0.118*\"recomiendo\"')\n",
            "(12, '0.781*\"recomiendo\" + -0.335*\"solo\" + -0.188*\"llegado\" + 0.183*\"compra\" + -0.160*\"grande\" + 0.149*\"uso\" + -0.149*\"pequeño\" + -0.140*\"mal\" + -0.114*\"demasiado\" + -0.107*\"foto\"')\n",
            "(13, '0.629*\"llegado\" + -0.488*\"uso\" + 0.263*\"recomiendo\" + -0.237*\"producto\" + -0.196*\"solo\" + 0.158*\"gustado\" + 0.148*\"buen\" + 0.140*\"foto\" + -0.126*\"facil\" + 0.110*\"pequeño\"')\n",
            "(14, '-0.565*\"solo\" + 0.349*\"gustado\" + -0.288*\"llegado\" + -0.286*\"bastante\" + 0.275*\"mal\" + 0.241*\"pequeño\" + 0.176*\"demasiado\" + 0.160*\"grande\" + 0.125*\"funciona\" + 0.122*\"tamaño\"')\n",
            "(15, '0.616*\"uso\" + 0.481*\"llegado\" + -0.356*\"solo\" + -0.229*\"mal\" + -0.217*\"recomiendo\" + -0.206*\"llego\" + 0.137*\"meses\" + 0.132*\"tiempo\" + 0.096*\"facil\" + 0.081*\"bastante\"')\n",
            "(16, '0.662*\"gustado\" + -0.630*\"mal\" + 0.177*\"tiempo\" + -0.146*\"uso\" + 0.114*\"solo\" + -0.112*\"llegado\" + -0.104*\"buena\" + 0.094*\"llego\" + 0.078*\"precio\" + 0.069*\"bueno\"')\n",
            "(17, '0.538*\"gustado\" + 0.450*\"mal\" + -0.446*\"pequeño\" + -0.287*\"grande\" + -0.287*\"demasiado\" + -0.134*\"bueno\" + 0.120*\"solo\" + 0.112*\"uso\" + 0.097*\"buen\" + -0.094*\"tamaño\"')\n",
            "(18, '-0.510*\"facil\" + -0.446*\"mejor\" + -0.335*\"bueno\" + 0.304*\"pequeño\" + 0.240*\"uso\" + 0.183*\"demasiado\" + 0.162*\"grande\" + 0.153*\"gustado\" + 0.143*\"mal\" + 0.126*\"perfecto\"')\n",
            "(19, '0.652*\"mejor\" + -0.629*\"facil\" + 0.153*\"compre\" + -0.150*\"mal\" + -0.132*\"pequeño\" + -0.131*\"usar\" + 0.073*\"comprar\" + -0.072*\"recomiendo\" + -0.068*\"poner\" + -0.065*\"llego\"')\n"
          ],
          "name": "stdout"
        }
      ]
    },
    {
      "cell_type": "code",
      "metadata": {
        "colab": {
          "base_uri": "https://localhost:8080/",
          "height": 551
        },
        "id": "bYmdRF3O7f1f",
        "outputId": "ae41620c-bcd3-41b8-8527-8af22bd0a73e"
      },
      "source": [
        "word_dict = {};\n",
        "for i in range(0,20):\n",
        "    words = lsimodel.show_topic(i, topn = 15)\n",
        "    word_dict['Topic# ' + '{:02d}'.format(i+1)] = [i[0] for i in words]\n",
        "pd.DataFrame(word_dict)"
      ],
      "execution_count": 38,
      "outputs": [
        {
          "output_type": "execute_result",
          "data": {
            "text/html": [
              "<div>\n",
              "<style scoped>\n",
              "    .dataframe tbody tr th:only-of-type {\n",
              "        vertical-align: middle;\n",
              "    }\n",
              "\n",
              "    .dataframe tbody tr th {\n",
              "        vertical-align: top;\n",
              "    }\n",
              "\n",
              "    .dataframe thead th {\n",
              "        text-align: right;\n",
              "    }\n",
              "</style>\n",
              "<table border=\"1\" class=\"dataframe\">\n",
              "  <thead>\n",
              "    <tr style=\"text-align: right;\">\n",
              "      <th></th>\n",
              "      <th>Topic# 01</th>\n",
              "      <th>Topic# 02</th>\n",
              "      <th>Topic# 03</th>\n",
              "      <th>Topic# 04</th>\n",
              "      <th>Topic# 05</th>\n",
              "      <th>Topic# 06</th>\n",
              "      <th>Topic# 07</th>\n",
              "      <th>Topic# 08</th>\n",
              "      <th>Topic# 09</th>\n",
              "      <th>Topic# 10</th>\n",
              "      <th>Topic# 11</th>\n",
              "      <th>Topic# 12</th>\n",
              "      <th>Topic# 13</th>\n",
              "      <th>Topic# 14</th>\n",
              "      <th>Topic# 15</th>\n",
              "      <th>Topic# 16</th>\n",
              "      <th>Topic# 17</th>\n",
              "      <th>Topic# 18</th>\n",
              "      <th>Topic# 19</th>\n",
              "      <th>Topic# 20</th>\n",
              "    </tr>\n",
              "  </thead>\n",
              "  <tbody>\n",
              "    <tr>\n",
              "      <th>0</th>\n",
              "      <td>bien</td>\n",
              "      <td>bien</td>\n",
              "      <td>producto</td>\n",
              "      <td>precio</td>\n",
              "      <td>producto</td>\n",
              "      <td>cumple</td>\n",
              "      <td>funciona</td>\n",
              "      <td>bastante</td>\n",
              "      <td>buena</td>\n",
              "      <td>perfecto</td>\n",
              "      <td>perfecto</td>\n",
              "      <td>llego</td>\n",
              "      <td>recomiendo</td>\n",
              "      <td>llegado</td>\n",
              "      <td>solo</td>\n",
              "      <td>uso</td>\n",
              "      <td>gustado</td>\n",
              "      <td>gustado</td>\n",
              "      <td>facil</td>\n",
              "      <td>mejor</td>\n",
              "    </tr>\n",
              "    <tr>\n",
              "      <th>1</th>\n",
              "      <td>calidad</td>\n",
              "      <td>calidad</td>\n",
              "      <td>buen</td>\n",
              "      <td>buen</td>\n",
              "      <td>precio</td>\n",
              "      <td>precio</td>\n",
              "      <td>buen</td>\n",
              "      <td>buen</td>\n",
              "      <td>calidad</td>\n",
              "      <td>bastante</td>\n",
              "      <td>bastante</td>\n",
              "      <td>tiempo</td>\n",
              "      <td>solo</td>\n",
              "      <td>uso</td>\n",
              "      <td>gustado</td>\n",
              "      <td>llegado</td>\n",
              "      <td>mal</td>\n",
              "      <td>mal</td>\n",
              "      <td>mejor</td>\n",
              "      <td>facil</td>\n",
              "    </tr>\n",
              "    <tr>\n",
              "      <th>2</th>\n",
              "      <td>precio</td>\n",
              "      <td>buena</td>\n",
              "      <td>buena</td>\n",
              "      <td>calidad</td>\n",
              "      <td>buen</td>\n",
              "      <td>funciona</td>\n",
              "      <td>bastante</td>\n",
              "      <td>buena</td>\n",
              "      <td>bastante</td>\n",
              "      <td>producto</td>\n",
              "      <td>solo</td>\n",
              "      <td>perfecto</td>\n",
              "      <td>llegado</td>\n",
              "      <td>recomiendo</td>\n",
              "      <td>llegado</td>\n",
              "      <td>solo</td>\n",
              "      <td>tiempo</td>\n",
              "      <td>pequeño</td>\n",
              "      <td>bueno</td>\n",
              "      <td>compre</td>\n",
              "    </tr>\n",
              "    <tr>\n",
              "      <th>3</th>\n",
              "      <td>buena</td>\n",
              "      <td>precio</td>\n",
              "      <td>calidad</td>\n",
              "      <td>solo</td>\n",
              "      <td>funciona</td>\n",
              "      <td>perfectamente</td>\n",
              "      <td>llego</td>\n",
              "      <td>calidad</td>\n",
              "      <td>llego</td>\n",
              "      <td>buena</td>\n",
              "      <td>funciona</td>\n",
              "      <td>bastante</td>\n",
              "      <td>compra</td>\n",
              "      <td>producto</td>\n",
              "      <td>bastante</td>\n",
              "      <td>mal</td>\n",
              "      <td>uso</td>\n",
              "      <td>grande</td>\n",
              "      <td>pequeño</td>\n",
              "      <td>mal</td>\n",
              "    </tr>\n",
              "    <tr>\n",
              "      <th>4</th>\n",
              "      <td>producto</td>\n",
              "      <td>buen</td>\n",
              "      <td>bien</td>\n",
              "      <td>funciona</td>\n",
              "      <td>calidad</td>\n",
              "      <td>solo</td>\n",
              "      <td>llegado</td>\n",
              "      <td>precio</td>\n",
              "      <td>perfecto</td>\n",
              "      <td>buen</td>\n",
              "      <td>producto</td>\n",
              "      <td>solo</td>\n",
              "      <td>grande</td>\n",
              "      <td>solo</td>\n",
              "      <td>mal</td>\n",
              "      <td>recomiendo</td>\n",
              "      <td>solo</td>\n",
              "      <td>demasiado</td>\n",
              "      <td>uso</td>\n",
              "      <td>pequeño</td>\n",
              "    </tr>\n",
              "    <tr>\n",
              "      <th>5</th>\n",
              "      <td>bastante</td>\n",
              "      <td>producto</td>\n",
              "      <td>llego</td>\n",
              "      <td>recomiendo</td>\n",
              "      <td>buena</td>\n",
              "      <td>buena</td>\n",
              "      <td>perfecto</td>\n",
              "      <td>producto</td>\n",
              "      <td>funciona</td>\n",
              "      <td>calidad</td>\n",
              "      <td>uso</td>\n",
              "      <td>producto</td>\n",
              "      <td>uso</td>\n",
              "      <td>gustado</td>\n",
              "      <td>pequeño</td>\n",
              "      <td>llego</td>\n",
              "      <td>llegado</td>\n",
              "      <td>bueno</td>\n",
              "      <td>demasiado</td>\n",
              "      <td>usar</td>\n",
              "    </tr>\n",
              "    <tr>\n",
              "      <th>6</th>\n",
              "      <td>buen</td>\n",
              "      <td>mala</td>\n",
              "      <td>llegado</td>\n",
              "      <td>llego</td>\n",
              "      <td>bastante</td>\n",
              "      <td>mal</td>\n",
              "      <td>calidad</td>\n",
              "      <td>perfecto</td>\n",
              "      <td>tiempo</td>\n",
              "      <td>llego</td>\n",
              "      <td>buen</td>\n",
              "      <td>buen</td>\n",
              "      <td>pequeño</td>\n",
              "      <td>buen</td>\n",
              "      <td>demasiado</td>\n",
              "      <td>meses</td>\n",
              "      <td>buena</td>\n",
              "      <td>solo</td>\n",
              "      <td>grande</td>\n",
              "      <td>comprar</td>\n",
              "    </tr>\n",
              "    <tr>\n",
              "      <th>7</th>\n",
              "      <td>funciona</td>\n",
              "      <td>compra</td>\n",
              "      <td>tiempo</td>\n",
              "      <td>mala</td>\n",
              "      <td>cumple</td>\n",
              "      <td>recomiendo</td>\n",
              "      <td>precio</td>\n",
              "      <td>llegado</td>\n",
              "      <td>mala</td>\n",
              "      <td>funciona</td>\n",
              "      <td>recomiendo</td>\n",
              "      <td>llegado</td>\n",
              "      <td>mal</td>\n",
              "      <td>foto</td>\n",
              "      <td>grande</td>\n",
              "      <td>tiempo</td>\n",
              "      <td>llego</td>\n",
              "      <td>uso</td>\n",
              "      <td>gustado</td>\n",
              "      <td>recomiendo</td>\n",
              "    </tr>\n",
              "    <tr>\n",
              "      <th>8</th>\n",
              "      <td>cumple</td>\n",
              "      <td>mejor</td>\n",
              "      <td>solo</td>\n",
              "      <td>bastante</td>\n",
              "      <td>solo</td>\n",
              "      <td>producto</td>\n",
              "      <td>perfectamente</td>\n",
              "      <td>mala</td>\n",
              "      <td>buen</td>\n",
              "      <td>tiempo</td>\n",
              "      <td>tiempo</td>\n",
              "      <td>mal</td>\n",
              "      <td>demasiado</td>\n",
              "      <td>facil</td>\n",
              "      <td>funciona</td>\n",
              "      <td>facil</td>\n",
              "      <td>precio</td>\n",
              "      <td>buen</td>\n",
              "      <td>mal</td>\n",
              "      <td>poner</td>\n",
              "    </tr>\n",
              "    <tr>\n",
              "      <th>9</th>\n",
              "      <td>recomiendo</td>\n",
              "      <td>cumple</td>\n",
              "      <td>cumple</td>\n",
              "      <td>perfecto</td>\n",
              "      <td>bien</td>\n",
              "      <td>buen</td>\n",
              "      <td>mal</td>\n",
              "      <td>llego</td>\n",
              "      <td>pequeño</td>\n",
              "      <td>solo</td>\n",
              "      <td>buena</td>\n",
              "      <td>recomiendo</td>\n",
              "      <td>foto</td>\n",
              "      <td>pequeño</td>\n",
              "      <td>tamaño</td>\n",
              "      <td>bastante</td>\n",
              "      <td>bueno</td>\n",
              "      <td>tamaño</td>\n",
              "      <td>perfecto</td>\n",
              "      <td>llego</td>\n",
              "    </tr>\n",
              "    <tr>\n",
              "      <th>10</th>\n",
              "      <td>llego</td>\n",
              "      <td>recomiendo</td>\n",
              "      <td>funciona</td>\n",
              "      <td>buena</td>\n",
              "      <td>mal</td>\n",
              "      <td>mejor</td>\n",
              "      <td>tiempo</td>\n",
              "      <td>grande</td>\n",
              "      <td>recomiendo</td>\n",
              "      <td>llegado</td>\n",
              "      <td>calidad</td>\n",
              "      <td>calidad</td>\n",
              "      <td>calidad</td>\n",
              "      <td>funciona</td>\n",
              "      <td>mejor</td>\n",
              "      <td>perfecto</td>\n",
              "      <td>calidad</td>\n",
              "      <td>perfecto</td>\n",
              "      <td>solo</td>\n",
              "      <td>practico</td>\n",
              "    </tr>\n",
              "    <tr>\n",
              "      <th>11</th>\n",
              "      <td>tiempo</td>\n",
              "      <td>perfecto</td>\n",
              "      <td>perfecto</td>\n",
              "      <td>tiempo</td>\n",
              "      <td>uso</td>\n",
              "      <td>mala</td>\n",
              "      <td>solo</td>\n",
              "      <td>mal</td>\n",
              "      <td>mejor</td>\n",
              "      <td>bueno</td>\n",
              "      <td>pequeño</td>\n",
              "      <td>facil</td>\n",
              "      <td>buen</td>\n",
              "      <td>pedido</td>\n",
              "      <td>foto</td>\n",
              "      <td>funcionar</td>\n",
              "      <td>mejor</td>\n",
              "      <td>producto</td>\n",
              "      <td>usar</td>\n",
              "      <td>precio</td>\n",
              "    </tr>\n",
              "    <tr>\n",
              "      <th>12</th>\n",
              "      <td>perfecto</td>\n",
              "      <td>funciona</td>\n",
              "      <td>mal</td>\n",
              "      <td>uso</td>\n",
              "      <td>mejor</td>\n",
              "      <td>bastante</td>\n",
              "      <td>bueno</td>\n",
              "      <td>facil</td>\n",
              "      <td>mal</td>\n",
              "      <td>cumple</td>\n",
              "      <td>demasiado</td>\n",
              "      <td>funciona</td>\n",
              "      <td>compre</td>\n",
              "      <td>bueno</td>\n",
              "      <td>recomiendo</td>\n",
              "      <td>genial</td>\n",
              "      <td>buen</td>\n",
              "      <td>funciona</td>\n",
              "      <td>perfectamente</td>\n",
              "      <td>bueno</td>\n",
              "    </tr>\n",
              "    <tr>\n",
              "      <th>13</th>\n",
              "      <td>mejor</td>\n",
              "      <td>perfectamente</td>\n",
              "      <td>bueno</td>\n",
              "      <td>compra</td>\n",
              "      <td>bueno</td>\n",
              "      <td>compre</td>\n",
              "      <td>cumple</td>\n",
              "      <td>cumple</td>\n",
              "      <td>llegado</td>\n",
              "      <td>facil</td>\n",
              "      <td>compra</td>\n",
              "      <td>nunca</td>\n",
              "      <td>tamaño</td>\n",
              "      <td>tiempo</td>\n",
              "      <td>facil</td>\n",
              "      <td>sirve</td>\n",
              "      <td>bastante</td>\n",
              "      <td>tiempo</td>\n",
              "      <td>poner</td>\n",
              "      <td>menos</td>\n",
              "    </tr>\n",
              "    <tr>\n",
              "      <th>14</th>\n",
              "      <td>uso</td>\n",
              "      <td>sonido</td>\n",
              "      <td>vendedor</td>\n",
              "      <td>llegado</td>\n",
              "      <td>perfectamente</td>\n",
              "      <td>uso</td>\n",
              "      <td>mala</td>\n",
              "      <td>pequeño</td>\n",
              "      <td>pedido</td>\n",
              "      <td>uso</td>\n",
              "      <td>meses</td>\n",
              "      <td>bueno</td>\n",
              "      <td>precio</td>\n",
              "      <td>color</td>\n",
              "      <td>gusta</td>\n",
              "      <td>gusta</td>\n",
              "      <td>meses</td>\n",
              "      <td>buena</td>\n",
              "      <td>precio</td>\n",
              "      <td>ahora</td>\n",
              "    </tr>\n",
              "  </tbody>\n",
              "</table>\n",
              "</div>"
            ],
            "text/plain": [
              "     Topic# 01      Topic# 02 Topic# 03  ...  Topic# 18      Topic# 19   Topic# 20\n",
              "0         bien           bien  producto  ...    gustado          facil       mejor\n",
              "1      calidad        calidad      buen  ...        mal          mejor       facil\n",
              "2       precio          buena     buena  ...    pequeño          bueno      compre\n",
              "3        buena         precio   calidad  ...     grande        pequeño         mal\n",
              "4     producto           buen      bien  ...  demasiado            uso     pequeño\n",
              "5     bastante       producto     llego  ...      bueno      demasiado        usar\n",
              "6         buen           mala   llegado  ...       solo         grande     comprar\n",
              "7     funciona         compra    tiempo  ...        uso        gustado  recomiendo\n",
              "8       cumple          mejor      solo  ...       buen            mal       poner\n",
              "9   recomiendo         cumple    cumple  ...     tamaño       perfecto       llego\n",
              "10       llego     recomiendo  funciona  ...   perfecto           solo    practico\n",
              "11      tiempo       perfecto  perfecto  ...   producto           usar      precio\n",
              "12    perfecto       funciona       mal  ...   funciona  perfectamente       bueno\n",
              "13       mejor  perfectamente     bueno  ...     tiempo          poner       menos\n",
              "14         uso         sonido  vendedor  ...      buena         precio       ahora\n",
              "\n",
              "[15 rows x 20 columns]"
            ]
          },
          "metadata": {
            "tags": []
          },
          "execution_count": 38
        }
      ]
    },
    {
      "cell_type": "markdown",
      "metadata": {
        "id": "L5QLva1Czd-x"
      },
      "source": [
        "Se aplica la función de coherencia que se creó anteriormente, para revisar cuál es el número óptimo de temas para el modelo LSA."
      ]
    },
    {
      "cell_type": "code",
      "metadata": {
        "colab": {
          "base_uri": "https://localhost:8080/",
          "height": 320
        },
        "id": "OhdV7EYBtR0o",
        "outputId": "edb38a4e-2f9b-4839-a21f-cbdb88fc02bc"
      },
      "source": [
        "%%time\n",
        "model_list, coherence_values = coherence_graph(dictionary=dictionary, corpus_tfidf=corpus_tfidf, data_reviews=data['review_body'].to_list(), limit=20, model= \"lsi\")"
      ],
      "execution_count": 39,
      "outputs": [
        {
          "output_type": "display_data",
          "data": {
            "image/png": "[encoded data removed]",
            "text/plain": [
              "<Figure size 432x288 with 1 Axes>"
            ]
          },
          "metadata": {
            "tags": []
          }
        },
        {
          "output_type": "stream",
          "text": [
            "CPU times: user 32.3 s, sys: 3.18 s, total: 35.5 s\n",
            "Wall time: 30.2 s\n"
          ],
          "name": "stdout"
        }
      ]
    },
    {
      "cell_type": "markdown",
      "metadata": {
        "id": "TKOJRiH4wis-"
      },
      "source": [
        "\n",
        "Según puede observarse en el gráfico, el mejor número de temas se encuentra en 13. A continuación se procede a listar los 13 temas ya con el modelo optimizado:"
      ]
    },
    {
      "cell_type": "code",
      "metadata": {
        "colab": {
          "base_uri": "https://localhost:8080/",
          "height": 514
        },
        "id": "mfheXktx8XIs",
        "outputId": "abc09c4f-1f34-4296-c1f8-863c2ef6f4ea"
      },
      "source": [
        "coherence_lsimodel = model_list[12]\n",
        "word_dict = {};\n",
        "for i in range(0,13):\n",
        "    words = coherence_lsimodel.show_topic(i, topn = 15)\n",
        "    word_dict['Topic# ' + '{:02d}'.format(i+1)] = [i[0] for i in words]\n",
        "pd.DataFrame(word_dict)"
      ],
      "execution_count": 40,
      "outputs": [
        {
          "output_type": "execute_result",
          "data": {
            "text/html": [
              "<div>\n",
              "<style scoped>\n",
              "    .dataframe tbody tr th:only-of-type {\n",
              "        vertical-align: middle;\n",
              "    }\n",
              "\n",
              "    .dataframe tbody tr th {\n",
              "        vertical-align: top;\n",
              "    }\n",
              "\n",
              "    .dataframe thead th {\n",
              "        text-align: right;\n",
              "    }\n",
              "</style>\n",
              "<table border=\"1\" class=\"dataframe\">\n",
              "  <thead>\n",
              "    <tr style=\"text-align: right;\">\n",
              "      <th></th>\n",
              "      <th>Topic# 01</th>\n",
              "      <th>Topic# 02</th>\n",
              "      <th>Topic# 03</th>\n",
              "      <th>Topic# 04</th>\n",
              "      <th>Topic# 05</th>\n",
              "      <th>Topic# 06</th>\n",
              "      <th>Topic# 07</th>\n",
              "      <th>Topic# 08</th>\n",
              "      <th>Topic# 09</th>\n",
              "      <th>Topic# 10</th>\n",
              "      <th>Topic# 11</th>\n",
              "      <th>Topic# 12</th>\n",
              "      <th>Topic# 13</th>\n",
              "    </tr>\n",
              "  </thead>\n",
              "  <tbody>\n",
              "    <tr>\n",
              "      <th>0</th>\n",
              "      <td>bien</td>\n",
              "      <td>bien</td>\n",
              "      <td>producto</td>\n",
              "      <td>precio</td>\n",
              "      <td>producto</td>\n",
              "      <td>cumple</td>\n",
              "      <td>funciona</td>\n",
              "      <td>bastante</td>\n",
              "      <td>buena</td>\n",
              "      <td>perfecto</td>\n",
              "      <td>perfecto</td>\n",
              "      <td>llego</td>\n",
              "      <td>recomiendo</td>\n",
              "    </tr>\n",
              "    <tr>\n",
              "      <th>1</th>\n",
              "      <td>calidad</td>\n",
              "      <td>calidad</td>\n",
              "      <td>buen</td>\n",
              "      <td>buen</td>\n",
              "      <td>precio</td>\n",
              "      <td>precio</td>\n",
              "      <td>buen</td>\n",
              "      <td>buen</td>\n",
              "      <td>calidad</td>\n",
              "      <td>bastante</td>\n",
              "      <td>bastante</td>\n",
              "      <td>tiempo</td>\n",
              "      <td>solo</td>\n",
              "    </tr>\n",
              "    <tr>\n",
              "      <th>2</th>\n",
              "      <td>precio</td>\n",
              "      <td>buena</td>\n",
              "      <td>buena</td>\n",
              "      <td>calidad</td>\n",
              "      <td>buen</td>\n",
              "      <td>funciona</td>\n",
              "      <td>llego</td>\n",
              "      <td>buena</td>\n",
              "      <td>bastante</td>\n",
              "      <td>producto</td>\n",
              "      <td>solo</td>\n",
              "      <td>perfecto</td>\n",
              "      <td>compra</td>\n",
              "    </tr>\n",
              "    <tr>\n",
              "      <th>3</th>\n",
              "      <td>buena</td>\n",
              "      <td>precio</td>\n",
              "      <td>calidad</td>\n",
              "      <td>funciona</td>\n",
              "      <td>funciona</td>\n",
              "      <td>perfectamente</td>\n",
              "      <td>bastante</td>\n",
              "      <td>calidad</td>\n",
              "      <td>llego</td>\n",
              "      <td>buena</td>\n",
              "      <td>funciona</td>\n",
              "      <td>bastante</td>\n",
              "      <td>grande</td>\n",
              "    </tr>\n",
              "    <tr>\n",
              "      <th>4</th>\n",
              "      <td>producto</td>\n",
              "      <td>buen</td>\n",
              "      <td>bien</td>\n",
              "      <td>solo</td>\n",
              "      <td>calidad</td>\n",
              "      <td>solo</td>\n",
              "      <td>llegado</td>\n",
              "      <td>precio</td>\n",
              "      <td>funciona</td>\n",
              "      <td>buen</td>\n",
              "      <td>producto</td>\n",
              "      <td>solo</td>\n",
              "      <td>mal</td>\n",
              "    </tr>\n",
              "    <tr>\n",
              "      <th>5</th>\n",
              "      <td>bastante</td>\n",
              "      <td>producto</td>\n",
              "      <td>llego</td>\n",
              "      <td>recomiendo</td>\n",
              "      <td>bastante</td>\n",
              "      <td>buena</td>\n",
              "      <td>perfecto</td>\n",
              "      <td>producto</td>\n",
              "      <td>perfecto</td>\n",
              "      <td>calidad</td>\n",
              "      <td>uso</td>\n",
              "      <td>producto</td>\n",
              "      <td>llegado</td>\n",
              "    </tr>\n",
              "    <tr>\n",
              "      <th>6</th>\n",
              "      <td>buen</td>\n",
              "      <td>mala</td>\n",
              "      <td>llegado</td>\n",
              "      <td>llego</td>\n",
              "      <td>buena</td>\n",
              "      <td>mal</td>\n",
              "      <td>precio</td>\n",
              "      <td>perfecto</td>\n",
              "      <td>tiempo</td>\n",
              "      <td>llego</td>\n",
              "      <td>buen</td>\n",
              "      <td>buen</td>\n",
              "      <td>pequeño</td>\n",
              "    </tr>\n",
              "    <tr>\n",
              "      <th>7</th>\n",
              "      <td>funciona</td>\n",
              "      <td>mejor</td>\n",
              "      <td>tiempo</td>\n",
              "      <td>mala</td>\n",
              "      <td>cumple</td>\n",
              "      <td>recomiendo</td>\n",
              "      <td>calidad</td>\n",
              "      <td>llegado</td>\n",
              "      <td>mala</td>\n",
              "      <td>funciona</td>\n",
              "      <td>recomiendo</td>\n",
              "      <td>llegado</td>\n",
              "      <td>demasiado</td>\n",
              "    </tr>\n",
              "    <tr>\n",
              "      <th>8</th>\n",
              "      <td>cumple</td>\n",
              "      <td>compra</td>\n",
              "      <td>solo</td>\n",
              "      <td>bastante</td>\n",
              "      <td>solo</td>\n",
              "      <td>producto</td>\n",
              "      <td>perfectamente</td>\n",
              "      <td>mala</td>\n",
              "      <td>buen</td>\n",
              "      <td>tiempo</td>\n",
              "      <td>tiempo</td>\n",
              "      <td>mal</td>\n",
              "      <td>foto</td>\n",
              "    </tr>\n",
              "    <tr>\n",
              "      <th>9</th>\n",
              "      <td>recomiendo</td>\n",
              "      <td>cumple</td>\n",
              "      <td>cumple</td>\n",
              "      <td>perfecto</td>\n",
              "      <td>bien</td>\n",
              "      <td>buen</td>\n",
              "      <td>mal</td>\n",
              "      <td>grande</td>\n",
              "      <td>pequeño</td>\n",
              "      <td>solo</td>\n",
              "      <td>buena</td>\n",
              "      <td>recomiendo</td>\n",
              "      <td>calidad</td>\n",
              "    </tr>\n",
              "    <tr>\n",
              "      <th>10</th>\n",
              "      <td>llego</td>\n",
              "      <td>recomiendo</td>\n",
              "      <td>funciona</td>\n",
              "      <td>buena</td>\n",
              "      <td>mal</td>\n",
              "      <td>bastante</td>\n",
              "      <td>tiempo</td>\n",
              "      <td>mal</td>\n",
              "      <td>llegado</td>\n",
              "      <td>bueno</td>\n",
              "      <td>calidad</td>\n",
              "      <td>calidad</td>\n",
              "      <td>compre</td>\n",
              "    </tr>\n",
              "    <tr>\n",
              "      <th>11</th>\n",
              "      <td>tiempo</td>\n",
              "      <td>perfecto</td>\n",
              "      <td>perfecto</td>\n",
              "      <td>tiempo</td>\n",
              "      <td>uso</td>\n",
              "      <td>mejor</td>\n",
              "      <td>solo</td>\n",
              "      <td>llego</td>\n",
              "      <td>recomiendo</td>\n",
              "      <td>facil</td>\n",
              "      <td>pequeño</td>\n",
              "      <td>funciona</td>\n",
              "      <td>uso</td>\n",
              "    </tr>\n",
              "    <tr>\n",
              "      <th>12</th>\n",
              "      <td>perfecto</td>\n",
              "      <td>funciona</td>\n",
              "      <td>mal</td>\n",
              "      <td>uso</td>\n",
              "      <td>mejor</td>\n",
              "      <td>compre</td>\n",
              "      <td>bueno</td>\n",
              "      <td>facil</td>\n",
              "      <td>mejor</td>\n",
              "      <td>llegado</td>\n",
              "      <td>demasiado</td>\n",
              "      <td>facil</td>\n",
              "      <td>buen</td>\n",
              "    </tr>\n",
              "    <tr>\n",
              "      <th>13</th>\n",
              "      <td>mejor</td>\n",
              "      <td>perfectamente</td>\n",
              "      <td>bueno</td>\n",
              "      <td>compra</td>\n",
              "      <td>perfectamente</td>\n",
              "      <td>mala</td>\n",
              "      <td>cumple</td>\n",
              "      <td>cumple</td>\n",
              "      <td>mal</td>\n",
              "      <td>cumple</td>\n",
              "      <td>compra</td>\n",
              "      <td>nunca</td>\n",
              "      <td>precio</td>\n",
              "    </tr>\n",
              "    <tr>\n",
              "      <th>14</th>\n",
              "      <td>uso</td>\n",
              "      <td>sonido</td>\n",
              "      <td>vendedor</td>\n",
              "      <td>llegado</td>\n",
              "      <td>bueno</td>\n",
              "      <td>uso</td>\n",
              "      <td>mala</td>\n",
              "      <td>tamaño</td>\n",
              "      <td>precio</td>\n",
              "      <td>uso</td>\n",
              "      <td>meses</td>\n",
              "      <td>gustado</td>\n",
              "      <td>mejor</td>\n",
              "    </tr>\n",
              "  </tbody>\n",
              "</table>\n",
              "</div>"
            ],
            "text/plain": [
              "     Topic# 01      Topic# 02 Topic# 03  ...   Topic# 11   Topic# 12   Topic# 13\n",
              "0         bien           bien  producto  ...    perfecto       llego  recomiendo\n",
              "1      calidad        calidad      buen  ...    bastante      tiempo        solo\n",
              "2       precio          buena     buena  ...        solo    perfecto      compra\n",
              "3        buena         precio   calidad  ...    funciona    bastante      grande\n",
              "4     producto           buen      bien  ...    producto        solo         mal\n",
              "5     bastante       producto     llego  ...         uso    producto     llegado\n",
              "6         buen           mala   llegado  ...        buen        buen     pequeño\n",
              "7     funciona          mejor    tiempo  ...  recomiendo     llegado   demasiado\n",
              "8       cumple         compra      solo  ...      tiempo         mal        foto\n",
              "9   recomiendo         cumple    cumple  ...       buena  recomiendo     calidad\n",
              "10       llego     recomiendo  funciona  ...     calidad     calidad      compre\n",
              "11      tiempo       perfecto  perfecto  ...     pequeño    funciona         uso\n",
              "12    perfecto       funciona       mal  ...   demasiado       facil        buen\n",
              "13       mejor  perfectamente     bueno  ...      compra       nunca      precio\n",
              "14         uso         sonido  vendedor  ...       meses     gustado       mejor\n",
              "\n",
              "[15 rows x 13 columns]"
            ]
          },
          "metadata": {
            "tags": []
          },
          "execution_count": 40
        }
      ]
    },
    {
      "cell_type": "markdown",
      "metadata": {
        "id": "u9fvLTrM9LhM"
      },
      "source": [
        "**Conclusión:** El resultado muestra 13 temas dentro de los cuales prácticamente se registran las mismas palabras. Aunque cada una de las palabras en cada tema tiene pesos diferentes, el hecho de que las palabras se repitan de manera consistente entre uno y otro tema, no permite conceptualizar de manera diferencial e individual cada uno de ellos."
      ]
    },
    {
      "cell_type": "markdown",
      "metadata": {
        "id": "hOAD87Ktxqhp"
      },
      "source": [
        "### **Modelo 3: Latent Dirichlet Allocation (LDA)**\n",
        "\n",
        "LDA es un modelo que genera temas basados ​​en la frecuencia de palabras de un conjunto de documentos. En LDA el orden de las palabras no importa ya que sigue el concepto de una bolsa de palabras (lo cual resulta clave). \n",
        "\n",
        "A continuación se procede a entrenar el modelo LDA con 20 temas:\n"
      ]
    },
    {
      "cell_type": "code",
      "metadata": {
        "id": "NFKjfCKfy2Wc",
        "colab": {
          "base_uri": "https://localhost:8080/"
        },
        "outputId": "1926ef0c-4c69-40f0-d037-98a36dca7c7a"
      },
      "source": [
        "%%time\n",
        "ldamodel = LdaModel(corpus_tfidf, num_topics=20, id2word=dictionary, minimum_probability=0.30)"
      ],
      "execution_count": 41,
      "outputs": [
        {
          "output_type": "stream",
          "text": [
            "CPU times: user 2.72 s, sys: 1.03 ms, total: 2.72 s\n",
            "Wall time: 2.73 s\n"
          ],
          "name": "stdout"
        }
      ]
    },
    {
      "cell_type": "code",
      "metadata": {
        "colab": {
          "base_uri": "https://localhost:8080/"
        },
        "id": "IO9xQ1fp9H-8",
        "outputId": "1a2d2130-6926-45ba-fd53-41682adc7842"
      },
      "source": [
        "topics_lda = ldamodel.show_topics()\n",
        "for topic in topics_lda:\n",
        "    print(topic)"
      ],
      "execution_count": 42,
      "outputs": [
        {
          "output_type": "stream",
          "text": [
            "(6, '0.186*\"gustado\" + 0.113*\"luz\" + 0.078*\"bastante\" + 0.072*\"vale\" + 0.071*\"marca\" + 0.048*\"espero\" + 0.037*\"puesto\" + 0.029*\"bien\" + 0.016*\"gusta\" + 0.016*\"buena\"')\n",
            "(12, '0.078*\"bonito\" + 0.068*\"bonita\" + 0.067*\"genial\" + 0.067*\"perfecta\" + 0.066*\"encantado\" + 0.055*\"colores\" + 0.051*\"años\" + 0.045*\"nota\" + 0.043*\"mejor\" + 0.039*\"verdad\"')\n",
            "(16, '0.103*\"tener\" + 0.098*\"pequeña\" + 0.083*\"caro\" + 0.081*\"tipo\" + 0.073*\"cuesta\" + 0.047*\"compra\" + 0.033*\"bien\" + 0.026*\"menos\" + 0.023*\"calidad\" + 0.022*\"bastante\"')\n",
            "(17, '0.200*\"cumple\" + 0.109*\"pequeño\" + 0.085*\"correcto\" + 0.068*\"veces\" + 0.059*\"plastico\" + 0.048*\"bien\" + 0.045*\"ahora\" + 0.041*\"precio\" + 0.031*\"producto\" + 0.026*\"buen\"')\n",
            "(4, '0.124*\"rapido\" + 0.118*\"llegado\" + 0.116*\"envio\" + 0.078*\"tamaño\" + 0.063*\"pone\" + 0.041*\"genial\" + 0.036*\"bien\" + 0.035*\"funciona\" + 0.033*\"normal\" + 0.029*\"buen\"')\n",
            "(19, '0.098*\"momento\" + 0.098*\"mal\" + 0.081*\"fotos\" + 0.075*\"instrucciones\" + 0.069*\"agua\" + 0.055*\"hora\" + 0.049*\"deja\" + 0.026*\"bien\" + 0.021*\"producto\" + 0.016*\"pega\"')\n",
            "(18, '0.131*\"viene\" + 0.089*\"recomendable\" + 0.080*\"gusto\" + 0.067*\"probado\" + 0.050*\"servicio\" + 0.047*\"sale\" + 0.038*\"primera\" + 0.037*\"calidad\" + 0.034*\"dia\" + 0.032*\"llegar\"')\n",
            "(15, '0.139*\"foto\" + 0.115*\"sirve\" + 0.108*\"contento\" + 0.085*\"recibido\" + 0.081*\"producto\" + 0.065*\"carga\" + 0.043*\"llevar\" + 0.034*\"igual\" + 0.025*\"bien\" + 0.018*\"color\"')\n",
            "(7, '0.194*\"perfecto\" + 0.088*\"regalo\" + 0.068*\"libro\" + 0.064*\"poner\" + 0.059*\"compre\" + 0.047*\"hacer\" + 0.044*\"usar\" + 0.032*\"buen\" + 0.031*\"reloj\" + 0.027*\"precio\"')\n",
            "(14, '0.237*\"buen\" + 0.098*\"funciona\" + 0.095*\"sonido\" + 0.054*\"precio\" + 0.052*\"producto\" + 0.050*\"bien\" + 0.049*\"decir\" + 0.040*\"cristal\" + 0.038*\"calidad\" + 0.027*\"buena\"')\n"
          ],
          "name": "stdout"
        }
      ]
    },
    {
      "cell_type": "code",
      "metadata": {
        "colab": {
          "base_uri": "https://localhost:8080/",
          "height": 551
        },
        "id": "a5hVFtnf9Oo1",
        "outputId": "d087891f-2da3-426e-bf32-cde736e07f73"
      },
      "source": [
        "word_dict = {};\n",
        "for i in range(0,20):\n",
        "    words = ldamodel.show_topic(i, topn = 15)\n",
        "    word_dict['Topic# ' + '{:02d}'.format(i+1)] = [i[0] for i in words]\n",
        "pd.DataFrame(word_dict)"
      ],
      "execution_count": 43,
      "outputs": [
        {
          "output_type": "execute_result",
          "data": {
            "text/html": [
              "<div>\n",
              "<style scoped>\n",
              "    .dataframe tbody tr th:only-of-type {\n",
              "        vertical-align: middle;\n",
              "    }\n",
              "\n",
              "    .dataframe tbody tr th {\n",
              "        vertical-align: top;\n",
              "    }\n",
              "\n",
              "    .dataframe thead th {\n",
              "        text-align: right;\n",
              "    }\n",
              "</style>\n",
              "<table border=\"1\" class=\"dataframe\">\n",
              "  <thead>\n",
              "    <tr style=\"text-align: right;\">\n",
              "      <th></th>\n",
              "      <th>Topic# 01</th>\n",
              "      <th>Topic# 02</th>\n",
              "      <th>Topic# 03</th>\n",
              "      <th>Topic# 04</th>\n",
              "      <th>Topic# 05</th>\n",
              "      <th>Topic# 06</th>\n",
              "      <th>Topic# 07</th>\n",
              "      <th>Topic# 08</th>\n",
              "      <th>Topic# 09</th>\n",
              "      <th>Topic# 10</th>\n",
              "      <th>Topic# 11</th>\n",
              "      <th>Topic# 12</th>\n",
              "      <th>Topic# 13</th>\n",
              "      <th>Topic# 14</th>\n",
              "      <th>Topic# 15</th>\n",
              "      <th>Topic# 16</th>\n",
              "      <th>Topic# 17</th>\n",
              "      <th>Topic# 18</th>\n",
              "      <th>Topic# 19</th>\n",
              "      <th>Topic# 20</th>\n",
              "    </tr>\n",
              "  </thead>\n",
              "  <tbody>\n",
              "    <tr>\n",
              "      <th>0</th>\n",
              "      <td>perfectamente</td>\n",
              "      <td>buena</td>\n",
              "      <td>llego</td>\n",
              "      <td>casa</td>\n",
              "      <td>rapido</td>\n",
              "      <td>bueno</td>\n",
              "      <td>gustado</td>\n",
              "      <td>perfecto</td>\n",
              "      <td>tiempo</td>\n",
              "      <td>color</td>\n",
              "      <td>bien</td>\n",
              "      <td>demasiado</td>\n",
              "      <td>bonito</td>\n",
              "      <td>facil</td>\n",
              "      <td>buen</td>\n",
              "      <td>foto</td>\n",
              "      <td>tener</td>\n",
              "      <td>cumple</td>\n",
              "      <td>viene</td>\n",
              "      <td>momento</td>\n",
              "    </tr>\n",
              "    <tr>\n",
              "      <th>1</th>\n",
              "      <td>recomiendo</td>\n",
              "      <td>calidad</td>\n",
              "      <td>entrega</td>\n",
              "      <td>duro</td>\n",
              "      <td>llegado</td>\n",
              "      <td>gusta</td>\n",
              "      <td>luz</td>\n",
              "      <td>regalo</td>\n",
              "      <td>comodo</td>\n",
              "      <td>estrellas</td>\n",
              "      <td>grande</td>\n",
              "      <td>sido</td>\n",
              "      <td>bonita</td>\n",
              "      <td>contenta</td>\n",
              "      <td>funciona</td>\n",
              "      <td>sirve</td>\n",
              "      <td>pequeña</td>\n",
              "      <td>pequeño</td>\n",
              "      <td>recomendable</td>\n",
              "      <td>mal</td>\n",
              "    </tr>\n",
              "    <tr>\n",
              "      <th>2</th>\n",
              "      <td>roto</td>\n",
              "      <td>precio</td>\n",
              "      <td>solo</td>\n",
              "      <td>hecho</td>\n",
              "      <td>envio</td>\n",
              "      <td>pequeños</td>\n",
              "      <td>bastante</td>\n",
              "      <td>libro</td>\n",
              "      <td>falta</td>\n",
              "      <td>ajusta</td>\n",
              "      <td>excelente</td>\n",
              "      <td>dinero</td>\n",
              "      <td>genial</td>\n",
              "      <td>buenos</td>\n",
              "      <td>sonido</td>\n",
              "      <td>contento</td>\n",
              "      <td>caro</td>\n",
              "      <td>correcto</td>\n",
              "      <td>gusto</td>\n",
              "      <td>fotos</td>\n",
              "    </tr>\n",
              "    <tr>\n",
              "      <th>3</th>\n",
              "      <td>funciona</td>\n",
              "      <td>gran</td>\n",
              "      <td>totalmente</td>\n",
              "      <td>material</td>\n",
              "      <td>tamaño</td>\n",
              "      <td>problemas</td>\n",
              "      <td>vale</td>\n",
              "      <td>poner</td>\n",
              "      <td>ver</td>\n",
              "      <td>pedi</td>\n",
              "      <td>resistente</td>\n",
              "      <td>pena</td>\n",
              "      <td>perfecta</td>\n",
              "      <td>practico</td>\n",
              "      <td>precio</td>\n",
              "      <td>recibido</td>\n",
              "      <td>tipo</td>\n",
              "      <td>veces</td>\n",
              "      <td>probado</td>\n",
              "      <td>instrucciones</td>\n",
              "    </tr>\n",
              "    <tr>\n",
              "      <th>4</th>\n",
              "      <td>casi</td>\n",
              "      <td>pedir</td>\n",
              "      <td>creo</td>\n",
              "      <td>llega</td>\n",
              "      <td>pone</td>\n",
              "      <td>talla</td>\n",
              "      <td>marca</td>\n",
              "      <td>compre</td>\n",
              "      <td>comprar</td>\n",
              "      <td>vendedor</td>\n",
              "      <td>siempre</td>\n",
              "      <td>mala</td>\n",
              "      <td>encantado</td>\n",
              "      <td>uso</td>\n",
              "      <td>producto</td>\n",
              "      <td>producto</td>\n",
              "      <td>cuesta</td>\n",
              "      <td>plastico</td>\n",
              "      <td>servicio</td>\n",
              "      <td>agua</td>\n",
              "    </tr>\n",
              "    <tr>\n",
              "      <th>5</th>\n",
              "      <td>cumple</td>\n",
              "      <td>comprado</td>\n",
              "      <td>producto</td>\n",
              "      <td>bien</td>\n",
              "      <td>genial</td>\n",
              "      <td>malo</td>\n",
              "      <td>espero</td>\n",
              "      <td>hacer</td>\n",
              "      <td>caso</td>\n",
              "      <td>meses</td>\n",
              "      <td>precio</td>\n",
              "      <td>igual</td>\n",
              "      <td>colores</td>\n",
              "      <td>dura</td>\n",
              "      <td>bien</td>\n",
              "      <td>carga</td>\n",
              "      <td>compra</td>\n",
              "      <td>bien</td>\n",
              "      <td>sale</td>\n",
              "      <td>hora</td>\n",
              "    </tr>\n",
              "    <tr>\n",
              "      <th>6</th>\n",
              "      <td>bien</td>\n",
              "      <td>bien</td>\n",
              "      <td>dentro</td>\n",
              "      <td>pena</td>\n",
              "      <td>bien</td>\n",
              "      <td>correctamente</td>\n",
              "      <td>puesto</td>\n",
              "      <td>usar</td>\n",
              "      <td>trae</td>\n",
              "      <td>poder</td>\n",
              "      <td>bastante</td>\n",
              "      <td>mes</td>\n",
              "      <td>años</td>\n",
              "      <td>usado</td>\n",
              "      <td>decir</td>\n",
              "      <td>llevar</td>\n",
              "      <td>bien</td>\n",
              "      <td>ahora</td>\n",
              "      <td>primera</td>\n",
              "      <td>deja</td>\n",
              "    </tr>\n",
              "    <tr>\n",
              "      <th>7</th>\n",
              "      <td>buena</td>\n",
              "      <td>semana</td>\n",
              "      <td>pedido</td>\n",
              "      <td>perfecto</td>\n",
              "      <td>funciona</td>\n",
              "      <td>original</td>\n",
              "      <td>bien</td>\n",
              "      <td>buen</td>\n",
              "      <td>bien</td>\n",
              "      <td>funcionar</td>\n",
              "      <td>calidad</td>\n",
              "      <td>compra</td>\n",
              "      <td>nota</td>\n",
              "      <td>parte</td>\n",
              "      <td>cristal</td>\n",
              "      <td>igual</td>\n",
              "      <td>menos</td>\n",
              "      <td>precio</td>\n",
              "      <td>calidad</td>\n",
              "      <td>bien</td>\n",
              "    </tr>\n",
              "    <tr>\n",
              "      <th>8</th>\n",
              "      <td>calidad</td>\n",
              "      <td>caja</td>\n",
              "      <td>bien</td>\n",
              "      <td>foto</td>\n",
              "      <td>normal</td>\n",
              "      <td>bien</td>\n",
              "      <td>gusta</td>\n",
              "      <td>reloj</td>\n",
              "      <td>devolver</td>\n",
              "      <td>bien</td>\n",
              "      <td>luego</td>\n",
              "      <td>calidad</td>\n",
              "      <td>mejor</td>\n",
              "      <td>usar</td>\n",
              "      <td>calidad</td>\n",
              "      <td>bien</td>\n",
              "      <td>calidad</td>\n",
              "      <td>producto</td>\n",
              "      <td>dia</td>\n",
              "      <td>producto</td>\n",
              "    </tr>\n",
              "    <tr>\n",
              "      <th>9</th>\n",
              "      <td>forma</td>\n",
              "      <td>mejor</td>\n",
              "      <td>paquete</td>\n",
              "      <td>compre</td>\n",
              "      <td>buen</td>\n",
              "      <td>precio</td>\n",
              "      <td>buena</td>\n",
              "      <td>precio</td>\n",
              "      <td>llego</td>\n",
              "      <td>uso</td>\n",
              "      <td>buena</td>\n",
              "      <td>bien</td>\n",
              "      <td>verdad</td>\n",
              "      <td>bien</td>\n",
              "      <td>buena</td>\n",
              "      <td>color</td>\n",
              "      <td>bastante</td>\n",
              "      <td>buen</td>\n",
              "      <td>llegar</td>\n",
              "      <td>pega</td>\n",
              "    </tr>\n",
              "    <tr>\n",
              "      <th>10</th>\n",
              "      <td>compre</td>\n",
              "      <td>cuenta</td>\n",
              "      <td>compra</td>\n",
              "      <td>mal</td>\n",
              "      <td>producto</td>\n",
              "      <td>bastante</td>\n",
              "      <td>producto</td>\n",
              "      <td>bien</td>\n",
              "      <td>llevar</td>\n",
              "      <td>parte</td>\n",
              "      <td>tamaño</td>\n",
              "      <td>mejor</td>\n",
              "      <td>bien</td>\n",
              "      <td>bateria</td>\n",
              "      <td>mala</td>\n",
              "      <td>solo</td>\n",
              "      <td>precio</td>\n",
              "      <td>calidad</td>\n",
              "      <td>precio</td>\n",
              "      <td>solo</td>\n",
              "    </tr>\n",
              "    <tr>\n",
              "      <th>11</th>\n",
              "      <td>plastico</td>\n",
              "      <td>perfecto</td>\n",
              "      <td>caja</td>\n",
              "      <td>ver</td>\n",
              "      <td>pedido</td>\n",
              "      <td>encima</td>\n",
              "      <td>solo</td>\n",
              "      <td>mejor</td>\n",
              "      <td>creo</td>\n",
              "      <td>compre</td>\n",
              "      <td>diseño</td>\n",
              "      <td>colores</td>\n",
              "      <td>problema</td>\n",
              "      <td>tampoco</td>\n",
              "      <td>compra</td>\n",
              "      <td>bastante</td>\n",
              "      <td>pega</td>\n",
              "      <td>deja</td>\n",
              "      <td>bien</td>\n",
              "      <td>menos</td>\n",
              "    </tr>\n",
              "    <tr>\n",
              "      <th>12</th>\n",
              "      <td>meses</td>\n",
              "      <td>diseño</td>\n",
              "      <td>tiempo</td>\n",
              "      <td>poner</td>\n",
              "      <td>igual</td>\n",
              "      <td>producto</td>\n",
              "      <td>compre</td>\n",
              "      <td>facil</td>\n",
              "      <td>precio</td>\n",
              "      <td>producto</td>\n",
              "      <td>problema</td>\n",
              "      <td>recomiendo</td>\n",
              "      <td>lleva</td>\n",
              "      <td>pega</td>\n",
              "      <td>bastante</td>\n",
              "      <td>pedido</td>\n",
              "      <td>mejor</td>\n",
              "      <td>buena</td>\n",
              "      <td>plastico</td>\n",
              "      <td>precio</td>\n",
              "    </tr>\n",
              "    <tr>\n",
              "      <th>13</th>\n",
              "      <td>funcionar</td>\n",
              "      <td>bastante</td>\n",
              "      <td>nunca</td>\n",
              "      <td>producto</td>\n",
              "      <td>uso</td>\n",
              "      <td>tamaño</td>\n",
              "      <td>funciona</td>\n",
              "      <td>meses</td>\n",
              "      <td>producto</td>\n",
              "      <td>compra</td>\n",
              "      <td>buen</td>\n",
              "      <td>dia</td>\n",
              "      <td>diseño</td>\n",
              "      <td>compra</td>\n",
              "      <td>material</td>\n",
              "      <td>viene</td>\n",
              "      <td>forma</td>\n",
              "      <td>tamaño</td>\n",
              "      <td>buena</td>\n",
              "      <td>bastante</td>\n",
              "    </tr>\n",
              "    <tr>\n",
              "      <th>14</th>\n",
              "      <td>carga</td>\n",
              "      <td>tener</td>\n",
              "      <td>facil</td>\n",
              "      <td>vale</td>\n",
              "      <td>pega</td>\n",
              "      <td>funciona</td>\n",
              "      <td>igual</td>\n",
              "      <td>calidad</td>\n",
              "      <td>bueno</td>\n",
              "      <td>llego</td>\n",
              "      <td>compra</td>\n",
              "      <td>grande</td>\n",
              "      <td>calidad</td>\n",
              "      <td>bastante</td>\n",
              "      <td>recomendable</td>\n",
              "      <td>buena</td>\n",
              "      <td>buena</td>\n",
              "      <td>original</td>\n",
              "      <td>genial</td>\n",
              "      <td>ver</td>\n",
              "    </tr>\n",
              "  </tbody>\n",
              "</table>\n",
              "</div>"
            ],
            "text/plain": [
              "        Topic# 01 Topic# 02   Topic# 03  ... Topic# 18     Topic# 19      Topic# 20\n",
              "0   perfectamente     buena       llego  ...    cumple         viene        momento\n",
              "1      recomiendo   calidad     entrega  ...   pequeño  recomendable            mal\n",
              "2            roto    precio        solo  ...  correcto         gusto          fotos\n",
              "3        funciona      gran  totalmente  ...     veces       probado  instrucciones\n",
              "4            casi     pedir        creo  ...  plastico      servicio           agua\n",
              "5          cumple  comprado    producto  ...      bien          sale           hora\n",
              "6            bien      bien      dentro  ...     ahora       primera           deja\n",
              "7           buena    semana      pedido  ...    precio       calidad           bien\n",
              "8         calidad      caja        bien  ...  producto           dia       producto\n",
              "9           forma     mejor     paquete  ...      buen        llegar           pega\n",
              "10         compre    cuenta      compra  ...   calidad        precio           solo\n",
              "11       plastico  perfecto        caja  ...      deja          bien          menos\n",
              "12          meses    diseño      tiempo  ...     buena      plastico         precio\n",
              "13      funcionar  bastante       nunca  ...    tamaño         buena       bastante\n",
              "14          carga     tener       facil  ...  original        genial            ver\n",
              "\n",
              "[15 rows x 20 columns]"
            ]
          },
          "metadata": {
            "tags": []
          },
          "execution_count": 43
        }
      ]
    },
    {
      "cell_type": "markdown",
      "metadata": {
        "id": "ab8wrQejzrm5"
      },
      "source": [
        "Se aplica la función de coherencia para revisar cuál es el número óptimo de temas para el modelo LDA."
      ]
    },
    {
      "cell_type": "code",
      "metadata": {
        "colab": {
          "base_uri": "https://localhost:8080/",
          "height": 319
        },
        "id": "O37YbYJmzrnG",
        "outputId": "a6184184-1be9-4693-ed36-7bd3b1a47c34"
      },
      "source": [
        "%%time\n",
        "model_list_LDA, coherence_values = coherence_graph(dictionary=dictionary, corpus_tfidf=corpus_tfidf, data_reviews=data['review_body'].to_list(), limit=20, model= \"lda\")"
      ],
      "execution_count": 44,
      "outputs": [
        {
          "output_type": "display_data",
          "data": {
            "image/png": "[encoded data removed]",
            "text/plain": [
              "<Figure size 432x288 with 1 Axes>"
            ]
          },
          "metadata": {
            "tags": []
          }
        },
        {
          "output_type": "stream",
          "text": [
            "CPU times: user 1min 19s, sys: 92.8 ms, total: 1min 19s\n",
            "Wall time: 1min 19s\n"
          ],
          "name": "stdout"
        }
      ]
    },
    {
      "cell_type": "markdown",
      "metadata": {
        "id": "Y9ovIf6_0Yo7"
      },
      "source": [
        "Según puede observarse en el gráfico, el mejor número de temas se encuentra en 15. A continuación se procede a listar los 15 temas ya con el modelo optimizado:"
      ]
    },
    {
      "cell_type": "code",
      "metadata": {
        "colab": {
          "base_uri": "https://localhost:8080/",
          "height": 551
        },
        "id": "5OCNX_EzCjoy",
        "outputId": "3899fab4-0b22-438d-e4c2-e0b76dba393c"
      },
      "source": [
        "coherence_ldamodel = model_list_LDA[14]\n",
        "word_dict = {};\n",
        "for i in range(0,15):\n",
        "    words = coherence_ldamodel.show_topic(i, topn = 15)\n",
        "    word_dict['Topic# ' + '{:02d}'.format(i+1)] = [i[0] for i in words]\n",
        "pd.DataFrame(word_dict)"
      ],
      "execution_count": 45,
      "outputs": [
        {
          "output_type": "execute_result",
          "data": {
            "text/html": [
              "<div>\n",
              "<style scoped>\n",
              "    .dataframe tbody tr th:only-of-type {\n",
              "        vertical-align: middle;\n",
              "    }\n",
              "\n",
              "    .dataframe tbody tr th {\n",
              "        vertical-align: top;\n",
              "    }\n",
              "\n",
              "    .dataframe thead th {\n",
              "        text-align: right;\n",
              "    }\n",
              "</style>\n",
              "<table border=\"1\" class=\"dataframe\">\n",
              "  <thead>\n",
              "    <tr style=\"text-align: right;\">\n",
              "      <th></th>\n",
              "      <th>Topic# 01</th>\n",
              "      <th>Topic# 02</th>\n",
              "      <th>Topic# 03</th>\n",
              "      <th>Topic# 04</th>\n",
              "      <th>Topic# 05</th>\n",
              "      <th>Topic# 06</th>\n",
              "      <th>Topic# 07</th>\n",
              "      <th>Topic# 08</th>\n",
              "      <th>Topic# 09</th>\n",
              "      <th>Topic# 10</th>\n",
              "      <th>Topic# 11</th>\n",
              "      <th>Topic# 12</th>\n",
              "      <th>Topic# 13</th>\n",
              "      <th>Topic# 14</th>\n",
              "      <th>Topic# 15</th>\n",
              "    </tr>\n",
              "  </thead>\n",
              "  <tbody>\n",
              "    <tr>\n",
              "      <th>0</th>\n",
              "      <td>grande</td>\n",
              "      <td>gustado</td>\n",
              "      <td>llego</td>\n",
              "      <td>buena</td>\n",
              "      <td>contento</td>\n",
              "      <td>mejor</td>\n",
              "      <td>genial</td>\n",
              "      <td>bueno</td>\n",
              "      <td>bien</td>\n",
              "      <td>gusta</td>\n",
              "      <td>pequeño</td>\n",
              "      <td>perfecto</td>\n",
              "      <td>producto</td>\n",
              "      <td>comodo</td>\n",
              "      <td>bonita</td>\n",
              "    </tr>\n",
              "    <tr>\n",
              "      <th>1</th>\n",
              "      <td>demasiado</td>\n",
              "      <td>rapido</td>\n",
              "      <td>pedir</td>\n",
              "      <td>calidad</td>\n",
              "      <td>funciona</td>\n",
              "      <td>mal</td>\n",
              "      <td>buen</td>\n",
              "      <td>meses</td>\n",
              "      <td>recomendable</td>\n",
              "      <td>gran</td>\n",
              "      <td>contenta</td>\n",
              "      <td>cumple</td>\n",
              "      <td>veces</td>\n",
              "      <td>excelente</td>\n",
              "      <td>tener</td>\n",
              "    </tr>\n",
              "    <tr>\n",
              "      <th>2</th>\n",
              "      <td>gusto</td>\n",
              "      <td>entrega</td>\n",
              "      <td>dinero</td>\n",
              "      <td>precio</td>\n",
              "      <td>falta</td>\n",
              "      <td>viene</td>\n",
              "      <td>facil</td>\n",
              "      <td>resistente</td>\n",
              "      <td>correcto</td>\n",
              "      <td>practico</td>\n",
              "      <td>perfecta</td>\n",
              "      <td>bastante</td>\n",
              "      <td>usado</td>\n",
              "      <td>perfectamente</td>\n",
              "      <td>llegado</td>\n",
              "    </tr>\n",
              "    <tr>\n",
              "      <th>3</th>\n",
              "      <td>solo</td>\n",
              "      <td>envio</td>\n",
              "      <td>nunca</td>\n",
              "      <td>encantado</td>\n",
              "      <td>pequeños</td>\n",
              "      <td>buenos</td>\n",
              "      <td>momento</td>\n",
              "      <td>tamaño</td>\n",
              "      <td>color</td>\n",
              "      <td>dura</td>\n",
              "      <td>poner</td>\n",
              "      <td>llevar</td>\n",
              "      <td>forma</td>\n",
              "      <td>luz</td>\n",
              "      <td>foto</td>\n",
              "    </tr>\n",
              "    <tr>\n",
              "      <th>4</th>\n",
              "      <td>problema</td>\n",
              "      <td>casa</td>\n",
              "      <td>sido</td>\n",
              "      <td>libro</td>\n",
              "      <td>diseño</td>\n",
              "      <td>sonido</td>\n",
              "      <td>usar</td>\n",
              "      <td>malo</td>\n",
              "      <td>fotos</td>\n",
              "      <td>bateria</td>\n",
              "      <td>casi</td>\n",
              "      <td>bien</td>\n",
              "      <td>servicio</td>\n",
              "      <td>colores</td>\n",
              "      <td>pone</td>\n",
              "    </tr>\n",
              "    <tr>\n",
              "      <th>5</th>\n",
              "      <td>hacer</td>\n",
              "      <td>comprar</td>\n",
              "      <td>tiempo</td>\n",
              "      <td>bien</td>\n",
              "      <td>sirve</td>\n",
              "      <td>calidad</td>\n",
              "      <td>regalo</td>\n",
              "      <td>original</td>\n",
              "      <td>uso</td>\n",
              "      <td>material</td>\n",
              "      <td>caro</td>\n",
              "      <td>recomiendo</td>\n",
              "      <td>deja</td>\n",
              "      <td>agua</td>\n",
              "      <td>comprado</td>\n",
              "    </tr>\n",
              "    <tr>\n",
              "      <th>6</th>\n",
              "      <td>instrucciones</td>\n",
              "      <td>roto</td>\n",
              "      <td>espero</td>\n",
              "      <td>bonito</td>\n",
              "      <td>bien</td>\n",
              "      <td>trae</td>\n",
              "      <td>siempre</td>\n",
              "      <td>bien</td>\n",
              "      <td>llega</td>\n",
              "      <td>reloj</td>\n",
              "      <td>ahora</td>\n",
              "      <td>tipo</td>\n",
              "      <td>buen</td>\n",
              "      <td>pega</td>\n",
              "      <td>plastico</td>\n",
              "    </tr>\n",
              "    <tr>\n",
              "      <th>7</th>\n",
              "      <td>bien</td>\n",
              "      <td>mes</td>\n",
              "      <td>decir</td>\n",
              "      <td>vale</td>\n",
              "      <td>ajusta</td>\n",
              "      <td>mala</td>\n",
              "      <td>caja</td>\n",
              "      <td>funciona</td>\n",
              "      <td>puesto</td>\n",
              "      <td>buen</td>\n",
              "      <td>primera</td>\n",
              "      <td>totalmente</td>\n",
              "      <td>poder</td>\n",
              "      <td>duro</td>\n",
              "      <td>normal</td>\n",
              "    </tr>\n",
              "    <tr>\n",
              "      <th>8</th>\n",
              "      <td>producto</td>\n",
              "      <td>ver</td>\n",
              "      <td>pedido</td>\n",
              "      <td>buen</td>\n",
              "      <td>cuesta</td>\n",
              "      <td>precio</td>\n",
              "      <td>lleva</td>\n",
              "      <td>funcionar</td>\n",
              "      <td>producto</td>\n",
              "      <td>problemas</td>\n",
              "      <td>bien</td>\n",
              "      <td>pequeña</td>\n",
              "      <td>semana</td>\n",
              "      <td>tiempo</td>\n",
              "      <td>bien</td>\n",
              "    </tr>\n",
              "    <tr>\n",
              "      <th>9</th>\n",
              "      <td>foto</td>\n",
              "      <td>caso</td>\n",
              "      <td>correctamente</td>\n",
              "      <td>pena</td>\n",
              "      <td>dia</td>\n",
              "      <td>bien</td>\n",
              "      <td>bien</td>\n",
              "      <td>hora</td>\n",
              "      <td>llegar</td>\n",
              "      <td>bien</td>\n",
              "      <td>compra</td>\n",
              "      <td>perfectamente</td>\n",
              "      <td>vendedor</td>\n",
              "      <td>marca</td>\n",
              "      <td>años</td>\n",
              "    </tr>\n",
              "    <tr>\n",
              "      <th>10</th>\n",
              "      <td>tamaño</td>\n",
              "      <td>producto</td>\n",
              "      <td>precio</td>\n",
              "      <td>talla</td>\n",
              "      <td>bastante</td>\n",
              "      <td>devolver</td>\n",
              "      <td>precio</td>\n",
              "      <td>solo</td>\n",
              "      <td>probado</td>\n",
              "      <td>compre</td>\n",
              "      <td>verdad</td>\n",
              "      <td>carga</td>\n",
              "      <td>cumple</td>\n",
              "      <td>bien</td>\n",
              "      <td>precio</td>\n",
              "    </tr>\n",
              "    <tr>\n",
              "      <th>11</th>\n",
              "      <td>pequeña</td>\n",
              "      <td>paquete</td>\n",
              "      <td>producto</td>\n",
              "      <td>compra</td>\n",
              "      <td>bonito</td>\n",
              "      <td>bastante</td>\n",
              "      <td>probado</td>\n",
              "      <td>precio</td>\n",
              "      <td>compra</td>\n",
              "      <td>años</td>\n",
              "      <td>tamaño</td>\n",
              "      <td>parte</td>\n",
              "      <td>precio</td>\n",
              "      <td>igual</td>\n",
              "      <td>perfecta</td>\n",
              "    </tr>\n",
              "    <tr>\n",
              "      <th>12</th>\n",
              "      <td>buen</td>\n",
              "      <td>bien</td>\n",
              "      <td>bien</td>\n",
              "      <td>creo</td>\n",
              "      <td>correctamente</td>\n",
              "      <td>buena</td>\n",
              "      <td>producto</td>\n",
              "      <td>tampoco</td>\n",
              "      <td>calidad</td>\n",
              "      <td>precio</td>\n",
              "      <td>sale</td>\n",
              "      <td>compre</td>\n",
              "      <td>bien</td>\n",
              "      <td>buen</td>\n",
              "      <td>calidad</td>\n",
              "    </tr>\n",
              "    <tr>\n",
              "      <th>13</th>\n",
              "      <td>bonito</td>\n",
              "      <td>hecho</td>\n",
              "      <td>vendedor</td>\n",
              "      <td>material</td>\n",
              "      <td>precio</td>\n",
              "      <td>cristal</td>\n",
              "      <td>menos</td>\n",
              "      <td>compre</td>\n",
              "      <td>precio</td>\n",
              "      <td>estrellas</td>\n",
              "      <td>compre</td>\n",
              "      <td>precio</td>\n",
              "      <td>plastico</td>\n",
              "      <td>recibido</td>\n",
              "      <td>facil</td>\n",
              "    </tr>\n",
              "    <tr>\n",
              "      <th>14</th>\n",
              "      <td>nota</td>\n",
              "      <td>vendedor</td>\n",
              "      <td>paquete</td>\n",
              "      <td>pedi</td>\n",
              "      <td>calidad</td>\n",
              "      <td>plastico</td>\n",
              "      <td>recomiendo</td>\n",
              "      <td>menos</td>\n",
              "      <td>funciona</td>\n",
              "      <td>producto</td>\n",
              "      <td>pega</td>\n",
              "      <td>uso</td>\n",
              "      <td>mejor</td>\n",
              "      <td>verdad</td>\n",
              "      <td>buena</td>\n",
              "    </tr>\n",
              "  </tbody>\n",
              "</table>\n",
              "</div>"
            ],
            "text/plain": [
              "        Topic# 01 Topic# 02      Topic# 03  ... Topic# 13      Topic# 14 Topic# 15\n",
              "0          grande   gustado          llego  ...  producto         comodo    bonita\n",
              "1       demasiado    rapido          pedir  ...     veces      excelente     tener\n",
              "2           gusto   entrega         dinero  ...     usado  perfectamente   llegado\n",
              "3            solo     envio          nunca  ...     forma            luz      foto\n",
              "4        problema      casa           sido  ...  servicio        colores      pone\n",
              "5           hacer   comprar         tiempo  ...      deja           agua  comprado\n",
              "6   instrucciones      roto         espero  ...      buen           pega  plastico\n",
              "7            bien       mes          decir  ...     poder           duro    normal\n",
              "8        producto       ver         pedido  ...    semana         tiempo      bien\n",
              "9            foto      caso  correctamente  ...  vendedor          marca      años\n",
              "10         tamaño  producto         precio  ...    cumple           bien    precio\n",
              "11        pequeña   paquete       producto  ...    precio          igual  perfecta\n",
              "12           buen      bien           bien  ...      bien           buen   calidad\n",
              "13         bonito     hecho       vendedor  ...  plastico       recibido     facil\n",
              "14           nota  vendedor        paquete  ...     mejor         verdad     buena\n",
              "\n",
              "[15 rows x 15 columns]"
            ]
          },
          "metadata": {
            "tags": []
          },
          "execution_count": 45
        }
      ]
    },
    {
      "cell_type": "markdown",
      "metadata": {
        "id": "09ySPFosCcsd"
      },
      "source": [
        "**Conclusión:** El resultado muestra 15 temas dentro de los cuales puede observarse una interesante y variada mezcla de palabras, las cuales definitivamente sí tienen mucha más consistencia con los aspectos que uno esperaría encontrar en una base de datos de reseñas u opiniones de clientes de Amazon. A partir de este resultado pueden ahora sí consolidarse las descripciones de los temas que agrupen las palabras más representativas, consistentes y relacionadas por grupo."
      ]
    },
    {
      "cell_type": "markdown",
      "metadata": {
        "id": "m2-83fOjosOR"
      },
      "source": [
        "## **4. Visualización del Modelo Final y Conclusiones**\n",
        "\n",
        "1. Tanto el Modelo 1 como el Modelo 2 arrojaron resultados que no permitían hacer una adecuada interpretación de los temas según las palabras y que fueran acordes con la lógica de los que se esperaría del análisis de reseñas u opiniones de los usuarios de Amazon, razón por la cual estos modelos deben desecharse.\n",
        "\n",
        "2. El Modelo 3 (LDA) arrojó un resultado óptimo en cuanto a la variedad y consistencia de las palabras utilizadas en las reseñas u opiniones, las cuales permitieron agrupar de manera lógica dichas reseñas, tal y como se muestran a continuación los temas con algunas de sus palabras asociadas:\n",
        "\n",
        "  * Topic 1: Tamaño de los productos (Grande, Demasiado, Tamaño, Pequeña)\n",
        "\n",
        "  * Topic 2: Logística y Despacho de los productos (Rápido, Entrega, Envío, Paquete, Recibido)\n",
        "\n",
        "  * Topic 3: Tiempo de entrega de los productos (Llegó, Pedir, Nunca, Tiempo, Espero)\n",
        "\n",
        "  * Topic 4: Percepción de la relación calidad vs precio de los productos (Buena, Calidad, Precio, Encantado, Buen) \n",
        "\n",
        "  * Topic 5: Funcionamiento de los productos (Funciona, Falta, Diseño, Sirve, Ajusta)\n",
        "\n",
        "  * Topic 6: Calidad de los productos (Mejor, Mal, Buenos, Calidad, Mala)\n",
        "\n",
        "  * Topic 7: Facilidad de uso de los productos (Buen, Fácil, Usar, Probado, Producto)\n",
        "\n",
        "  * Topic 8: Resistencia de los productos (Bueno, Meses, Resistente, Original, Funciona)\n",
        "\n",
        "  * Topic 9: Recomendaciones del producto a otros clientes (Bien, Recomendable, Correcto, Uso, Llega)\n",
        "\n",
        "  * Topic 10: Duración de los productos en el tiempo (Dura, Batería, Material, Buen, Años)\n",
        "\n",
        "  * Topic 11: Percepción de valor del producto (Pequeño, Perfecta, Caro, Tamaño)\n",
        "\n",
        "  * Topic 12: Cubrimiento de expectativas generales del cliente (Perfecto, Cumple, Recomiendo, Totalmente, Perfectamente)\n",
        "\n",
        "  * Topic 13: Servicio ofrecido por el vendedor (Producto, Servicio, Buen, Vendedor, Veces)\n",
        "\n",
        "  * Topic 14: Características de los productos (Luz, Colores, Agua, Pega, Dura)\n",
        "\n",
        "  * Topic 15: Satisfacción generald del cliente (Bonita, Foto, Llegado, normal bien)\n",
        "  \n",
        "\n",
        "3. Utilizando la librería PyLDAvis se puede hacer una visualización interactiva para ayudarnos a interpretar los temas del modelo seleccionado (LDA). A partir de esta visualización podemos también sacar las siguientes conclusiones: \n",
        "\n",
        " * Existen algunas palabras dentro de las reseñas que aplican para varios de los temas o tópicos, por ejemplo, los topicos 5, 9 y 11 tienen palabras fuertemente relacionadas, tal y como se observa en la gráfica.\n",
        "\n",
        " * El gráfico también permite observar las 30 palabras que más se utilizan en los 15 temas, por ejemplo la palabra \"bien\" es la de mayor frecuencia. \n",
        "\n",
        " * Al seleccionar cada tema se muestra en color rojo la frecuencia estimada de la palabra dentro de cada topico, por ejemplo, la palabra \"grande\" es la que en promedio aparece más en el tópico 1. \n",
        "\n",
        "4. A partir de la experiencia en el desarrollo de este trabajo se pudo observar que un buen pre-procesamiento de los datos es determinante en el resultado de los modelos, en lo que se refiere a la mezcla resultante de las palabras por tópico, es decir, en cuanto a si los grupos de palabras son coherentes y lógicos para lo que se espera según el dataset que se tiene y el conocimiento del mismo, por ende, se hace necesario que se dedique buen tiempo al pre-procesamiento y a correr los modelos con diferentes combinaciones de parámetros hasta encontrar el resultado que mejor se ajuste según nuestra experiencia con los datos y más allá de los resultados de la métrica, esto porque se pudo observar que no necesariamente los resultados de una métrica alta o favorable son los correctos en lo que respecta a la lógica y tampoco significa que el modelo pueda generalizar de manera precisa frente a datos nuevos. \n",
        "\n",
        "5. A futuro se puede realizar otras pruebas y correr este mismo proyecto haciendo uso de otras librerías especializadas en el modelamiento de temas para probar si mejora el resultado en cuanto a la coherencia de los temas agrupados. Por ejemplo, se puede hacer uso de la librería [tomotopy](https://pypi.org/project/tomotopy/) (Topic Modeling Tool), la cual soporta varios modelos como los que se utilizaron en este proyecto.  \n"
      ]
    },
    {
      "cell_type": "code",
      "metadata": {
        "colab": {
          "base_uri": "https://localhost:8080/",
          "height": 915
        },
        "id": "XydaJWkVVutM",
        "outputId": "c795aee2-d803-4505-8f9a-be5c40babf5d"
      },
      "source": [
        "import pyLDAvis\n",
        "import pyLDAvis.gensim\n",
        "\n",
        "lda_display = pyLDAvis.gensim.prepare(coherence_ldamodel, corpus_tfidf, dictionary, sort_topics=False)\n",
        "pyLDAvis.display(lda_display)"
      ],
      "execution_count": 46,
      "outputs": [
        {
          "output_type": "stream",
          "text": [
            "/usr/local/lib/python3.7/dist-packages/past/builtins/misc.py:4: DeprecationWarning: Using or importing the ABCs from 'collections' instead of from 'collections.abc' is deprecated since Python 3.3,and in 3.9 it will stop working\n",
            "  from collections import Mapping\n"
          ],
          "name": "stderr"
        },
        {
          "output_type": "execute_result",
          "data": {
            "text/html": [
              "\n",
              "<link rel=\"stylesheet\" type=\"text/css\" href=\"https://cdn.jsdelivr.net/gh/bmabey/pyLDAvis@3.2.2/pyLDAvis/js/ldavis.v1.0.0.css\">\n",
              "\n",
              "\n",
              "<div id=\"ldavis_el13871400107966928161300802078\"></div>\n",
              "<script type=\"text/javascript\">\n",
              "\n",
              "var ldavis_el13871400107966928161300802078_data = {\"mdsDat\": {\"x\": [0.03655185013603436, 0.20923811926007824, 0.07507312322708228, -0.04677988483255424, -0.09089337919818596, -0.011506865704631504, 0.10264326329155028, -0.0032849440704622846, -0.0931807263772656, -0.045333135313139455, -0.0675195627119391, -0.18672593947482966, 0.016315788159564658, -0.02800200732320859, 0.13340430093190658], \"y\": [-0.13657014467924106, 0.10647389006875062, 0.14857864389238437, -0.09581041239545549, 0.014205011848401183, -0.1445960201960503, -0.039020109961469096, 0.024107861522525854, 0.02147063974429367, 0.060813555185158685, 0.0010045428322380738, 0.06457949168863877, 0.12452630526256722, -0.03482020023378333, -0.11494305457895951], \"topics\": [1, 2, 3, 4, 5, 6, 7, 8, 9, 10, 11, 12, 13, 14, 15], \"cluster\": [1, 1, 1, 1, 1, 1, 1, 1, 1, 1, 1, 1, 1, 1, 1], \"Freq\": [6.227617210097593, 7.297600857426008, 7.178571148778358, 8.095194848994177, 6.392548538040818, 7.0385305505248255, 6.772822892778086, 6.855976601773205, 6.054305040700324, 6.496805427274004, 6.5759384709212165, 6.574413012861744, 5.763900098864692, 6.892403411397891, 5.783371889567042]}, \"tinfo\": {\"Term\": [\"perfecto\", \"buena\", \"gustado\", \"llego\", \"rapido\", \"grande\", \"cumple\", \"bueno\", \"bien\", \"genial\", \"bonita\", \"peque\\u00f1o\", \"buen\", \"mejor\", \"recomendable\", \"contenta\", \"facil\", \"meses\", \"demasiado\", \"comodo\", \"mal\", \"contento\", \"perfecta\", \"falta\", \"calidad\", \"gran\", \"gusto\", \"excelente\", \"tener\", \"buenos\", \"gusto\", \"grande\", \"demasiado\", \"instrucciones\", \"hacer\", \"problema\", \"solo\", \"nota\", \"peque\\u00f1a\", \"peque\\u00f1os\", \"foto\", \"tama\\u00f1o\", \"bonito\", \"dentro\", \"cuenta\", \"caro\", \"creo\", \"caja\", \"tener\", \"luego\", \"peque\\u00f1o\", \"envio\", \"verdad\", \"igual\", \"producto\", \"facil\", \"llegado\", \"buen\", \"recomiendo\", \"uso\", \"bastante\", \"bien\", \"precio\", \"calidad\", \"tiempo\", \"llego\", \"buena\", \"rapido\", \"gustado\", \"casa\", \"entrega\", \"mes\", \"caso\", \"roto\", \"envio\", \"paquete\", \"hecho\", \"comprar\", \"ver\", \"dentro\", \"recibido\", \"vendedor\", \"pedido\", \"menos\", \"llegado\", \"encima\", \"sido\", \"siempre\", \"color\", \"foto\", \"producto\", \"problemas\", \"llega\", \"comprado\", \"hora\", \"tiempo\", \"material\", \"llego\", \"buen\", \"compre\", \"bien\", \"solo\", \"recomiendo\", \"precio\", \"nunca\", \"pedir\", \"dinero\", \"espero\", \"llego\", \"sido\", \"correctamente\", \"decir\", \"pedido\", \"paquete\", \"pedi\", \"tiempo\", \"encima\", \"vendedor\", \"momento\", \"pena\", \"hecho\", \"tampoco\", \"menos\", \"mes\", \"recibido\", \"mala\", \"semana\", \"estrellas\", \"problemas\", \"llegado\", \"casi\", \"sale\", \"comprar\", \"dia\", \"envio\", \"producto\", \"precio\", \"compra\", \"funciona\", \"bien\", \"calidad\", \"foto\", \"buena\", \"encantado\", \"libro\", \"buena\", \"talla\", \"vale\", \"pena\", \"bonito\", \"calidad\", \"cuenta\", \"pedi\", \"precio\", \"creo\", \"material\", \"color\", \"compra\", \"nota\", \"perfectamente\", \"buen\", \"tampoco\", \"a\\u00f1os\", \"dia\", \"bien\", \"paquete\", \"recomiendo\", \"bastante\", \"comprar\", \"menos\", \"cumple\", \"colores\", \"pedir\", \"gusta\", \"tiempo\", \"facil\", \"producto\", \"perfecto\", \"grande\", \"contento\", \"falta\", \"ajusta\", \"sirve\", \"peque\\u00f1os\", \"dise\\u00f1o\", \"cuesta\", \"dia\", \"funciona\", \"correctamente\", \"carga\", \"bonito\", \"nota\", \"compra\", \"tener\", \"decir\", \"encima\", \"verdad\", \"hora\", \"bastante\", \"bien\", \"mala\", \"creo\", \"estrellas\", \"sale\", \"mal\", \"recomiendo\", \"solo\", \"parte\", \"resistente\", \"compre\", \"cumple\", \"calidad\", \"precio\", \"buen\", \"producto\", \"tiempo\", \"buena\", \"trae\", \"buenos\", \"devolver\", \"mal\", \"sonido\", \"mejor\", \"viene\", \"mala\", \"cristal\", \"calidad\", \"luego\", \"sale\", \"pedi\", \"caso\", \"fotos\", \"plastico\", \"bastante\", \"nota\", \"malo\", \"igual\", \"perfectamente\", \"roto\", \"ver\", \"precio\", \"marca\", \"probado\", \"bateria\", \"solo\", \"buena\", \"bueno\", \"bien\", \"gusta\", \"producto\", \"recomiendo\", \"funciona\", \"perfecto\", \"genial\", \"caja\", \"siempre\", \"momento\", \"facil\", \"lleva\", \"usar\", \"regalo\", \"probado\", \"buen\", \"decir\", \"dentro\", \"menos\", \"sonido\", \"cuesta\", \"cristal\", \"cuenta\", \"tipo\", \"nota\", \"recomiendo\", \"malo\", \"plastico\", \"uso\", \"llevar\", \"instrucciones\", \"deja\", \"color\", \"verdad\", \"funciona\", \"marca\", \"precio\", \"producto\", \"mejor\", \"bien\", \"envio\", \"buena\", \"foto\", \"bastante\", \"calidad\", \"meses\", \"bueno\", \"resistente\", \"malo\", \"original\", \"funcionar\", \"hora\", \"tampoco\", \"tama\\u00f1o\", \"vale\", \"hecho\", \"menos\", \"funciona\", \"tipo\", \"usar\", \"problemas\", \"compre\", \"solo\", \"roto\", \"a\\u00f1os\", \"luego\", \"material\", \"uso\", \"igual\", \"pena\", \"problema\", \"dia\", \"ver\", \"tiempo\", \"facil\", \"bastante\", \"bien\", \"precio\", \"recomiendo\", \"producto\", \"calidad\", \"recomendable\", \"puesto\", \"llega\", \"fotos\", \"correcto\", \"llegar\", \"color\", \"bien\", \"encima\", \"probado\", \"uso\", \"sale\", \"compra\", \"totalmente\", \"vendedor\", \"sonido\", \"producto\", \"problemas\", \"estrellas\", \"funciona\", \"marca\", \"correctamente\", \"cumple\", \"pedido\", \"poder\", \"nota\", \"espero\", \"llegado\", \"viene\", \"resistente\", \"calidad\", \"precio\", \"compre\", \"buena\", \"solo\", \"perfecto\", \"practico\", \"dura\", \"reloj\", \"gran\", \"bateria\", \"gusta\", \"material\", \"problemas\", \"a\\u00f1os\", \"estrellas\", \"lleva\", \"cuesta\", \"compre\", \"hora\", \"carga\", \"buen\", \"primera\", \"ahora\", \"probado\", \"ver\", \"sale\", \"tampoco\", \"veces\", \"pedido\", \"dentro\", \"bastante\", \"recibido\", \"duro\", \"siempre\", \"producto\", \"precio\", \"compra\", \"bien\", \"buena\", \"tiempo\", \"recomiendo\", \"funciona\", \"perfectamente\", \"calidad\", \"contenta\", \"perfecta\", \"caro\", \"peque\\u00f1o\", \"casi\", \"poner\", \"primera\", \"ahora\", \"verdad\", \"sale\", \"cristal\", \"compra\", \"tama\\u00f1o\", \"talla\", \"estrellas\", \"pega\", \"parte\", \"comprar\", \"veces\", \"mala\", \"mes\", \"original\", \"cuenta\", \"usar\", \"compre\", \"nota\", \"carga\", \"creo\", \"uso\", \"tampoco\", \"deja\", \"menos\", \"bien\", \"recomiendo\", \"plastico\", \"mejor\", \"calidad\", \"precio\", \"bastante\", \"llevar\", \"perfecto\", \"totalmente\", \"tipo\", \"cumple\", \"peque\\u00f1a\", \"carga\", \"bastante\", \"recomiendo\", \"talla\", \"parte\", \"perfectamente\", \"pega\", \"regalo\", \"correcto\", \"compre\", \"dia\", \"llegar\", \"hacer\", \"pena\", \"uso\", \"hecho\", \"estrellas\", \"caso\", \"pedi\", \"compra\", \"sale\", \"problema\", \"cuenta\", \"tiempo\", \"bien\", \"precio\", \"llego\", \"producto\", \"buen\", \"solo\", \"servicio\", \"usado\", \"forma\", \"deja\", \"veces\", \"poder\", \"semana\", \"vendedor\", \"producto\", \"funcionar\", \"buen\", \"problemas\", \"plastico\", \"cumple\", \"duro\", \"sido\", \"devolver\", \"dia\", \"creo\", \"marca\", \"momento\", \"mejor\", \"parte\", \"tampoco\", \"recibido\", \"encima\", \"solo\", \"perfectamente\", \"siempre\", \"usar\", \"entrega\", \"problema\", \"tiempo\", \"precio\", \"bien\", \"compre\", \"uso\", \"calidad\", \"recomiendo\", \"excelente\", \"luz\", \"colores\", \"comodo\", \"duro\", \"agua\", \"marca\", \"pega\", \"luego\", \"perfectamente\", \"igual\", \"recibido\", \"verdad\", \"tiempo\", \"semana\", \"tama\\u00f1o\", \"dise\\u00f1o\", \"viene\", \"foto\", \"parte\", \"estrellas\", \"plastico\", \"gusta\", \"peque\\u00f1a\", \"ver\", \"compre\", \"puesto\", \"totalmente\", \"buen\", \"facil\", \"funciona\", \"producto\", \"bien\", \"bastante\", \"recomiendo\", \"precio\", \"calidad\", \"bonita\", \"pone\", \"normal\", \"comprado\", \"tener\", \"llegado\", \"foto\", \"plastico\", \"a\\u00f1os\", \"perfecta\", \"luego\", \"llegar\", \"resistente\", \"agua\", \"marca\", \"regalo\", \"recomendable\", \"nota\", \"tama\\u00f1o\", \"original\", \"envio\", \"pedido\", \"ver\", \"igual\", \"creo\", \"practico\", \"facil\", \"viene\", \"compre\", \"paquete\", \"bien\", \"precio\", \"bastante\", \"calidad\", \"buena\", \"producto\", \"uso\"], \"Freq\": [218.0, 359.0, 168.0, 223.0, 132.0, 151.0, 231.0, 193.0, 735.0, 126.0, 109.0, 147.0, 324.0, 207.0, 108.0, 95.0, 187.0, 117.0, 116.0, 106.0, 163.0, 87.0, 105.0, 90.0, 395.0, 100.0, 80.0, 75.0, 121.0, 90.0, 74.6429970064386, 123.05955919894718, 92.37320586151392, 46.453518902789064, 57.962011932304875, 62.62136754222823, 68.06938119664858, 15.69515584007963, 18.960433431497595, 14.365885334042417, 22.377844769392162, 20.534837723764863, 16.309045975077485, 6.6725796900869865, 4.204639243697802, 7.634552607905273, 8.122700254963428, 5.694520335633942, 10.735317500510712, 3.932716832175706, 12.289428897503603, 10.145862797283774, 6.063664987569426, 5.715264979188172, 24.075006290110952, 11.838262595373774, 7.9310506982883355, 17.1309168202464, 8.902688739547012, 8.817270629212715, 13.30468521486015, 33.55337021777217, 14.047385146603872, 11.062269721763819, 7.857668078028618, 7.791768164757004, 7.650156289250477, 123.78875452448766, 148.55468011205076, 61.961344369966525, 75.76564210084607, 36.176333684347576, 32.873332582454864, 40.23354764453551, 65.97416998215743, 27.825734352081835, 26.809625321484397, 42.86526330353265, 34.51990730574469, 20.003924742910016, 20.645047037786256, 21.16788686192692, 13.085050870266043, 17.73470013744682, 17.308714427552232, 4.416904189905142, 9.665197196315171, 6.5918301079415755, 10.77128475330402, 13.093853858683548, 31.566051909057276, 7.816339324395741, 3.970266002865959, 6.662444072181656, 4.543300413300107, 13.982315085300117, 7.000416667627677, 13.957701598762172, 17.55029351723935, 10.151579635099626, 27.519326853788446, 10.962076167371329, 9.394909452884965, 12.021050854801878, 59.067723560413576, 64.27839327778378, 61.34613895039939, 44.587307449369106, 164.98106219356845, 57.38554238155082, 37.07824654499002, 40.497209121312835, 39.73423573151494, 18.94618127505639, 14.425942363304786, 51.224115345001366, 10.064999545320942, 19.838348495017353, 15.060573126798657, 8.262247649291028, 9.011236661476866, 7.496530391756265, 15.128046978954206, 6.281512215598043, 6.991946311904406, 10.045572521845248, 4.861909281434723, 8.10270026342793, 9.159782182474364, 13.115550313928651, 8.805114457741851, 5.28718898521143, 11.026121976091394, 5.626621920461418, 12.019379002161013, 31.481647156505662, 32.60338207770962, 13.24937957595983, 14.711767601253078, 26.023798396033445, 17.738215223893235, 8.98477950793786, 8.96802156943106, 65.52435845845207, 57.42269677813643, 228.51302057088688, 29.584848652755856, 33.78531616567025, 30.7861486982207, 55.59678162627833, 176.0226515256295, 16.124507949908196, 19.1180561980415, 143.1426261926058, 22.741396030481546, 20.5655440267083, 18.399598516843284, 25.094552944253824, 7.620218850147089, 16.70095353578446, 30.869088921004224, 5.259597341127737, 7.463066735091576, 5.198099692164111, 57.0021445327392, 5.193492453197024, 11.940752994818952, 17.981081393692357, 7.901313134449203, 8.22955379737117, 14.386171264100625, 4.31071291258839, 4.296958164974944, 7.392607603281067, 9.760538065961933, 9.047429246584723, 13.254474631768687, 9.825077236747035, 7.827323853050589, 82.62611941070139, 80.78465952979087, 51.72370775213435, 64.89556629120881, 66.45474827686162, 64.90912020560661, 28.134575025754888, 23.394976819947164, 81.56458937047722, 19.967730499732752, 12.411196997938449, 20.473121103511946, 8.326194097800354, 16.4180984043464, 11.311769860499545, 6.492754432349432, 3.710059663643862, 7.00270675095991, 4.752551791482566, 20.86878963638784, 57.60368569930968, 7.138617060657411, 5.984245155130947, 5.441795270160667, 3.7549477014603885, 11.512112188698532, 11.656835480741833, 13.184899285036966, 6.064159876643427, 6.6541787127730085, 10.392980950270907, 14.148159528560724, 18.658596689479843, 19.44054003074437, 14.785957381936191, 14.991648805542752, 9.053215685210581, 9.140045938986077, 52.25115534061729, 78.02817493659265, 32.06086661346606, 112.89901808156313, 71.48872297776119, 130.68426364386275, 91.83960181786045, 46.94646914703231, 24.776433098637316, 62.3118795269592, 6.801493767688821, 7.363955435527677, 7.448707075207327, 6.4561527792481135, 7.372879384864667, 14.900396707672522, 26.49128706631352, 5.634351503740705, 7.01877295609525, 7.269792458267885, 14.531103067153849, 5.765699400392247, 7.754724890083345, 36.37193854949223, 5.2528246339774505, 5.452907751570486, 6.3476916424657865, 14.350001672875667, 25.60032626173701, 13.461550055117325, 34.372680602426385, 9.063558033046514, 14.369912345242454, 9.295099797320557, 9.925120268903388, 8.582596952778676, 112.11390777230892, 39.674462506608506, 43.587670373027414, 56.93142767953335, 109.92636820082835, 36.135528709896214, 53.91014996259825, 53.86378229488446, 23.502943600125697, 110.59161059137377, 14.199544166132462, 8.929029906324082, 18.295599684609996, 14.059019669418575, 7.707737102125547, 6.019229969449322, 4.426955357665003, 7.216518208830487, 6.091826787542123, 17.31486353996068, 7.76249106312382, 14.389067650049093, 15.458829758212357, 5.50705857217157, 6.164855760432696, 7.045269218012881, 9.835540221998244, 6.220549256051333, 15.887835480806439, 4.506699071909178, 29.0710729602075, 22.181687113804077, 13.910518207313899, 32.37229982882814, 8.566567721894359, 14.378829783567442, 8.079894495271652, 8.952547843049846, 8.915900286129615, 99.56536087231837, 139.2070176345215, 68.01729452890024, 49.3495093635227, 49.34377038457696, 33.49081784975938, 27.885688194088303, 24.45882874990466, 56.443122613384624, 16.484801092706263, 16.497159223430195, 20.658902063829583, 35.346967911731305, 10.140151903728201, 16.003736224142486, 12.882477408819424, 23.922383364709848, 25.81433902555809, 8.46497346361577, 9.569155008394478, 5.172236919312163, 12.259573423533578, 18.146729150518187, 8.622535954206379, 5.7626968727267815, 11.019267058327511, 5.576737779870983, 8.514675395021667, 17.745553095569313, 16.273539656731348, 19.835211539535486, 38.88650628367827, 25.304084558919456, 12.235443243756968, 13.477245272582863, 11.770620609896136, 90.8224380711357, 34.11275527160517, 35.0334728499901, 52.07442598340868, 65.90913056450653, 26.738334999708545, 61.7896290396449, 233.84479060881574, 12.95662281303088, 18.91015795954365, 45.23190154339083, 10.08156605946359, 18.054618410715456, 6.319209009314927, 7.816705588241545, 9.070526564863595, 27.398793085071773, 6.486378894292713, 5.681534759719095, 15.587475283213692, 4.469299651340527, 4.507843284597868, 13.333979600188352, 4.9182273353236345, 3.6145322551422012, 3.0226461927421253, 3.0297404899525664, 6.48292438081531, 7.224111603325258, 4.609729867558266, 16.911305692454313, 16.331368518093175, 6.715039026417208, 9.035163365681704, 5.820459626125094, 4.99728370698331, 69.7769515896825, 62.0841660484698, 41.337453485216045, 81.95278817009702, 61.02187722698693, 84.08519286073815, 55.43507312340334, 31.826826168381757, 29.299366573961603, 23.644659049649853, 15.884024829268267, 14.058313208024945, 29.374276914277093, 9.294239904822556, 8.315350346547284, 35.40518833995536, 5.952962928822955, 8.060226811890747, 6.234365397835225, 8.452404300254017, 4.827926843845198, 5.16229525501081, 9.538356404860297, 7.791980232524128, 4.5945834826729826, 21.872009914764416, 4.602048240756079, 3.7139020235158156, 4.371373281773302, 23.043654456261415, 27.58189892142857, 10.94739319231378, 31.529671069212, 14.476069934086292, 10.01508870098242, 8.988188804619902, 9.754525845936001, 8.747228404299694, 10.702095269896756, 86.14938406427079, 83.15416701462684, 54.48277915931151, 113.61154057087626, 60.38137244392184, 75.0499878136495, 37.843343966073704, 44.12437963398401, 28.68022296505955, 15.155344285582075, 11.88503395459081, 33.15962763507707, 20.3338932522487, 8.088160653373238, 10.374318841653402, 12.224324332100137, 11.795140490783885, 11.062330094085471, 10.265559345898922, 8.42112390354521, 4.765013948293575, 7.109586618148313, 3.329958403430354, 8.44935948374546, 13.344910415517676, 4.648633792600648, 4.409046167789867, 5.635227427725103, 12.212582803700032, 3.9325103694259864, 5.506291744923596, 8.092756522318865, 34.822070898365375, 10.418619310968392, 8.289489835173589, 8.591388658148528, 10.932763260057651, 10.021181419282692, 8.755874827860982, 47.96328731869548, 170.4799556343671, 40.78297425374529, 41.379444522277524, 140.16519916828148, 40.52391278469415, 23.371334594084544, 75.29427028920986, 41.387751829077885, 13.475058966020505, 21.288603743599232, 26.28565425086588, 14.023569847075455, 15.821078463859713, 12.695590250935076, 20.889689852329738, 7.280806498911461, 4.96831334945532, 9.893586429572654, 6.456986152527075, 17.970644457974778, 7.264516200634424, 7.121118971640627, 5.111397845815568, 5.020908834556523, 13.28972182325121, 4.030566921926143, 8.261957546922542, 2.6901744589290333, 13.196060162086594, 43.11557495326961, 18.70646153912137, 11.30309305638168, 14.661171759050108, 10.171964804191697, 7.4396897846109935, 60.487260132942446, 63.3085477234771, 61.33301063494348, 59.98613508816069, 70.78898641440327, 42.97377021081988, 27.63109218534639, 22.441671047242462, 78.30097368157092, 11.74902869581305, 55.50385310502095, 10.337038293437342, 16.185244353551354, 21.95619313554958, 4.744105231530382, 8.357800463663565, 3.7903321148475726, 5.350474023734851, 6.900997625784062, 4.64229025486298, 6.020895397203468, 14.251832667452142, 5.953713389321545, 3.8002647771811047, 4.0047583251073835, 2.7519364414319183, 12.390945266615645, 10.313541103172392, 3.883052416162331, 6.068410318645101, 5.855366036335859, 6.888875954255986, 10.470988172326544, 19.12019088215979, 18.118329321860337, 7.790364069759798, 7.951662876754451, 12.349856530899423, 6.889917477589977, 72.98089363315059, 68.13369750622954, 61.15058915903651, 92.59060748796131, 35.69813288454157, 50.24720130418519, 33.07618919382689, 40.61430079854254, 19.78346109333534, 70.9291329061903, 30.53676245376625, 21.482876510578816, 19.876870771416154, 35.34745590647797, 7.428768831393829, 18.334401014681127, 11.320360953913088, 18.37205885017437, 16.317415499534857, 9.791783753862243, 7.752148524711716, 13.971885854288582, 13.30517089808723, 6.807785168799821, 8.073261187612262, 14.020386789621439, 3.7776223686251154, 4.906262458786687, 25.717414794580147, 14.670717250719923, 16.376667670875797, 19.629311472205146, 32.502181738143456, 13.99494895553475, 10.564840070268838, 14.322179538434396, 12.518218857278127, 99.48631051182757, 57.22844752424455, 39.06499480431646, 51.72566740809053, 78.55878015504605, 66.08442358239878, 60.33125870631346, 50.03656791917595, 21.82106195215191, 15.460231160996246, 6.657579702873316, 5.47754140323328, 11.54544771938836, 8.45433887953167, 6.828753037850126, 10.339047696625126, 10.784812309672235, 5.347849451422937, 11.2930410980906, 6.7369102953798565, 9.924835461747419, 6.534407412265925, 6.696325105365091, 5.846988280731197, 5.557024831447847, 5.429900076530288, 12.72363382744794, 9.56188565234779, 10.367194275016836, 4.154724428157405, 34.31370564951603, 18.623650339837482, 11.368656232384925, 13.061977530857435, 12.418963596034018, 11.96218949598441, 8.32223300953862], \"Total\": [218.0, 359.0, 168.0, 223.0, 132.0, 151.0, 231.0, 193.0, 735.0, 126.0, 109.0, 147.0, 324.0, 207.0, 108.0, 95.0, 187.0, 117.0, 116.0, 106.0, 163.0, 87.0, 105.0, 90.0, 395.0, 100.0, 80.0, 75.0, 121.0, 90.0, 80.33547025899641, 151.83861826401588, 116.25668749808744, 68.74663133751824, 90.48791536481173, 116.45689970701106, 193.82635457981488, 58.70397417592642, 71.70492701074345, 91.033207839259, 142.28721979021174, 137.48959330686554, 109.80683473041672, 54.03452456693516, 38.55468011222778, 70.36840505250694, 77.35937141391011, 54.48549028728518, 121.96445769964109, 45.77372137213464, 147.01715423818786, 128.73054786045716, 81.37862874129331, 80.9679179400308, 347.9701793299452, 187.4960307549667, 127.89699103378643, 324.4665749737549, 168.91992902050654, 169.74196718212173, 257.5217588408829, 735.5801366537582, 436.70901152944225, 395.3814248681915, 202.56821097253757, 223.57429684273052, 359.597951596688, 132.98147491697455, 168.552333859254, 72.99122219446723, 97.3940127808983, 54.6962320640558, 54.76743553648158, 68.2778143630546, 128.73054786045716, 67.48901744621534, 68.84031279231229, 113.89511873562869, 92.07475379811677, 54.03452456693516, 60.89668713575462, 87.5352359891972, 89.77505213332333, 123.45082533481414, 127.89699103378643, 42.35331327862279, 92.83475811118907, 64.12695222056597, 114.54955681967854, 142.28721979021174, 347.9701793299452, 86.2354786970945, 46.22713493841746, 78.6273039074978, 55.818799259323875, 202.56821097253757, 111.27149960998113, 223.57429684273052, 324.4665749737549, 162.28597182184, 735.5801366537582, 193.82635457981488, 168.91992902050654, 436.70901152944225, 68.03928857571668, 79.98517857468703, 80.97837065134267, 59.163319889033716, 223.57429684273052, 92.83475811118907, 65.7810720682476, 73.151987112705, 89.77505213332333, 67.48901744621534, 56.706267213779256, 202.56821097253757, 42.35331327862279, 87.5352359891972, 83.79709001119183, 59.38384105076043, 68.84031279231229, 57.70912500279408, 123.45082533481414, 54.6962320640558, 60.89668713575462, 91.93534072362644, 45.16766448067554, 76.1030822328419, 86.2354786970945, 127.89699103378643, 87.1057182610213, 52.669103616769654, 113.89511873562869, 59.83987197803241, 128.73054786045716, 347.9701793299452, 436.70901152944225, 166.8526561605867, 220.63619615153456, 735.5801366537582, 395.3814248681915, 142.28721979021174, 359.597951596688, 66.78013848474785, 62.30381796605292, 359.597951596688, 55.45383881821606, 64.13495601675314, 59.38384105076043, 109.80683473041672, 395.3814248681915, 38.55468011222778, 56.706267213779256, 436.70901152944225, 77.35937141391011, 111.27149960998113, 114.54955681967854, 166.8526561605867, 58.70397417592642, 167.8661518479697, 324.4665749737549, 57.70912500279408, 83.56734914458323, 59.83987197803241, 735.5801366537582, 67.48901744621534, 168.91992902050654, 257.5217588408829, 113.89511873562869, 123.45082533481414, 231.0422419253597, 69.42934881780117, 79.98517857468703, 138.8481387912637, 202.56821097253757, 187.4960307549667, 347.9701793299452, 218.3922300489371, 151.83861826401588, 87.1903989362937, 90.26341384162123, 62.17357923008771, 80.38633192148143, 91.033207839259, 89.10325468952426, 60.343085912616004, 59.83987197803241, 220.63619615153456, 65.7810720682476, 59.60905349443109, 109.80683473041672, 58.70397417592642, 166.8526561605867, 121.96445769964109, 73.151987112705, 42.35331327862279, 81.37862874129331, 55.818799259323875, 257.5217588408829, 735.5801366537582, 91.93534072362644, 77.35937141391011, 76.1030822328419, 52.669103616769654, 163.16641562627836, 168.91992902050654, 193.82635457981488, 90.1673442138288, 100.12905175324293, 162.28597182184, 231.0422419253597, 395.3814248681915, 436.70901152944225, 324.4665749737549, 347.9701793299452, 202.56821097253757, 359.597951596688, 60.08102103387274, 90.62977480845578, 42.23902426828788, 163.16641562627836, 107.73706762187692, 207.02021641115059, 146.36718123665437, 91.93534072362644, 49.76508421972135, 395.3814248681915, 45.77372137213464, 52.669103616769654, 56.706267213779256, 54.76743553648158, 69.58156653882894, 144.29364274416974, 257.5217588408829, 58.70397417592642, 77.26434964391201, 80.9679179400308, 167.8661518479697, 68.2778143630546, 92.07475379811677, 436.70901152944225, 63.6216423427906, 67.88919361991171, 83.60450814971918, 193.82635457981488, 359.597951596688, 193.40227199723614, 735.5801366537582, 138.8481387912637, 347.9701793299452, 168.91992902050654, 220.63619615153456, 218.3922300489371, 126.82403530612534, 54.48549028728518, 64.12695222056597, 83.79709001119183, 187.4960307549667, 66.44216609745041, 100.58447897768009, 103.13103150509285, 67.88919361991171, 324.4665749737549, 73.151987112705, 54.03452456693516, 123.45082533481414, 107.73706762187692, 60.343085912616004, 49.76508421972135, 38.55468011222778, 63.71521455342721, 58.70397417592642, 168.91992902050654, 77.26434964391201, 144.29364274416974, 169.74196718212173, 61.169394306100365, 68.74663133751824, 81.81524888226858, 114.54955681967854, 81.37862874129331, 220.63619615153456, 63.6216423427906, 436.70901152944225, 347.9701793299452, 207.02021641115059, 735.5801366537582, 128.73054786045716, 359.597951596688, 142.28721979021174, 257.5217588408829, 395.3814248681915, 117.15282090124447, 193.40227199723614, 100.12905175324293, 77.26434964391201, 82.11267595635402, 55.82999101291899, 55.818799259323875, 57.70912500279408, 137.48959330686554, 64.13495601675314, 68.84031279231229, 123.45082533481414, 220.63619615153456, 63.71521455342721, 100.58447897768009, 86.2354786970945, 162.28597182184, 193.82635457981488, 68.2778143630546, 83.56734914458323, 45.77372137213464, 111.27149960998113, 169.74196718212173, 80.9679179400308, 59.38384105076043, 116.45689970701106, 59.83987197803241, 92.07475379811677, 202.56821097253757, 187.4960307549667, 257.5217588408829, 735.5801366537582, 436.70901152944225, 168.91992902050654, 347.9701793299452, 395.3814248681915, 108.53627610015057, 44.34277377920316, 46.22713493841746, 69.58156653882894, 93.26685946407012, 41.68035254243349, 114.54955681967854, 735.5801366537582, 42.35331327862279, 67.88919361991171, 169.74196718212173, 52.669103616769654, 166.8526561605867, 60.25280347156806, 87.5352359891972, 107.73706762187692, 347.9701793299452, 86.2354786970945, 76.1030822328419, 220.63619615153456, 63.6216423427906, 65.7810720682476, 231.0422419253597, 89.77505213332333, 65.97840360312036, 58.70397417592642, 59.163319889033716, 127.89699103378643, 146.36718123665437, 100.12905175324293, 395.3814248681915, 436.70901152944225, 162.28597182184, 359.597951596688, 193.82635457981488, 218.3922300489371, 78.65835260159622, 70.19208374592927, 49.352406823012714, 100.79150750385753, 83.60450814971918, 138.8481387912637, 111.27149960998113, 86.2354786970945, 83.56734914458323, 76.1030822328419, 66.44216609745041, 60.343085912616004, 162.28597182184, 55.818799259323875, 59.60905349443109, 324.4665749737549, 59.24926882220888, 86.7935408300074, 67.88919361991171, 92.07475379811677, 52.669103616769654, 57.70912500279408, 106.79900947673951, 89.77505213332333, 54.03452456693516, 257.5217588408829, 60.89668713575462, 51.3930729170862, 64.12695222056597, 347.9701793299452, 436.70901152944225, 166.8526561605867, 735.5801366537582, 359.597951596688, 202.56821097253757, 168.91992902050654, 220.63619615153456, 167.8661518479697, 395.3814248681915, 95.21507520167526, 105.1467715044618, 70.36840505250694, 147.01715423818786, 87.1057182610213, 108.6456977451143, 59.24926882220888, 86.7935408300074, 81.37862874129331, 52.669103616769654, 49.76508421972135, 166.8526561605867, 137.48959330686554, 55.45383881821606, 76.1030822328419, 90.97300554026782, 90.1673442138288, 113.89511873562869, 106.79900947673951, 91.93534072362644, 54.6962320640558, 82.11267595635402, 38.55468011222778, 100.58447897768009, 162.28597182184, 58.70397417592642, 59.60905349443109, 77.35937141391011, 169.74196718212173, 57.70912500279408, 81.81524888226858, 123.45082533481414, 735.5801366537582, 168.91992902050654, 144.29364274416974, 207.02021641115059, 395.3814248681915, 436.70901152944225, 257.5217588408829, 61.169394306100365, 218.3922300489371, 60.25280347156806, 63.71521455342721, 231.0422419253597, 71.70492701074345, 59.60905349443109, 257.5217588408829, 168.91992902050654, 55.45383881821606, 90.1673442138288, 167.8661518479697, 90.97300554026782, 103.13103150509285, 93.26685946407012, 162.28597182184, 59.83987197803241, 41.68035254243349, 90.48791536481173, 59.38384105076043, 169.74196718212173, 68.84031279231229, 76.1030822328419, 54.76743553648158, 56.706267213779256, 166.8526561605867, 52.669103616769654, 116.45689970701106, 38.55468011222778, 202.56821097253757, 735.5801366537582, 436.70901152944225, 223.57429684273052, 347.9701793299452, 324.4665749737549, 193.82635457981488, 64.02833651053193, 69.51607048731255, 76.1227189816604, 81.81524888226858, 106.79900947673951, 65.97840360312036, 45.16766448067554, 87.5352359891972, 347.9701793299452, 55.82999101291899, 324.4665749737549, 86.2354786970945, 144.29364274416974, 231.0422419253597, 51.3930729170862, 92.83475811118907, 42.23902426828788, 59.83987197803241, 77.35937141391011, 63.6216423427906, 83.79709001119183, 207.02021641115059, 90.1673442138288, 57.70912500279408, 60.89668713575462, 42.35331327862279, 193.82635457981488, 167.8661518479697, 64.12695222056597, 100.58447897768009, 97.3940127808983, 116.45689970701106, 202.56821097253757, 436.70901152944225, 735.5801366537582, 162.28597182184, 169.74196718212173, 395.3814248681915, 168.91992902050654, 75.9329438958759, 75.9774014777336, 69.42934881780117, 106.06443668558325, 51.3930729170862, 77.38941986743382, 63.6216423427906, 90.97300554026782, 45.77372137213464, 167.8661518479697, 80.9679179400308, 60.89668713575462, 81.37862874129331, 202.56821097253757, 45.16766448067554, 137.48959330686554, 89.10325468952426, 146.36718123665437, 142.28721979021174, 90.1673442138288, 76.1030822328419, 144.29364274416974, 138.8481387912637, 71.70492701074345, 92.07475379811677, 162.28597182184, 44.34277377920316, 60.25280347156806, 324.4665749737549, 187.4960307549667, 220.63619615153456, 347.9701793299452, 735.5801366537582, 257.5217588408829, 168.91992902050654, 436.70901152944225, 395.3814248681915, 109.10878037798699, 67.99652852107747, 47.55275974778939, 78.6273039074978, 121.96445769964109, 127.89699103378643, 142.28721979021174, 144.29364274416974, 83.56734914458323, 105.1467715044618, 45.77372137213464, 41.68035254243349, 100.12905175324293, 77.38941986743382, 63.6216423427906, 103.13103150509285, 108.53627610015057, 58.70397417592642, 137.48959330686554, 82.11267595635402, 128.73054786045716, 89.77505213332333, 92.07475379811677, 80.9679179400308, 77.35937141391011, 78.65835260159622, 187.4960307549667, 146.36718123665437, 162.28597182184, 67.48901744621534, 735.5801366537582, 436.70901152944225, 257.5217588408829, 395.3814248681915, 359.597951596688, 347.9701793299452, 169.74196718212173], \"Category\": [\"Default\", \"Default\", \"Default\", \"Default\", \"Default\", \"Default\", \"Default\", \"Default\", \"Default\", \"Default\", \"Default\", \"Default\", \"Default\", \"Default\", \"Default\", \"Default\", \"Default\", \"Default\", \"Default\", \"Default\", \"Default\", \"Default\", \"Default\", \"Default\", \"Default\", \"Default\", \"Default\", \"Default\", \"Default\", \"Default\", \"Topic1\", \"Topic1\", \"Topic1\", \"Topic1\", \"Topic1\", \"Topic1\", \"Topic1\", \"Topic1\", \"Topic1\", \"Topic1\", \"Topic1\", \"Topic1\", \"Topic1\", \"Topic1\", \"Topic1\", \"Topic1\", \"Topic1\", \"Topic1\", \"Topic1\", \"Topic1\", \"Topic1\", \"Topic1\", \"Topic1\", \"Topic1\", \"Topic1\", \"Topic1\", \"Topic1\", \"Topic1\", \"Topic1\", \"Topic1\", \"Topic1\", \"Topic1\", \"Topic1\", \"Topic1\", \"Topic1\", \"Topic1\", \"Topic1\", \"Topic2\", \"Topic2\", \"Topic2\", \"Topic2\", \"Topic2\", \"Topic2\", \"Topic2\", \"Topic2\", \"Topic2\", \"Topic2\", \"Topic2\", \"Topic2\", \"Topic2\", \"Topic2\", \"Topic2\", \"Topic2\", \"Topic2\", \"Topic2\", \"Topic2\", \"Topic2\", \"Topic2\", \"Topic2\", \"Topic2\", \"Topic2\", \"Topic2\", \"Topic2\", \"Topic2\", \"Topic2\", \"Topic2\", \"Topic2\", \"Topic2\", \"Topic2\", \"Topic2\", \"Topic2\", \"Topic2\", \"Topic2\", \"Topic2\", \"Topic3\", \"Topic3\", \"Topic3\", \"Topic3\", \"Topic3\", \"Topic3\", \"Topic3\", \"Topic3\", \"Topic3\", \"Topic3\", \"Topic3\", \"Topic3\", \"Topic3\", \"Topic3\", \"Topic3\", \"Topic3\", \"Topic3\", \"Topic3\", \"Topic3\", \"Topic3\", \"Topic3\", \"Topic3\", \"Topic3\", \"Topic3\", \"Topic3\", \"Topic3\", \"Topic3\", \"Topic3\", \"Topic3\", \"Topic3\", \"Topic3\", \"Topic3\", \"Topic3\", \"Topic3\", \"Topic3\", \"Topic3\", \"Topic3\", \"Topic3\", \"Topic3\", \"Topic4\", \"Topic4\", \"Topic4\", \"Topic4\", \"Topic4\", \"Topic4\", \"Topic4\", \"Topic4\", \"Topic4\", \"Topic4\", \"Topic4\", \"Topic4\", \"Topic4\", \"Topic4\", \"Topic4\", \"Topic4\", \"Topic4\", \"Topic4\", \"Topic4\", \"Topic4\", \"Topic4\", \"Topic4\", \"Topic4\", \"Topic4\", \"Topic4\", \"Topic4\", \"Topic4\", \"Topic4\", \"Topic4\", \"Topic4\", \"Topic4\", \"Topic4\", \"Topic4\", \"Topic4\", \"Topic4\", \"Topic4\", \"Topic5\", \"Topic5\", \"Topic5\", \"Topic5\", \"Topic5\", \"Topic5\", \"Topic5\", \"Topic5\", \"Topic5\", \"Topic5\", \"Topic5\", \"Topic5\", \"Topic5\", \"Topic5\", \"Topic5\", \"Topic5\", \"Topic5\", \"Topic5\", \"Topic5\", \"Topic5\", \"Topic5\", \"Topic5\", \"Topic5\", \"Topic5\", \"Topic5\", \"Topic5\", \"Topic5\", \"Topic5\", \"Topic5\", \"Topic5\", \"Topic5\", \"Topic5\", \"Topic5\", \"Topic5\", \"Topic5\", \"Topic5\", \"Topic5\", \"Topic5\", \"Topic6\", \"Topic6\", \"Topic6\", \"Topic6\", \"Topic6\", \"Topic6\", \"Topic6\", \"Topic6\", \"Topic6\", \"Topic6\", \"Topic6\", \"Topic6\", \"Topic6\", \"Topic6\", \"Topic6\", \"Topic6\", \"Topic6\", \"Topic6\", \"Topic6\", \"Topic6\", \"Topic6\", \"Topic6\", \"Topic6\", \"Topic6\", \"Topic6\", \"Topic6\", \"Topic6\", \"Topic6\", \"Topic6\", \"Topic6\", \"Topic6\", \"Topic6\", \"Topic6\", \"Topic6\", \"Topic6\", \"Topic6\", \"Topic7\", \"Topic7\", \"Topic7\", \"Topic7\", \"Topic7\", \"Topic7\", \"Topic7\", \"Topic7\", \"Topic7\", \"Topic7\", \"Topic7\", \"Topic7\", \"Topic7\", \"Topic7\", \"Topic7\", \"Topic7\", \"Topic7\", \"Topic7\", \"Topic7\", \"Topic7\", \"Topic7\", \"Topic7\", \"Topic7\", \"Topic7\", \"Topic7\", \"Topic7\", \"Topic7\", \"Topic7\", \"Topic7\", \"Topic7\", \"Topic7\", \"Topic7\", \"Topic7\", \"Topic7\", \"Topic7\", \"Topic7\", \"Topic7\", \"Topic7\", \"Topic7\", \"Topic8\", \"Topic8\", \"Topic8\", \"Topic8\", \"Topic8\", \"Topic8\", \"Topic8\", \"Topic8\", \"Topic8\", \"Topic8\", \"Topic8\", \"Topic8\", \"Topic8\", \"Topic8\", \"Topic8\", \"Topic8\", \"Topic8\", \"Topic8\", \"Topic8\", \"Topic8\", \"Topic8\", \"Topic8\", \"Topic8\", \"Topic8\", \"Topic8\", \"Topic8\", \"Topic8\", \"Topic8\", \"Topic8\", \"Topic8\", \"Topic8\", \"Topic8\", \"Topic8\", \"Topic8\", \"Topic8\", \"Topic8\", \"Topic9\", \"Topic9\", \"Topic9\", \"Topic9\", \"Topic9\", \"Topic9\", \"Topic9\", \"Topic9\", \"Topic9\", \"Topic9\", \"Topic9\", \"Topic9\", \"Topic9\", \"Topic9\", \"Topic9\", \"Topic9\", \"Topic9\", \"Topic9\", \"Topic9\", \"Topic9\", \"Topic9\", \"Topic9\", \"Topic9\", \"Topic9\", \"Topic9\", \"Topic9\", \"Topic9\", \"Topic9\", \"Topic9\", \"Topic9\", \"Topic9\", \"Topic9\", \"Topic9\", \"Topic9\", \"Topic9\", \"Topic9\", \"Topic10\", \"Topic10\", \"Topic10\", \"Topic10\", \"Topic10\", \"Topic10\", \"Topic10\", \"Topic10\", \"Topic10\", \"Topic10\", \"Topic10\", \"Topic10\", \"Topic10\", \"Topic10\", \"Topic10\", \"Topic10\", \"Topic10\", \"Topic10\", \"Topic10\", \"Topic10\", \"Topic10\", \"Topic10\", \"Topic10\", \"Topic10\", \"Topic10\", \"Topic10\", \"Topic10\", \"Topic10\", \"Topic10\", \"Topic10\", \"Topic10\", \"Topic10\", \"Topic10\", \"Topic10\", \"Topic10\", \"Topic10\", \"Topic10\", \"Topic10\", \"Topic10\", \"Topic11\", \"Topic11\", \"Topic11\", \"Topic11\", \"Topic11\", \"Topic11\", \"Topic11\", \"Topic11\", \"Topic11\", \"Topic11\", \"Topic11\", \"Topic11\", \"Topic11\", \"Topic11\", \"Topic11\", \"Topic11\", \"Topic11\", \"Topic11\", \"Topic11\", \"Topic11\", \"Topic11\", \"Topic11\", \"Topic11\", \"Topic11\", \"Topic11\", \"Topic11\", \"Topic11\", \"Topic11\", \"Topic11\", \"Topic11\", \"Topic11\", \"Topic11\", \"Topic11\", \"Topic11\", \"Topic11\", \"Topic11\", \"Topic11\", \"Topic11\", \"Topic11\", \"Topic12\", \"Topic12\", \"Topic12\", \"Topic12\", \"Topic12\", \"Topic12\", \"Topic12\", \"Topic12\", \"Topic12\", \"Topic12\", \"Topic12\", \"Topic12\", \"Topic12\", \"Topic12\", \"Topic12\", \"Topic12\", \"Topic12\", \"Topic12\", \"Topic12\", \"Topic12\", \"Topic12\", \"Topic12\", \"Topic12\", \"Topic12\", \"Topic12\", \"Topic12\", \"Topic12\", \"Topic12\", \"Topic12\", \"Topic12\", \"Topic12\", \"Topic12\", \"Topic12\", \"Topic12\", \"Topic12\", \"Topic12\", \"Topic13\", \"Topic13\", \"Topic13\", \"Topic13\", \"Topic13\", \"Topic13\", \"Topic13\", \"Topic13\", \"Topic13\", \"Topic13\", \"Topic13\", \"Topic13\", \"Topic13\", \"Topic13\", \"Topic13\", \"Topic13\", \"Topic13\", \"Topic13\", \"Topic13\", \"Topic13\", \"Topic13\", \"Topic13\", \"Topic13\", \"Topic13\", \"Topic13\", \"Topic13\", \"Topic13\", \"Topic13\", \"Topic13\", \"Topic13\", \"Topic13\", \"Topic13\", \"Topic13\", \"Topic13\", \"Topic13\", \"Topic13\", \"Topic13\", \"Topic13\", \"Topic13\", \"Topic14\", \"Topic14\", \"Topic14\", \"Topic14\", \"Topic14\", \"Topic14\", \"Topic14\", \"Topic14\", \"Topic14\", \"Topic14\", \"Topic14\", \"Topic14\", \"Topic14\", \"Topic14\", \"Topic14\", \"Topic14\", \"Topic14\", \"Topic14\", \"Topic14\", \"Topic14\", \"Topic14\", \"Topic14\", \"Topic14\", \"Topic14\", \"Topic14\", \"Topic14\", \"Topic14\", \"Topic14\", \"Topic14\", \"Topic14\", \"Topic14\", \"Topic14\", \"Topic14\", \"Topic14\", \"Topic14\", \"Topic14\", \"Topic14\", \"Topic15\", \"Topic15\", \"Topic15\", \"Topic15\", \"Topic15\", \"Topic15\", \"Topic15\", \"Topic15\", \"Topic15\", \"Topic15\", \"Topic15\", \"Topic15\", \"Topic15\", \"Topic15\", \"Topic15\", \"Topic15\", \"Topic15\", \"Topic15\", \"Topic15\", \"Topic15\", \"Topic15\", \"Topic15\", \"Topic15\", \"Topic15\", \"Topic15\", \"Topic15\", \"Topic15\", \"Topic15\", \"Topic15\", \"Topic15\", \"Topic15\", \"Topic15\", \"Topic15\", \"Topic15\", \"Topic15\", \"Topic15\", \"Topic15\"], \"logprob\": [30.0, 29.0, 28.0, 27.0, 26.0, 25.0, 24.0, 23.0, 22.0, 21.0, 20.0, 19.0, 18.0, 17.0, 16.0, 15.0, 14.0, 13.0, 12.0, 11.0, 10.0, 9.0, 8.0, 7.0, 6.0, 5.0, 4.0, 3.0, 2.0, 1.0, -2.6192, -2.1192, -2.406, -3.0934, -2.8721, -2.7948, -2.7114, -4.1785, -3.9895, -4.267, -3.8238, -3.9098, -4.1402, -5.0339, -5.4957, -4.8992, -4.8372, -5.1924, -4.5583, -5.5625, -4.4231, -4.6148, -5.1296, -5.1887, -3.7507, -4.4605, -4.8611, -4.091, -4.7455, -4.7552, -4.3438, -3.4187, -4.2894, -4.5283, -4.8704, -4.8788, -4.8972, -2.2719, -2.0895, -2.9639, -2.7628, -3.502, -3.5978, -3.3957, -2.9012, -3.7645, -3.8017, -3.3324, -3.5489, -4.0945, -4.063, -4.0379, -4.519, -4.2149, -4.2392, -5.605, -4.8219, -5.2046, -4.7135, -4.5183, -3.6383, -5.0342, -5.7116, -5.1939, -5.5768, -4.4526, -5.1445, -4.4544, -4.2254, -4.7728, -3.7755, -4.696, -4.8503, -4.6038, -2.9953, -2.9108, -2.9575, -3.2765, -1.9682, -3.0242, -3.461, -3.3728, -3.3918, -4.1324, -4.405, -3.1378, -4.7649, -4.0864, -4.3619, -4.9623, -4.8755, -5.0595, -4.3574, -5.2364, -5.1292, -4.7669, -5.4926, -4.9818, -4.8592, -4.5002, -4.8987, -5.4087, -4.6737, -5.3465, -4.5875, -3.6246, -3.5896, -4.49, -4.3853, -3.815, -4.1983, -4.8785, -4.8803, -3.0117, -3.1437, -1.7626, -3.8069, -3.6741, -3.7671, -3.176, -2.0235, -4.4138, -4.2435, -2.2303, -4.07, -4.1705, -4.2818, -3.9715, -5.1633, -4.3787, -3.7644, -5.5341, -5.1842, -5.5459, -3.1511, -5.5467, -4.7142, -4.3048, -5.1271, -5.0864, -4.5279, -5.7331, -5.7362, -5.1937, -4.9158, -4.9917, -4.6098, -4.9092, -5.1365, -2.5437, -2.5662, -3.0121, -2.7852, -2.7615, -2.785, -3.621, -3.8055, -2.5566, -3.9639, -4.4394, -3.9389, -4.8386, -4.1596, -4.5322, -5.0873, -5.647, -5.0117, -5.3993, -3.9198, -2.9044, -4.9925, -5.1689, -5.2639, -5.6349, -4.5146, -4.5021, -4.3789, -5.1556, -5.0628, -4.6169, -4.3084, -4.0317, -3.9907, -4.2643, -4.2505, -4.7549, -4.7454, -3.0982, -2.6972, -3.5866, -2.3278, -2.7847, -2.1815, -2.5342, -3.2053, -3.8444, -2.9221, -5.1371, -5.0577, -5.0462, -5.1893, -5.0565, -4.3529, -3.7775, -5.3254, -5.1057, -5.0706, -4.378, -5.3024, -5.006, -3.4605, -5.3955, -5.3581, -5.2062, -4.3905, -3.8117, -4.4544, -3.517, -4.85, -4.3891, -4.8248, -4.7592, -4.9045, -2.2963, -3.3351, -3.241, -2.974, -2.316, -3.4285, -3.0285, -3.0293, -3.8587, -2.31, -4.3626, -4.8265, -4.1091, -4.3725, -4.9736, -5.2208, -5.5281, -5.0394, -5.2089, -4.1642, -4.9665, -4.3493, -4.2776, -5.3098, -5.1969, -5.0634, -4.7298, -5.1879, -4.2502, -5.5102, -3.6461, -3.9165, -4.3832, -3.5385, -4.8679, -4.35, -4.9264, -4.8239, -4.828, -2.4272, -2.092, -2.8082, -3.1291, -3.1292, -3.5167, -3.6999, -3.831, -2.9948, -4.2256, -4.2248, -3.9999, -3.4628, -4.7115, -4.2552, -4.4721, -3.8532, -3.7771, -4.8921, -4.7695, -5.3847, -4.5217, -4.1295, -4.8736, -5.2766, -4.6284, -5.3094, -4.8862, -4.1519, -4.2385, -4.0405, -3.3674, -3.797, -4.5237, -4.427, -4.5624, -2.3947, -3.374, -3.3473, -2.951, -2.7154, -3.6176, -2.7799, -1.449, -4.342, -3.964, -3.0919, -4.5929, -4.0103, -5.0601, -4.8474, -4.6986, -3.5932, -5.0339, -5.1664, -4.1572, -5.4064, -5.3978, -4.3133, -5.3107, -5.6187, -5.7975, -5.7952, -5.0345, -4.9262, -5.3755, -4.0757, -4.1106, -4.9993, -4.7025, -5.1423, -5.2948, -2.7289, -2.8457, -3.2524, -2.5681, -2.863, -2.5424, -2.959, -3.5139, -3.5966, -3.8111, -4.2089, -4.331, -3.5941, -4.7448, -4.8561, -3.4073, -5.1903, -4.8873, -5.1441, -4.8397, -5.3998, -5.3328, -4.7189, -4.9211, -5.4493, -3.889, -5.4477, -5.6621, -5.4991, -3.8368, -3.657, -4.5811, -3.5233, -4.3017, -4.6701, -4.7783, -4.6965, -4.8055, -4.6038, -2.5302, -2.5656, -2.9884, -2.2535, -2.8856, -2.6681, -3.3528, -3.1993, -3.6301, -4.2679, -4.511, -3.485, -3.974, -4.8959, -4.647, -4.4829, -4.5186, -4.5828, -4.6575, -4.8556, -5.425, -5.0249, -5.7833, -4.8522, -4.3952, -5.4497, -5.5026, -5.2573, -4.4838, -5.617, -5.2804, -4.8953, -3.4361, -4.6427, -4.8713, -4.8355, -4.5945, -4.6816, -4.8166, -3.1156, -1.8475, -3.2778, -3.2633, -2.0432, -3.2842, -3.8346, -2.6647, -3.2631, -4.3852, -3.9279, -3.717, -4.3453, -4.2247, -4.4448, -3.9468, -5.0008, -5.383, -4.6942, -5.1209, -4.0973, -5.0031, -5.023, -5.3546, -5.3725, -4.3991, -5.5922, -4.8744, -5.9965, -4.4062, -3.2222, -4.0572, -4.561, -4.3009, -4.6664, -4.9792, -2.7521, -2.7065, -2.7382, -2.7604, -2.5948, -3.0939, -3.5356, -3.7436, -2.4939, -4.3907, -2.838, -4.5188, -4.0704, -3.7654, -5.2976, -4.7313, -5.522, -5.1773, -4.9228, -5.3193, -5.0593, -4.1976, -5.0705, -5.5194, -5.467, -5.8422, -4.3375, -4.521, -5.4979, -5.0514, -5.0871, -4.9246, -4.5059, -3.9038, -3.9576, -4.8016, -4.7811, -4.3409, -4.9244, -2.7431, -2.8118, -2.92, -2.5051, -3.4582, -3.1163, -3.5345, -3.3292, -4.0485, -2.7716, -3.6144, -3.966, -4.0437, -3.4681, -5.0279, -4.1245, -4.6067, -4.1225, -4.2411, -4.7518, -4.9853, -4.3963, -4.4452, -5.1152, -4.9447, -4.3928, -5.7042, -5.4428, -3.7861, -4.3475, -4.2374, -4.0563, -3.552, -4.3946, -4.6758, -4.3715, -4.5061, -2.2579, -2.8108, -3.1926, -2.9119, -2.494, -2.6669, -2.758, -2.9451, -3.775, -4.1196, -4.9621, -5.1572, -4.4116, -4.7232, -4.9367, -4.5219, -4.4797, -5.1812, -4.4337, -4.9503, -4.5628, -4.9808, -4.9563, -5.0919, -5.1428, -5.166, -4.3144, -4.6001, -4.5192, -5.4336, -3.3223, -3.9334, -4.427, -4.2882, -4.3386, -4.3761, -4.7389], \"loglift\": [30.0, 29.0, 28.0, 27.0, 26.0, 25.0, 24.0, 23.0, 22.0, 21.0, 20.0, 19.0, 18.0, 17.0, 16.0, 15.0, 14.0, 13.0, 12.0, 11.0, 10.0, 9.0, 8.0, 7.0, 6.0, 5.0, 4.0, 3.0, 2.0, 1.0, 2.7027, 2.566, 2.5462, 2.3842, 2.3307, 2.1558, 1.7297, 1.457, 1.446, 0.9298, 0.9264, 0.8748, 0.8692, 0.6846, 0.5603, 0.5551, 0.5224, 0.5177, 0.346, 0.3218, 0.2944, 0.2355, 0.1794, 0.1253, 0.1052, 0.0138, -0.0043, -0.1651, -0.1669, -0.1814, -0.1868, -0.3113, -0.6607, -0.8001, -0.4734, -0.5805, -1.0741, 2.546, 2.4913, 2.4538, 2.3665, 2.2042, 2.1072, 2.0887, 1.9492, 1.7316, 1.6746, 1.6404, 1.6366, 1.6239, 1.5359, 1.1981, 0.6918, 0.6773, 0.6176, 0.357, 0.3553, 0.3426, 0.2535, 0.2319, 0.2176, 0.2168, 0.1629, 0.1494, 0.1092, -0.0557, -0.1484, -0.1561, -0.2995, -0.1541, -0.6681, -0.2549, -0.2716, -0.975, 2.4927, 2.4155, 2.3564, 2.3512, 2.3302, 2.153, 2.0608, 2.0428, 1.819, 1.3637, 1.2652, 1.2592, 1.1971, 1.1496, 0.9178, 0.6617, 0.6008, 0.5931, 0.5348, 0.4699, 0.4697, 0.4201, 0.4051, 0.3942, 0.3918, 0.3566, 0.3423, 0.3353, 0.2991, 0.2699, 0.2629, 0.2314, 0.0392, 0.1009, -0.0738, -0.7076, -0.4701, -0.1282, -1.0573, 2.4949, 2.4323, 2.0605, 1.8856, 1.8729, 1.8569, 1.8333, 1.7047, 1.6422, 1.4266, 1.3985, 1.2896, 0.8255, 0.6852, 0.6194, 0.4722, 0.2062, 0.1615, 0.1185, 0.0982, 0.0705, -0.0437, -0.0507, -0.1356, -0.1479, -0.1543, -0.1942, -0.2624, -0.2653, -0.41, -0.419, -0.5188, -0.5174, -0.7539, -0.5875, -0.4513, 2.6963, 2.6391, 2.566, 2.536, 2.4353, 2.4332, 1.987, 1.8109, 1.7549, 1.5578, 1.1808, 1.0704, 0.7969, 0.4313, 0.3722, 0.3282, 0.315, 0.2972, 0.2866, 0.2372, 0.203, 0.1945, 0.1907, 0.1121, 0.1091, 0.0987, 0.0765, 0.0621, 0.0508, 0.0388, 0.0018, -0.043, -0.3035, -0.3619, -0.3385, -0.3946, -0.3579, -0.9223, 2.5141, 2.5041, 2.3781, 2.2855, 2.2436, 2.1937, 2.1877, 1.9817, 1.9564, 0.8061, 0.7472, 0.6863, 0.6239, 0.5157, 0.4091, 0.3833, 0.3795, 0.3101, 0.2551, 0.2434, 0.2069, 0.1821, 0.1795, 0.1683, 0.1596, 0.132, 0.0758, 0.0506, 0.0114, -0.0112, -0.4096, -0.0753, -0.5332, -0.2462, -0.4477, -0.5828, 2.569, 2.375, 2.3062, 2.3057, 2.1583, 2.0832, 2.0686, 2.0427, 1.6315, 1.6159, 1.0529, 0.8919, 0.7831, 0.6558, 0.6344, 0.5799, 0.5279, 0.5142, 0.4267, 0.4144, 0.3943, 0.3869, 0.2962, 0.2846, 0.2807, 0.2401, 0.2372, 0.121, 0.0613, 0.0449, -0.0173, -0.0606, -0.0079, -0.4311, -0.0176, -0.527, -0.1762, -0.6669, -1.0998, 2.5174, 2.3512, 2.2934, 2.2317, 2.1708, 2.169, 1.9861, 1.8216, 1.7897, 1.3215, 1.2514, 0.8924, 0.8487, 0.8421, 0.8419, 0.7788, 0.7655, 0.664, 0.5924, 0.5129, 0.4996, 0.4744, 0.4443, 0.4404, 0.3474, 0.3222, 0.307, 0.2992, 0.2451, 0.2358, 0.1164, -0.26, -0.1683, 0.055, -0.5711, -0.8342, 2.6262, 2.5421, 2.5271, 2.5146, 2.4572, 2.3605, 2.1871, 1.6584, 1.62, 1.5262, 1.4819, 1.1511, 0.5807, 0.5494, 0.3886, 0.3297, 0.2628, 0.217, 0.2095, 0.1544, 0.1487, 0.1239, -0.0479, -0.1, -0.1, -0.162, -0.1674, -0.1777, -0.2043, -0.2739, -0.3475, -0.4818, -0.3806, -0.8795, -0.7012, -0.973, 2.614, 2.6111, 2.5566, 2.5269, 2.419, 2.2323, 2.0371, 1.7371, 1.6858, 1.5649, 1.3028, 1.277, 1.0246, 0.9411, 0.7642, 0.5185, 0.436, 0.3573, 0.3461, 0.3457, 0.3442, 0.3198, 0.3182, 0.2896, 0.2691, 0.268, 0.1512, 0.1064, 0.0481, 0.0191, -0.0282, 0.0098, -0.4159, -0.4786, -0.2731, -0.1997, -0.3849, -0.2206, -0.8756, 2.6217, 2.4871, 2.4659, 2.464, 2.3553, 2.3518, 2.2735, 2.0452, 1.6788, 1.4761, 1.2897, 1.106, 0.8105, 0.7966, 0.729, 0.7146, 0.6878, 0.39, 0.3796, 0.3314, 0.2813, 0.2751, 0.2726, 0.2448, 0.2235, 0.1858, 0.1176, 0.1023, 0.0899, 0.0356, 0.0232, -0.0031, -0.3287, -0.0641, -0.1351, -0.4603, -0.8663, -1.0528, -0.6596, 2.4788, 2.4743, 2.3317, 2.2903, 2.2222, 2.1513, 1.7857, 1.4923, 1.3155, 1.3073, 1.2785, 0.8678, 0.8522, 0.8473, 0.7278, 0.6719, 0.6156, 0.595, 0.5087, 0.5031, 0.4764, 0.4732, 0.353, 0.3504, 0.2977, 0.1919, 0.1519, 0.0761, 0.0595, -0.0092, -0.1148, -0.4284, -0.2627, -0.4449, -0.7406, -0.5381, 2.7967, 2.76, 2.6375, 2.5432, 2.4423, 2.4248, 2.3621, 1.4924, 1.362, 1.295, 1.0878, 0.7322, 0.6658, 0.5, 0.471, 0.4459, 0.4427, 0.4391, 0.4368, 0.2358, 0.2204, 0.1776, 0.1359, 0.1332, 0.1319, 0.1198, 0.1036, 0.0638, 0.0493, 0.0457, 0.0421, 0.0259, -0.1089, -0.275, -0.8502, -0.1829, -0.2073, -0.6127, -0.3458, 2.6351, 2.5658, 2.5478, 2.5389, 2.3103, 2.2429, 2.0206, 1.8683, 1.8359, 1.8133, 1.6996, 1.6328, 1.2652, 0.9289, 0.8697, 0.66, 0.6116, 0.5995, 0.5091, 0.4546, 0.3906, 0.3399, 0.3295, 0.3203, 0.2407, 0.2259, 0.2119, 0.1667, 0.1397, 0.1268, 0.0741, -0.2003, -0.4446, -0.2377, -0.0971, -0.7427, -0.7779, 2.7579, 2.6778, 2.6536, 2.4314, 2.4103, 2.1899, 1.9922, 1.7911, 1.5074, 0.9331, 0.9222, 0.8208, 0.69, 0.636, 0.6184, 0.5501, 0.5412, 0.4544, 0.3508, 0.3497, 0.2875, 0.23, 0.2291, 0.2221, 0.2168, 0.177, 0.1599, 0.1218, 0.0995, 0.0625, -0.2149, -0.3047, -0.2701, -0.56, -0.5156, -0.5202, -0.1652]}, \"token.table\": {\"Topic\": [1, 4, 5, 7, 10, 11, 13, 14, 15, 2, 4, 5, 7, 8, 10, 11, 13, 14, 15, 4, 5, 10, 11, 13, 15, 1, 2, 4, 6, 8, 10, 11, 14, 15, 1, 2, 3, 4, 5, 6, 7, 8, 9, 10, 11, 12, 13, 14, 15, 3, 5, 6, 7, 8, 10, 11, 12, 13, 15, 1, 2, 3, 4, 5, 6, 7, 8, 9, 10, 11, 12, 13, 14, 15, 4, 9, 10, 11, 15, 1, 2, 3, 4, 5, 6, 7, 8, 9, 12, 13, 15, 1, 2, 4, 5, 7, 10, 12, 13, 14, 15, 1, 2, 3, 4, 5, 6, 7, 8, 9, 10, 11, 13, 14, 15, 1, 2, 3, 5, 6, 8, 11, 12, 13, 14, 15, 1, 4, 6, 10, 12, 13, 15, 1, 3, 5, 7, 10, 11, 12, 14, 1, 2, 3, 4, 5, 6, 7, 8, 9, 10, 11, 12, 13, 14, 15, 1, 3, 5, 6, 8, 9, 10, 11, 12, 13, 1, 3, 4, 5, 8, 11, 12, 13, 1, 2, 3, 6, 7, 11, 14, 1, 3, 5, 7, 8, 9, 10, 11, 15, 1, 2, 5, 6, 7, 8, 9, 12, 2, 4, 5, 6, 7, 9, 11, 12, 14, 15, 4, 7, 14, 1, 2, 3, 8, 12, 13, 14, 1, 2, 3, 4, 5, 6, 7, 8, 9, 10, 11, 12, 13, 14, 15, 2, 3, 4, 6, 7, 8, 10, 11, 15, 1, 2, 3, 4, 6, 7, 8, 9, 10, 11, 12, 13, 14, 15, 1, 2, 3, 4, 5, 6, 8, 9, 10, 11, 12, 13, 14, 15, 3, 11, 5, 9, 10, 12, 1, 3, 5, 7, 9, 10, 6, 9, 10, 11, 12, 13, 1, 3, 4, 5, 7, 8, 9, 10, 11, 13, 14, 15, 1, 3, 6, 7, 10, 11, 15, 1, 2, 3, 4, 5, 7, 11, 12, 2, 4, 5, 7, 10, 11, 12, 15, 2, 3, 4, 5, 8, 9, 10, 11, 12, 13, 14, 3, 5, 7, 9, 10, 11, 12, 2, 5, 7, 11, 13, 14, 1, 4, 6, 8, 9, 11, 15, 1, 2, 4, 7, 8, 9, 10, 11, 13, 15, 1, 5, 6, 10, 13, 15, 1, 3, 4, 5, 8, 9, 12, 13, 14, 15, 2, 3, 5, 6, 7, 8, 9, 10, 11, 13, 15, 1, 2, 5, 9, 11, 12, 14, 5, 8, 10, 11, 15, 1, 4, 8, 10, 12, 13, 14, 4, 2, 3, 5, 7, 8, 9, 11, 12, 13, 15, 1, 2, 4, 5, 7, 9, 10, 12, 13, 1, 2, 3, 4, 5, 6, 7, 9, 10, 11, 12, 15, 1, 2, 3, 7, 8, 9, 12, 13, 15, 1, 3, 5, 8, 9, 10, 11, 12, 13, 14, 9, 14, 1, 2, 3, 4, 6, 7, 8, 9, 10, 14, 15, 3, 5, 7, 10, 11, 12, 13, 6, 9, 11, 13, 14, 15, 1, 2, 3, 4, 5, 6, 7, 8, 13, 14, 15, 1, 5, 6, 9, 12, 2, 3, 4, 5, 6, 7, 8, 9, 10, 11, 12, 13, 14, 15, 3, 4, 5, 6, 8, 12, 13, 2, 4, 7, 11, 12, 13, 14, 4, 5, 10, 12, 13, 14, 1, 2, 4, 5, 7, 8, 9, 11, 12, 14, 15, 2, 3, 4, 5, 6, 7, 8, 9, 10, 11, 12, 13, 14, 15, 1, 2, 3, 5, 6, 8, 9, 10, 14, 15, 1, 3, 6, 11, 12, 1, 7, 8, 9, 11, 12, 13, 14, 15, 2, 3, 4, 5, 8, 11, 12, 13, 2, 5, 6, 7, 8, 10, 11, 13, 15, 1, 2, 3, 5, 6, 7, 8, 10, 12, 13, 14, 15, 1, 3, 5, 6, 7, 10, 11, 13, 15, 4, 5, 8, 11, 15, 2, 3, 6, 7, 9, 12, 13, 1, 2, 3, 4, 5, 6, 7, 8, 9, 10, 11, 15, 1, 8, 9, 12, 15, 1, 2, 3, 4, 6, 7, 8, 9, 10, 11, 12, 13, 14, 15, 1, 2, 3, 4, 5, 7, 8, 9, 10, 1, 7, 8, 11, 12, 13, 1, 6, 8, 9, 11, 13, 14, 15, 3, 5, 9, 10, 12, 14, 1, 2, 3, 4, 5, 6, 9, 10, 11, 12, 14, 15, 1, 2, 3, 4, 5, 6, 8, 10, 11, 13, 14, 15, 2, 5, 6, 7, 8, 9, 10, 13, 15, 2, 3, 6, 7, 8, 9, 10, 13, 14, 15, 1, 2, 3, 4, 7, 8, 10, 11, 12, 13, 1, 2, 3, 4, 5, 6, 7, 8, 9, 11, 12, 13, 15, 1, 2, 3, 4, 5, 6, 7, 8, 9, 10, 11, 12, 13, 14, 15, 2, 3, 6, 9, 11, 12, 13, 2, 3, 4, 5, 7, 8, 9, 11, 12, 13, 15, 3, 6, 7, 9, 13, 14, 15, 5, 10, 12, 14, 15, 1, 2, 4, 5, 6, 7, 9, 11, 15, 1, 2, 3, 6, 7, 11, 13, 14, 1, 4, 5, 6, 7, 8, 10, 11, 14, 15, 2, 3, 4, 7, 8, 12, 13, 15, 1, 2, 3, 4, 5, 6, 8, 9, 10, 11, 12, 13, 14, 15, 1, 2, 3, 4, 6, 9, 11, 12, 13, 14, 1, 2, 3, 5, 7, 9, 10, 13, 14, 15, 3, 4, 5, 8, 10, 13, 15, 2, 3, 4, 5, 7, 9, 10, 11, 12, 14, 1, 2, 3, 4, 6, 7, 8, 12, 14, 1, 4, 5, 9, 12, 14, 1, 2, 5, 6, 7, 8, 9, 10, 11, 12, 14, 15, 1, 2, 4, 5, 6, 7, 8, 11, 13, 15, 1, 3, 4, 6, 8, 9, 10, 11, 12, 13, 14, 1, 3, 4, 5, 6, 9, 10, 11, 12, 13, 15, 1, 2, 3, 5, 6, 7, 9, 10, 11, 12, 13, 14, 15, 2, 4, 5, 6, 9, 11, 12, 13, 15, 1, 2, 3, 6, 14, 15, 2, 3, 5, 6, 7, 8, 10, 11, 12, 13, 15, 7, 10, 11, 15, 1, 2, 3, 4, 5, 6, 7, 8, 9, 10, 11, 12, 13, 14, 15, 1, 2, 3, 6, 8, 9, 10, 11, 13, 15, 3, 5, 6, 7, 8, 9, 10, 11, 1, 2, 3, 5, 6, 7, 8, 9, 10, 11, 12, 13, 1, 2, 3, 4, 5, 8, 9, 10, 12, 13, 14, 1, 2, 3, 4, 5, 6, 7, 8, 9, 10, 11, 12, 13, 14, 15, 1, 2, 4, 9, 11, 14, 15, 1, 2, 8, 10, 14, 15, 2, 3, 5, 6, 10, 13, 14, 3, 5, 8, 9, 15, 1, 2, 3, 4, 5, 6, 7, 8, 9, 10, 11, 12, 13, 14, 15, 1, 2, 4, 5, 6, 7, 12, 14, 15, 1, 2, 5, 8, 9, 10, 12, 15, 3, 4, 5, 8, 9, 10, 15, 2, 3, 4, 5, 6, 8, 9, 10, 11, 13, 14, 3, 5, 6, 9, 10, 11, 12, 13, 3, 5, 6, 7, 9, 12, 13, 14, 4, 10, 13, 1, 2, 3, 4, 5, 7, 8, 11, 12, 13, 14, 1, 2, 4, 7, 8, 10, 13, 3, 4, 5, 6, 7, 8, 12, 14, 1, 2, 3, 4, 5, 6, 7, 8, 9, 10, 11, 12, 13, 14, 15, 4, 6, 7, 9, 12, 13, 14, 15, 4, 8, 9, 11, 12, 15, 1, 6, 8, 9, 11, 12, 14, 15, 1, 3, 4, 6, 8, 10, 11, 12, 13, 14, 15, 1, 3, 4, 5, 7, 8, 10, 11, 12, 13, 14, 15, 1, 2, 3, 4, 5, 6, 7, 8, 9, 10, 11, 12, 13, 14, 15, 7, 8, 9, 10, 12, 15, 3, 5, 9, 11, 12, 13, 14, 1, 5, 6, 10, 11, 13, 15, 2, 6, 7, 11, 13, 15, 2, 3, 4, 5, 7, 8, 11, 13, 14, 1, 2, 3, 4, 6, 7, 8, 9, 10, 11, 12, 13, 14, 15, 1, 3, 4, 6, 8, 13, 14, 2, 3, 6, 8, 9, 10, 11, 12, 13, 14, 15, 2, 3, 7, 8, 9, 10, 12, 13, 14, 15, 1, 2, 4, 5, 6, 7, 8, 10, 11, 12, 13, 14, 15, 1, 3, 4, 5, 6, 7, 10, 11, 12, 14, 1, 2, 3, 4, 5, 6, 7, 8, 9, 11, 12, 13, 14, 15], \"Freq\": [0.03876498887236688, 0.02584332591491125, 0.012921662957455626, 0.0516866518298225, 0.02584332591491125, 0.06460831478727813, 0.012921662957455626, 0.6460831478727813, 0.103373303659645, 0.034564784099265604, 0.023043189399510403, 0.046086378799020805, 0.046086378799020805, 0.08065116289828642, 0.09217275759804161, 0.5069501667892289, 0.034564784099265604, 0.06912956819853121, 0.05760797349877601, 0.03216800487870478, 0.8363681268463244, 0.03216800487870478, 0.04825200731805718, 0.01608400243935239, 0.01608400243935239, 0.011966396089336993, 0.04786558435734797, 0.08376477262535896, 0.03589918826801098, 0.11966396089336995, 0.3470254865907728, 0.059831980446684974, 0.023932792178673987, 0.2632607139654139, 0.0504811712164191, 0.027182169116533362, 0.031065336133180986, 0.06989700629965721, 0.08154650734960009, 0.1009623424328382, 0.03494850314982861, 0.07766334033295247, 0.0077663340332952465, 0.08542967436624771, 0.03494850314982861, 0.29123752624857174, 0.0038831670166476233, 0.054364338233066724, 0.042714837183123855, 0.04784430993645449, 0.03588323245234087, 0.07176646490468173, 0.023922154968227246, 0.011961077484113623, 0.729625726530931, 0.011961077484113623, 0.011961077484113623, 0.03588323245234087, 0.011961077484113623, 0.046222020288190564, 0.03806519317850988, 0.035346250808616315, 0.07748985754196654, 0.07884932872691332, 0.046222020288190564, 0.043503077918297, 0.05301937621292447, 0.31811625727754683, 0.043503077918297, 0.047581491473137345, 0.058457260952711594, 0.024470481329042063, 0.04486254910324378, 0.046222020288190564, 0.009165165228093347, 0.02749549568428004, 0.009165165228093347, 0.02749549568428004, 0.9073513575812413, 0.14571041993224823, 0.009106901245765514, 0.01821380249153103, 0.5099864697628688, 0.18213802491531028, 0.01821380249153103, 0.04553450622882757, 0.01821380249153103, 0.009106901245765514, 0.009106901245765514, 0.009106901245765514, 0.02732070373729654, 0.052393686472559084, 0.055475668029768437, 0.09554142827349009, 0.046229723358140365, 0.3420999528502387, 0.10786935450232753, 0.030819815572093578, 0.17259096720372402, 0.0801315204874433, 0.018491889343256147, 0.022247067772434112, 0.025027951243988378, 0.025027951243988378, 0.6368223149859265, 0.025027951243988378, 0.07230297026041087, 0.0389323686017597, 0.005561766943108528, 0.025027951243988378, 0.0389323686017597, 0.016685300829325584, 0.008342650414662792, 0.025027951243988378, 0.03337060165865117, 0.036193990524061866, 0.010341140149731962, 0.01551171022459794, 0.025852850374329904, 0.06721741097325774, 0.7187092404063713, 0.03102342044919588, 0.01551171022459794, 0.025852850374329904, 0.036193990524061866, 0.010341140149731962, 0.011033901409481376, 0.011033901409481376, 0.8606443099395474, 0.055169507047406884, 0.011033901409481376, 0.022067802818962753, 0.022067802818962753, 0.11012106100842355, 0.036707020336141184, 0.018353510168070592, 0.7341404067228237, 0.036707020336141184, 0.036707020336141184, 0.018353510168070592, 0.018353510168070592, 0.027821236173821456, 0.01517521973117534, 0.04552565919352602, 0.4451397787811433, 0.04805486248205524, 0.15681060388881185, 0.02276282959676301, 0.03035043946235068, 0.042996455904996796, 0.027821236173821456, 0.027821236173821456, 0.01517521973117534, 0.03035043946235068, 0.0328796427508799, 0.0328796427508799, 0.016775975147691684, 0.03355195029538337, 0.2013117017723002, 0.016775975147691684, 0.06710390059076674, 0.016775975147691684, 0.13420780118153347, 0.06710390059076674, 0.3858474283969087, 0.016775975147691684, 0.11368738561049696, 0.02842184640262424, 0.01421092320131212, 0.01421092320131212, 0.02842184640262424, 0.7673898528708545, 0.02842184640262424, 0.01421092320131212, 0.01370027751194171, 0.849417205740386, 0.01370027751194171, 0.01370027751194171, 0.05480111004776684, 0.02740055502388342, 0.02740055502388342, 0.011480302556066371, 0.10332272300459734, 0.034440907668199114, 0.034440907668199114, 0.034440907668199114, 0.022960605112132743, 0.057401512780331856, 0.6888181533639823, 0.011480302556066371, 0.018259025462930102, 0.6025478402766933, 0.018259025462930102, 0.1095541527775806, 0.0547770763887903, 0.0547770763887903, 0.036518050925860204, 0.0912951273146505, 0.09602830692148347, 0.15713722950788203, 0.008729846083771224, 0.008729846083771224, 0.08729846083771224, 0.5412504571938159, 0.008729846083771224, 0.008729846083771224, 0.05237907650262734, 0.034919384335084895, 0.05761252363891435, 0.028806261819457175, 0.8785909854934438, 0.018856461812254633, 0.02828469271838195, 0.02828469271838195, 0.018856461812254633, 0.02828469271838195, 0.009428230906127317, 0.8768254742698405, 0.011986623683563706, 0.02397324736712741, 0.07791305394316408, 0.14983279604454633, 0.09589298946850965, 0.011986623683563706, 0.02996655920890926, 0.02996655920890926, 0.10787961315207335, 0.06592643025960038, 0.19777929077880113, 0.07791305394316408, 0.02397324736712741, 0.05993311841781852, 0.02397324736712741, 0.08902759794784836, 0.06359114139132024, 0.01271822827826405, 0.01271822827826405, 0.038154684834792146, 0.038154684834792146, 0.038154684834792146, 0.0254364565565281, 0.6613478704697306, 0.03512003011546727, 0.37754032374127316, 0.096580082817535, 0.07024006023093454, 0.04390003764433409, 0.026340022586600453, 0.061460052702067725, 0.017560015057733636, 0.008780007528866818, 0.096580082817535, 0.026340022586600453, 0.026340022586600453, 0.061460052702067725, 0.05268004517320091, 0.006161962052381306, 0.061619620523813055, 0.04929569641905045, 0.030809810261906528, 0.061619620523813055, 0.012323924104762612, 0.14788708925715133, 0.04313373436666914, 0.17869689951905787, 0.08010550668095698, 0.1294012031000074, 0.04929569641905045, 0.08626746873333828, 0.061619620523813055, 0.08402030858091727, 0.9032183172448608, 0.9519396746956571, 0.022938305414353183, 0.011469152707176591, 0.011469152707176591, 0.030403882714544514, 0.5624718302190735, 0.3040388271454451, 0.015201941357272257, 0.07600970678636128, 0.015201941357272257, 0.032165766245787576, 0.7076468574073266, 0.032165766245787576, 0.032165766245787576, 0.13938498706507949, 0.05360961040964596, 0.10341345662177275, 0.09048677454405116, 0.29731368778759665, 0.07756009246632956, 0.025853364155443186, 0.03878004623316478, 0.03878004623316478, 0.03878004623316478, 0.07756009246632956, 0.09048677454405116, 0.06463341038860797, 0.07756009246632956, 0.040188819759043475, 0.040188819759043475, 0.5023602469880434, 0.12056645927713042, 0.020094409879521737, 0.24113291855426083, 0.020094409879521737, 0.10374875341609652, 0.05187437670804826, 0.07781156506207239, 0.41499501366438607, 0.05187437670804826, 0.10374875341609652, 0.07781156506207239, 0.07781156506207239, 0.03314381374025582, 0.049715720610383735, 0.4640133923635815, 0.1325752549610233, 0.23200669618179076, 0.01657190687012791, 0.01657190687012791, 0.049715720610383735, 0.008656425696588066, 0.004328212848294033, 0.06059497987611646, 0.06059497987611646, 0.01731285139317613, 0.05626676702782242, 0.03462570278635226, 0.03029748993805823, 0.6059497987611645, 0.09522068266246872, 0.02164106424147016, 0.5468067455005993, 0.08202101182508989, 0.19138236092520974, 0.013670168637514982, 0.05468067455005993, 0.06835084318757491, 0.013670168637514982, 0.02444532073572229, 0.061113301839305724, 0.08555862257502801, 0.07333596220716687, 0.7333596220716687, 0.012222660367861146, 0.79135232544376, 0.051609934268071304, 0.017203311422690434, 0.03440662284538087, 0.017203311422690434, 0.051609934268071304, 0.017203311422690434, 0.12954680467908558, 0.3701337276545302, 0.018506686382726508, 0.16656017744453858, 0.018506686382726508, 0.037013372765453016, 0.09253343191363254, 0.05552005914817953, 0.05552005914817953, 0.05552005914817953, 0.023674789304988227, 0.023674789304988227, 0.7575932577596233, 0.023674789304988227, 0.09469915721995291, 0.023674789304988227, 0.016711265698681744, 0.10026759419209047, 0.08355632849340873, 0.3843591110696801, 0.10026759419209047, 0.03342253139736349, 0.11697885989077221, 0.08355632849340873, 0.016711265698681744, 0.050133797096045235, 0.02469795309430369, 0.7532875693762626, 0.03704692964145554, 0.012348976547151846, 0.012348976547151846, 0.03704692964145554, 0.012348976547151846, 0.03704692964145554, 0.012348976547151846, 0.03704692964145554, 0.012348976547151846, 0.033668803799068246, 0.033668803799068246, 0.729490748979812, 0.011222934599689415, 0.033668803799068246, 0.02244586919937883, 0.12345228059658357, 0.028493241591734175, 0.014246620795867087, 0.8832904893437593, 0.014246620795867087, 0.04273986238760126, 0.03891575044027145, 0.019457875220135725, 0.03891575044027145, 0.0778315008805429, 0.019457875220135725, 0.09728937610067863, 0.7004835079248861, 0.9883178067244346, 0.09444361468690433, 0.23610903671726083, 0.09444361468690433, 0.04722180734345217, 0.023610903671726084, 0.3069417477324391, 0.04722180734345217, 0.023610903671726084, 0.07083271101517825, 0.023610903671726084, 0.010267571603704659, 0.7803354418815541, 0.0513378580185233, 0.010267571603704659, 0.010267571603704659, 0.041070286414818635, 0.010267571603704659, 0.010267571603704659, 0.06160542962222796, 0.07768163941040565, 0.5126988201086773, 0.09321796729248678, 0.038840819705202825, 0.038840819705202825, 0.04660898364624339, 0.06991347546936509, 0.007768163941040565, 0.01553632788208113, 0.01553632788208113, 0.007768163941040565, 0.07768163941040565, 0.016902364537277365, 0.016902364537277365, 0.7606064041774814, 0.03380472907455473, 0.016902364537277365, 0.050707093611832094, 0.016902364537277365, 0.03380472907455473, 0.050707093611832094, 0.01314007226330782, 0.10512057810646255, 0.0657003613165391, 0.03942021678992346, 0.07884043357984692, 0.3153617343193877, 0.1314007226330782, 0.09198050584315474, 0.03942021678992346, 0.10512057810646255, 0.02633902885080457, 0.9613745530543668, 0.06400135486431957, 0.005333446238693297, 0.005333446238693297, 0.04800101614823968, 0.005333446238693297, 0.5866790862562627, 0.08533513981909276, 0.005333446238693297, 0.04266756990954638, 0.08000169358039946, 0.06933480110301286, 0.022157371573706012, 0.8973735487350935, 0.011078685786853006, 0.011078685786853006, 0.03323605736055902, 0.011078685786853006, 0.011078685786853006, 0.013136682627441639, 0.013136682627441639, 0.052546730509766555, 0.8013376402739399, 0.052546730509766555, 0.052546730509766555, 0.15461683791725495, 0.09136449513292338, 0.06325234278433157, 0.035140190435739765, 0.014056076174295905, 0.02811215234859181, 0.05622430469718362, 0.007028038087147952, 0.007028038087147952, 0.11244860939436724, 0.42168228522887713, 0.057486489582953854, 0.04311486718721539, 0.10060135677016924, 0.7473243645784001, 0.028743244791476927, 0.009064695797358586, 0.0679852184801894, 0.004532347898679293, 0.37165252769170204, 0.04532347898679293, 0.07251756637886869, 0.15863217645377525, 0.07251756637886869, 0.04532347898679293, 0.022661739493396466, 0.022661739493396466, 0.022661739493396466, 0.07251756637886869, 0.01359704369603788, 0.05373455996626981, 0.017911519988756605, 0.017911519988756605, 0.03582303997751321, 0.5910801596289679, 0.017911519988756605, 0.21493823986507923, 0.007884940717950031, 0.007884940717950031, 0.8831133604104034, 0.007884940717950031, 0.031539762871800124, 0.015769881435900062, 0.03942470358975016, 0.04960735407007022, 0.019842941628028087, 0.8135606067491516, 0.029764412442042133, 0.039685883256056174, 0.039685883256056174, 0.8100705960464452, 0.006585939805255652, 0.052687518442045216, 0.006585939805255652, 0.013171879610511304, 0.019757819415766955, 0.013171879610511304, 0.03292969902627826, 0.006585939805255652, 0.019757819415766955, 0.013171879610511304, 0.007202113105047397, 0.007202113105047397, 0.050414791735331775, 0.007202113105047397, 0.06481901794542656, 0.007202113105047397, 0.050414791735331775, 0.007202113105047397, 0.6049775008239813, 0.028808452420189586, 0.04321267863028438, 0.007202113105047397, 0.09362747036561615, 0.014404226210094793, 0.0118657508573572, 0.8839984388731114, 0.0118657508573572, 0.029664377143392998, 0.0059328754286786, 0.0059328754286786, 0.0059328754286786, 0.0118657508573572, 0.0177986262860358, 0.0118657508573572, 0.9335851244562932, 0.012447801659417243, 0.024895603318834485, 0.012447801659417243, 0.012447801659417243, 0.6409695677723019, 0.022102398888700064, 0.022102398888700064, 0.033153598333050094, 0.011051199444350032, 0.11051199444350031, 0.055255997221750154, 0.055255997221750154, 0.022102398888700064, 0.3922120470523953, 0.13073734901746512, 0.029052744226103357, 0.014526372113051678, 0.23242195380882685, 0.029052744226103357, 0.10168460479136175, 0.04357911633915504, 0.08957555637789555, 0.08957555637789555, 0.03583022255115822, 0.01791511127557911, 0.5016231157162151, 0.161236001480212, 0.01791511127557911, 0.05374533382673733, 0.03583022255115822, 0.07410342457421126, 0.04940228304947418, 0.08645399533657981, 0.02470114152473709, 0.08645399533657981, 0.04940228304947418, 0.11115513686131691, 0.04940228304947418, 0.012350570762368545, 0.012350570762368545, 0.3828676936334249, 0.07410342457421126, 0.6691236953001893, 0.04363850186740365, 0.0290923345782691, 0.01454616728913455, 0.0872770037348073, 0.04363850186740365, 0.01454616728913455, 0.0581846691565382, 0.01454616728913455, 0.914871702261605, 0.016050380741431666, 0.016050380741431666, 0.016050380741431666, 0.016050380741431666, 0.0865292647993152, 0.0432646323996576, 0.0432646323996576, 0.0216323161998288, 0.7571310669940081, 0.0216323161998288, 0.0216323161998288, 0.062550337856554, 0.13291946794517726, 0.10164429901690027, 0.00781879223206925, 0.00781879223206925, 0.023456376696207752, 0.046912753392415504, 0.023456376696207752, 0.046912753392415504, 0.0156375844641385, 0.00781879223206925, 0.5160402873165706, 0.023992119523987488, 0.023992119523987488, 0.6477872271476621, 0.11996059761993744, 0.11996059761993744, 0.03578228854109944, 0.06261900494692402, 0.7380097011601758, 0.01789114427054972, 0.00447278606763743, 0.013418358202912288, 0.00447278606763743, 0.013418358202912288, 0.013418358202912288, 0.013418358202912288, 0.04920064674401172, 0.02236393033818715, 0.00447278606763743, 0.00894557213527486, 0.04515204991360327, 0.03010136660906885, 0.015050683304534424, 0.015050683304534424, 0.03010136660906885, 0.5418245989632392, 0.0602027332181377, 0.015050683304534424, 0.2408109328725508, 0.01634804482444043, 0.09808826894664258, 0.01634804482444043, 0.03269608964888086, 0.7847061515731406, 0.03269608964888086, 0.08738638415436009, 0.15292617227013014, 0.10923298019295011, 0.021846596038590023, 0.021846596038590023, 0.021846596038590023, 0.43693192077180043, 0.15292617227013014, 0.026323616774207952, 0.013161808387103976, 0.013161808387103976, 0.026323616774207952, 0.013161808387103976, 0.8950029703230703, 0.024514848749032578, 0.049029697498065156, 0.018386136561774433, 0.024514848749032578, 0.07354454624709773, 0.6925444771601703, 0.0061287121872581445, 0.024514848749032578, 0.024514848749032578, 0.030643560936290722, 0.018386136561774433, 0.018386136561774433, 0.021754419837441474, 0.021754419837441474, 0.10877209918720737, 0.054386049593603686, 0.07614046943104516, 0.5112288661798746, 0.010877209918720737, 0.010877209918720737, 0.0870176793497659, 0.04350883967488295, 0.021754419837441474, 0.021754419837441474, 0.012942579658130783, 0.025885159316261567, 0.09059805760691549, 0.10354063726504627, 0.6341864032484084, 0.012942579658130783, 0.012942579658130783, 0.038827738974392345, 0.051770318632523134, 0.015717921813650206, 0.015717921813650206, 0.07858960906825103, 0.07858960906825103, 0.015717921813650206, 0.06287168725460082, 0.015717921813650206, 0.07858960906825103, 0.5186914198504569, 0.11002545269555145, 0.03594810903079801, 0.06290919080389652, 0.026961081773098507, 0.18872757241168955, 0.026961081773098507, 0.10784432709239403, 0.4942864991734726, 0.03594810903079801, 0.017974054515399004, 0.008987027257699502, 0.03381312280196691, 0.03864356891653361, 0.014491338343700104, 0.02898267668740021, 0.02898267668740021, 0.6327884410082378, 0.06762624560393382, 0.004830446114566701, 0.004830446114566701, 0.043474015031100315, 0.019321784458266805, 0.06762624560393382, 0.014491338343700104, 0.04860234821215044, 0.1458070446364513, 0.12150587053037609, 0.06480313094953391, 0.0405019568434587, 0.016200782737383478, 0.1458070446364513, 0.17010821874252652, 0.008100391368691739, 0.032401565474766955, 0.06480313094953391, 0.0405019568434587, 0.02430117410607522, 0.04860234821215044, 0.02430117410607522, 0.6581806212508334, 0.10969677020847224, 0.03656559006949074, 0.01828279503474537, 0.09141397517372686, 0.03656559006949074, 0.03656559006949074, 0.008535859335755673, 0.03414343734302269, 0.008535859335755673, 0.02560757800726702, 0.02560757800726702, 0.8535859335755673, 0.008535859335755673, 0.008535859335755673, 0.008535859335755673, 0.008535859335755673, 0.008535859335755673, 0.17900382934534625, 0.011933588623023083, 0.6802145515123157, 0.011933588623023083, 0.07160153173813849, 0.023867177246046166, 0.011933588623023083, 0.02102927370154342, 0.04205854740308684, 0.06308782110463027, 0.02102927370154342, 0.8201416743601935, 0.2725539492786393, 0.03406924365982991, 0.13627697463931965, 0.13627697463931965, 0.10220773097948974, 0.10220773097948974, 0.05110386548974487, 0.08517310914957478, 0.08517310914957478, 0.014697390594952538, 0.014697390594952538, 0.8671460451021997, 0.044092171784857616, 0.014697390594952538, 0.014697390594952538, 0.014697390594952538, 0.014697390594952538, 0.012178387664914704, 0.024356775329829407, 0.024356775329829407, 0.024356775329829407, 0.060891938324573514, 0.5967409955808205, 0.03653516299474411, 0.08524871365440292, 0.060891938324573514, 0.08524871365440292, 0.4148823180351426, 0.2815272872381325, 0.07408612822056118, 0.05926890257644894, 0.05926890257644894, 0.014817225644112236, 0.02963445128822447, 0.05926890257644894, 0.04436195869886259, 0.033271469024146946, 0.06654293804829389, 0.033271469024146946, 0.06654293804829389, 0.06654293804829389, 0.07763342772300953, 0.022180979349431296, 0.05545244837357824, 0.13308587609658779, 0.2329002831690286, 0.06654293804829389, 0.11090489674715648, 0.011090489674715648, 0.05290420525636396, 0.05290420525636396, 0.24688629119636515, 0.33505996662363846, 0.12344314559818258, 0.017634735085454656, 0.017634735085454656, 0.08817367542727328, 0.03526947017090931, 0.017634735085454656, 0.02227790407773683, 0.14480637650528938, 0.44555808155473653, 0.055694760194342066, 0.03341685611660524, 0.055694760194342066, 0.08911161631094731, 0.04455580815547366, 0.02227790407773683, 0.0779726642720789, 0.8001482417175491, 0.050009265107346816, 0.012502316276836704, 0.012502316276836704, 0.06251158138418351, 0.012502316276836704, 0.012502316276836704, 0.010992271763049151, 0.021984543526098303, 0.032976815289147456, 0.06595363057829491, 0.043969087052196605, 0.021984543526098303, 0.05496135881524576, 0.13190726115658982, 0.15389180468268812, 0.4506831422850152, 0.03367919562984196, 0.01683959781492098, 0.13471678251936783, 0.5220275322625503, 0.01683959781492098, 0.01683959781492098, 0.10103758688952587, 0.10103758688952587, 0.01683959781492098, 0.2649748182179065, 0.013946043064100343, 0.027892086128200686, 0.013946043064100343, 0.5717877656281141, 0.0976223014487024, 0.08162312800966316, 0.006801927334138596, 0.013603854668277193, 0.013603854668277193, 0.013603854668277193, 0.006801927334138596, 0.02040578200241579, 0.013603854668277193, 0.7754197160918, 0.013603854668277193, 0.027207709336554385, 0.013603854668277193, 0.15379003258591484, 0.010985002327565345, 0.010985002327565345, 0.7250101536193128, 0.04394000931026138, 0.02197000465513069, 0.010985002327565345, 0.7893727863672731, 0.05706309299040528, 0.1426577324760132, 0.023828508344092236, 0.017871381258069176, 0.101271160462392, 0.08935690629034589, 0.041699889602161415, 0.017871381258069176, 0.05361414377420753, 0.017871381258069176, 0.15488530423659952, 0.05957127086023059, 0.4229560231076372, 0.03205242237066514, 0.009157834963047184, 0.045789174815235915, 0.009157834963047184, 0.04121025733371233, 0.022894587407617958, 0.036631339852188735, 0.009157834963047184, 0.7784159718590106, 0.004578917481523592, 0.013736752444570776, 0.0346515612532211, 0.04851218575450954, 0.020790936751932658, 0.00693031225064422, 0.1039546837596633, 0.09702437150901908, 0.020790936751932658, 0.01386062450128844, 0.05544249800515376, 0.0346515612532211, 0.11088499601030752, 0.09702437150901908, 0.34651561253221097, 0.03031294924973621, 0.045469423874604314, 0.03031294924973621, 0.045469423874604314, 0.06062589849947242, 0.03031294924973621, 0.03031294924973621, 0.6517284088693285, 0.045469423874604314, 0.014706633143632053, 0.029413266287264105, 0.014706633143632053, 0.044119899430896156, 0.014706633143632053, 0.838278089187027, 0.02761269026076007, 0.05522538052152014, 0.018408460173840048, 0.04602115043460012, 0.009204230086920024, 0.04602115043460012, 0.009204230086920024, 0.6903172565190018, 0.018408460173840048, 0.04602115043460012, 0.02761269026076007, 0.012713208031001998, 0.8899245621701399, 0.012713208031001998, 0.06356604015501, 0.03205795994675997, 0.02747825138293712, 0.07556519130307708, 0.32744916231333404, 0.04350723135631711, 0.08243475414881136, 0.06640577417543138, 0.05724635704778567, 0.03663766851058283, 0.06411591989351995, 0.022898542819114267, 0.04350723135631711, 0.04350723135631711, 0.03205795994675997, 0.04350723135631711, 0.0168778454127549, 0.0168778454127549, 0.0337556908255098, 0.05063353623826469, 0.05063353623826469, 0.0168778454127549, 0.10126707247652939, 0.6413581256846861, 0.05063353623826469, 0.0168778454127549, 0.04418965434758248, 0.029459769565054986, 0.07364942391263746, 0.35351723478065983, 0.05891953913010997, 0.27986781086802237, 0.08837930869516496, 0.05891953913010997, 0.5409726702196178, 0.025760603343791325, 0.06869494225011019, 0.008586867781263774, 0.04293433890631888, 0.008586867781263774, 0.09445554559390153, 0.008586867781263774, 0.017173735562527548, 0.04293433890631888, 0.06869494225011019, 0.060108074468846424, 0.011596155261253191, 0.09276924209002553, 0.10436539735127873, 0.011596155261253191, 0.023192310522506383, 0.15075001839629149, 0.06957693156751915, 0.3710769683601021, 0.023192310522506383, 0.11596155261253192, 0.011596155261253191, 0.06897142751202025, 0.09196190334936032, 0.08908809386969281, 0.03735952323567763, 0.04310714219501265, 0.04023333271534514, 0.06322380855268522, 0.03735952323567763, 0.07759285595102278, 0.06609761803235273, 0.02299047583734008, 0.04310714219501265, 0.2241571394140658, 0.0574761895933502, 0.034485713756010124, 0.02255158878827291, 0.02255158878827291, 0.02255158878827291, 0.7667540188012789, 0.02255158878827291, 0.09020635515309164, 0.02255158878827291, 0.007519844404074616, 0.9324607061052524, 0.02255953321222385, 0.007519844404074616, 0.007519844404074616, 0.02255953321222385, 0.3448463453058705, 0.11494878176862351, 0.016421254538374785, 0.016421254538374785, 0.08210627269187393, 0.06568501815349914, 0.3448463453058705, 0.03685403759669299, 0.009213509399173248, 0.009213509399173248, 0.8384293553247655, 0.10134860339090572, 0.05327968139808665, 0.05327968139808665, 0.035519787598724435, 0.07103957519744887, 0.07103957519744887, 0.05327968139808665, 0.1006393981963859, 0.07103957519744887, 0.02367985839914962, 0.05327968139808665, 0.059199645997874056, 0.24271854859128364, 0.04143975219851184, 0.06511961059766146, 0.005919964599787405, 0.029089207741045942, 0.04848201290174324, 0.019392805160697295, 0.03878561032139459, 0.03878561032139459, 0.523605739338827, 0.15514244128557836, 0.029089207741045942, 0.09696402580348648, 0.04052487262014165, 0.020262436310070825, 0.020262436310070825, 0.020262436310070825, 0.020262436310070825, 0.8307598887129038, 0.020262436310070825, 0.020262436310070825, 0.01997422291513137, 0.009987111457565685, 0.06990978020295979, 0.6791235791144666, 0.049935557287828426, 0.05992266874539411, 0.11984533749078823, 0.5858418341762879, 0.029292091708814392, 0.04393813756322159, 0.014646045854407196, 0.08787627512644318, 0.11716836683525757, 0.014646045854407196, 0.014646045854407196, 0.058584183417628784, 0.014646045854407196, 0.014646045854407196, 0.09493231622814287, 0.0759458529825143, 0.13290524271940002, 0.18986463245628574, 0.09493231622814287, 0.2847969486844286, 0.0759458529825143, 0.018986463245628575, 0.11069866147582619, 0.022139732295165235, 0.022139732295165235, 0.022139732295165235, 0.022139732295165235, 0.022139732295165235, 0.6199125042646266, 0.15497812606615666, 0.015618084968293866, 0.015618084968293866, 0.937085098097632, 0.032315482487786214, 0.10771827495928739, 0.6139941672679381, 0.032315482487786214, 0.021543654991857477, 0.032315482487786214, 0.032315482487786214, 0.010771827495928738, 0.010771827495928738, 0.08617461996742991, 0.010771827495928738, 0.04678220149433328, 0.10915847015344432, 0.015594067164777759, 0.6861389552502214, 0.015594067164777759, 0.062376268659111035, 0.062376268659111035, 0.012439925744799069, 0.012439925744799069, 0.8085951734119394, 0.049759702979196276, 0.012439925744799069, 0.012439925744799069, 0.012439925744799069, 0.06219962872399534, 0.35082948419173093, 0.056751828325132946, 0.03611479984326642, 0.010318514240933264, 0.06707034256606621, 0.07222959968653284, 0.025796285602333158, 0.13414068513213243, 0.030955542722799788, 0.041274056963733055, 0.015477771361399894, 0.03611479984326642, 0.061911085445599576, 0.046433314084199685, 0.015477771361399894, 0.037127425948130836, 0.6590118105793225, 0.12994599081845795, 0.08353670838329438, 0.018563712974065418, 0.02784556946109813, 0.018563712974065418, 0.018563712974065418, 0.5409905001950069, 0.018033016673166896, 0.018033016673166896, 0.14426413338533517, 0.23442921675116968, 0.03606603334633379, 0.15273883277209, 0.03636638875525952, 0.40730355405890667, 0.021819833253155712, 0.14546555502103808, 0.014546555502103809, 0.1309189995189343, 0.08000605526157095, 0.01732828213825081, 0.12129797496775568, 0.08664141069125406, 0.03465656427650162, 0.4158787713180195, 0.08664141069125406, 0.06931312855300324, 0.01732828213825081, 0.06931312855300324, 0.01732828213825081, 0.03465656427650162, 0.09019020956981938, 0.02459732988267801, 0.00819910996089267, 0.09019020956981938, 0.05739376972624869, 0.02459732988267801, 0.01639821992178534, 0.00819910996089267, 0.00819910996089267, 0.00819910996089267, 0.01639821992178534, 0.647729686910521, 0.039492869891044106, 0.06911252230932718, 0.2517670455554062, 0.049366087363805135, 0.04442947862742462, 0.019746434945522053, 0.02961965241828308, 0.08885895725484924, 0.01480982620914154, 0.049366087363805135, 0.02961965241828308, 0.06417591357294668, 0.049366087363805135, 0.172781305773318, 0.019746434945522053, 0.10986386923535006, 0.15694838462192864, 0.015694838462192866, 0.015694838462192866, 0.6434883769499075, 0.015694838462192866, 0.04979021434937268, 0.016596738116457562, 0.09958042869874537, 0.033193476232915124, 0.68046626277476, 0.016596738116457562, 0.0829836905822878, 0.03328838234743766, 0.01664419117371883, 0.8654979410333792, 0.01664419117371883, 0.01664419117371883, 0.03328838234743766, 0.01664419117371883, 0.014385162926930846, 0.014385162926930846, 0.014385162926930846, 0.014385162926930846, 0.9062652643966433, 0.014385162926930846, 0.029825675198513542, 0.019883783465675695, 0.019883783465675695, 0.049709458664189236, 0.5368621535732437, 0.15907026772540556, 0.07953513386270278, 0.059651350397027084, 0.029825675198513542, 0.053021654864784294, 0.04713035987980826, 0.005891294984976032, 0.029456474924880162, 0.03534776990985619, 0.08836942477464049, 0.10604330972956859, 0.2651082743239215, 0.04123906489483223, 0.07069553981971238, 0.10604330972956859, 0.04713035987980826, 0.04713035987980826, 0.04713035987980826, 0.015592121085087875, 0.07796060542543937, 0.5301321168929877, 0.03118424217017575, 0.249473937361406, 0.03118424217017575, 0.015592121085087875, 0.009363382721426802, 0.028090148164280404, 0.009363382721426802, 0.009363382721426802, 0.03745353088570721, 0.09363382721426802, 0.09363382721426802, 0.009363382721426802, 0.6648001732213029, 0.009363382721426802, 0.028090148164280404, 0.23990339161925178, 0.22847942058976362, 0.01142397102948818, 0.02284794205897636, 0.09139176823590545, 0.02284794205897636, 0.04569588411795272, 0.25132736264873995, 0.04569588411795272, 0.02284794205897636, 0.032582221252285985, 0.38012591461000317, 0.010860740417428662, 0.032582221252285985, 0.0868859233394293, 0.032582221252285985, 0.09774666375685795, 0.0868859233394293, 0.032582221252285985, 0.010860740417428662, 0.032582221252285985, 0.0868859233394293, 0.07602518292200063, 0.07372943109024725, 0.01228823851504121, 0.036864715545123626, 0.08601766960528846, 0.04915295406016484, 0.07372943109024725, 0.06144119257520605, 0.3563589169361951, 0.01228823851504121, 0.2457647703008242, 0.02049639799477615, 0.013664265329850767, 0.02049639799477615, 0.027328530659701533, 0.006832132664925383, 0.6285562051731353, 0.006832132664925383, 0.006832132664925383, 0.04782492865447768, 0.006832132664925383, 0.006832132664925383, 0.02049639799477615, 0.1229783879686569, 0.06832132664925383], \"Term\": [\"agua\", \"agua\", \"agua\", \"agua\", \"agua\", \"agua\", \"agua\", \"agua\", \"agua\", \"ahora\", \"ahora\", \"ahora\", \"ahora\", \"ahora\", \"ahora\", \"ahora\", \"ahora\", \"ahora\", \"ahora\", \"ajusta\", \"ajusta\", \"ajusta\", \"ajusta\", \"ajusta\", \"ajusta\", \"a\\u00f1os\", \"a\\u00f1os\", \"a\\u00f1os\", \"a\\u00f1os\", \"a\\u00f1os\", \"a\\u00f1os\", \"a\\u00f1os\", \"a\\u00f1os\", \"a\\u00f1os\", \"bastante\", \"bastante\", \"bastante\", \"bastante\", \"bastante\", \"bastante\", \"bastante\", \"bastante\", \"bastante\", \"bastante\", \"bastante\", \"bastante\", \"bastante\", \"bastante\", \"bastante\", \"bateria\", \"bateria\", \"bateria\", \"bateria\", \"bateria\", \"bateria\", \"bateria\", \"bateria\", \"bateria\", \"bateria\", \"bien\", \"bien\", \"bien\", \"bien\", \"bien\", \"bien\", \"bien\", \"bien\", \"bien\", \"bien\", \"bien\", \"bien\", \"bien\", \"bien\", \"bien\", \"bonita\", \"bonita\", \"bonita\", \"bonita\", \"bonita\", \"bonito\", \"bonito\", \"bonito\", \"bonito\", \"bonito\", \"bonito\", \"bonito\", \"bonito\", \"bonito\", \"bonito\", \"bonito\", \"bonito\", \"buen\", \"buen\", \"buen\", \"buen\", \"buen\", \"buen\", \"buen\", \"buen\", \"buen\", \"buen\", \"buena\", \"buena\", \"buena\", \"buena\", \"buena\", \"buena\", \"buena\", \"buena\", \"buena\", \"buena\", \"buena\", \"buena\", \"buena\", \"buena\", \"bueno\", \"bueno\", \"bueno\", \"bueno\", \"bueno\", \"bueno\", \"bueno\", \"bueno\", \"bueno\", \"bueno\", \"bueno\", \"buenos\", \"buenos\", \"buenos\", \"buenos\", \"buenos\", \"buenos\", \"buenos\", \"caja\", \"caja\", \"caja\", \"caja\", \"caja\", \"caja\", \"caja\", \"caja\", \"calidad\", \"calidad\", \"calidad\", \"calidad\", \"calidad\", \"calidad\", \"calidad\", \"calidad\", \"calidad\", \"calidad\", \"calidad\", \"calidad\", \"calidad\", \"calidad\", \"calidad\", \"carga\", \"carga\", \"carga\", \"carga\", \"carga\", \"carga\", \"carga\", \"carga\", \"carga\", \"carga\", \"caro\", \"caro\", \"caro\", \"caro\", \"caro\", \"caro\", \"caro\", \"caro\", \"casa\", \"casa\", \"casa\", \"casa\", \"casa\", \"casa\", \"casa\", \"casi\", \"casi\", \"casi\", \"casi\", \"casi\", \"casi\", \"casi\", \"casi\", \"casi\", \"caso\", \"caso\", \"caso\", \"caso\", \"caso\", \"caso\", \"caso\", \"caso\", \"color\", \"color\", \"color\", \"color\", \"color\", \"color\", \"color\", \"color\", \"color\", \"color\", \"colores\", \"colores\", \"colores\", \"comodo\", \"comodo\", \"comodo\", \"comodo\", \"comodo\", \"comodo\", \"comodo\", \"compra\", \"compra\", \"compra\", \"compra\", \"compra\", \"compra\", \"compra\", \"compra\", \"compra\", \"compra\", \"compra\", \"compra\", \"compra\", \"compra\", \"compra\", \"comprado\", \"comprado\", \"comprado\", \"comprado\", \"comprado\", \"comprado\", \"comprado\", \"comprado\", \"comprado\", \"comprar\", \"comprar\", \"comprar\", \"comprar\", \"comprar\", \"comprar\", \"comprar\", \"comprar\", \"comprar\", \"comprar\", \"comprar\", \"comprar\", \"comprar\", \"comprar\", \"compre\", \"compre\", \"compre\", \"compre\", \"compre\", \"compre\", \"compre\", \"compre\", \"compre\", \"compre\", \"compre\", \"compre\", \"compre\", \"compre\", \"contenta\", \"contenta\", \"contento\", \"contento\", \"contento\", \"contento\", \"correctamente\", \"correctamente\", \"correctamente\", \"correctamente\", \"correctamente\", \"correctamente\", \"correcto\", \"correcto\", \"correcto\", \"correcto\", \"correcto\", \"correcto\", \"creo\", \"creo\", \"creo\", \"creo\", \"creo\", \"creo\", \"creo\", \"creo\", \"creo\", \"creo\", \"creo\", \"creo\", \"cristal\", \"cristal\", \"cristal\", \"cristal\", \"cristal\", \"cristal\", \"cristal\", \"cuenta\", \"cuenta\", \"cuenta\", \"cuenta\", \"cuenta\", \"cuenta\", \"cuenta\", \"cuenta\", \"cuesta\", \"cuesta\", \"cuesta\", \"cuesta\", \"cuesta\", \"cuesta\", \"cuesta\", \"cuesta\", \"cumple\", \"cumple\", \"cumple\", \"cumple\", \"cumple\", \"cumple\", \"cumple\", \"cumple\", \"cumple\", \"cumple\", \"cumple\", \"decir\", \"decir\", \"decir\", \"decir\", \"decir\", \"decir\", \"decir\", \"deja\", \"deja\", \"deja\", \"deja\", \"deja\", \"deja\", \"demasiado\", \"demasiado\", \"demasiado\", \"demasiado\", \"demasiado\", \"demasiado\", \"demasiado\", \"dentro\", \"dentro\", \"dentro\", \"dentro\", \"dentro\", \"dentro\", \"dentro\", \"dentro\", \"dentro\", \"dentro\", \"devolver\", \"devolver\", \"devolver\", \"devolver\", \"devolver\", \"devolver\", \"dia\", \"dia\", \"dia\", \"dia\", \"dia\", \"dia\", \"dia\", \"dia\", \"dia\", \"dia\", \"dinero\", \"dinero\", \"dinero\", \"dinero\", \"dinero\", \"dinero\", \"dinero\", \"dinero\", \"dinero\", \"dinero\", \"dinero\", \"dise\\u00f1o\", \"dise\\u00f1o\", \"dise\\u00f1o\", \"dise\\u00f1o\", \"dise\\u00f1o\", \"dise\\u00f1o\", \"dise\\u00f1o\", \"dura\", \"dura\", \"dura\", \"dura\", \"dura\", \"duro\", \"duro\", \"duro\", \"duro\", \"duro\", \"duro\", \"duro\", \"encantado\", \"encima\", \"encima\", \"encima\", \"encima\", \"encima\", \"encima\", \"encima\", \"encima\", \"encima\", \"encima\", \"entrega\", \"entrega\", \"entrega\", \"entrega\", \"entrega\", \"entrega\", \"entrega\", \"entrega\", \"entrega\", \"envio\", \"envio\", \"envio\", \"envio\", \"envio\", \"envio\", \"envio\", \"envio\", \"envio\", \"envio\", \"envio\", \"envio\", \"espero\", \"espero\", \"espero\", \"espero\", \"espero\", \"espero\", \"espero\", \"espero\", \"espero\", \"estrellas\", \"estrellas\", \"estrellas\", \"estrellas\", \"estrellas\", \"estrellas\", \"estrellas\", \"estrellas\", \"estrellas\", \"estrellas\", \"excelente\", \"excelente\", \"facil\", \"facil\", \"facil\", \"facil\", \"facil\", \"facil\", \"facil\", \"facil\", \"facil\", \"facil\", \"facil\", \"falta\", \"falta\", \"falta\", \"falta\", \"falta\", \"falta\", \"falta\", \"forma\", \"forma\", \"forma\", \"forma\", \"forma\", \"forma\", \"foto\", \"foto\", \"foto\", \"foto\", \"foto\", \"foto\", \"foto\", \"foto\", \"foto\", \"foto\", \"foto\", \"fotos\", \"fotos\", \"fotos\", \"fotos\", \"fotos\", \"funciona\", \"funciona\", \"funciona\", \"funciona\", \"funciona\", \"funciona\", \"funciona\", \"funciona\", \"funciona\", \"funciona\", \"funciona\", \"funciona\", \"funciona\", \"funciona\", \"funcionar\", \"funcionar\", \"funcionar\", \"funcionar\", \"funcionar\", \"funcionar\", \"funcionar\", \"genial\", \"genial\", \"genial\", \"genial\", \"genial\", \"genial\", \"genial\", \"gran\", \"gran\", \"gran\", \"gran\", \"gran\", \"gran\", \"grande\", \"grande\", \"grande\", \"grande\", \"grande\", \"grande\", \"grande\", \"grande\", \"grande\", \"grande\", \"grande\", \"gusta\", \"gusta\", \"gusta\", \"gusta\", \"gusta\", \"gusta\", \"gusta\", \"gusta\", \"gusta\", \"gusta\", \"gusta\", \"gusta\", \"gusta\", \"gusta\", \"gustado\", \"gustado\", \"gustado\", \"gustado\", \"gustado\", \"gustado\", \"gustado\", \"gustado\", \"gustado\", \"gustado\", \"gusto\", \"gusto\", \"gusto\", \"gusto\", \"gusto\", \"hacer\", \"hacer\", \"hacer\", \"hacer\", \"hacer\", \"hacer\", \"hacer\", \"hacer\", \"hacer\", \"hecho\", \"hecho\", \"hecho\", \"hecho\", \"hecho\", \"hecho\", \"hecho\", \"hecho\", \"hora\", \"hora\", \"hora\", \"hora\", \"hora\", \"hora\", \"hora\", \"hora\", \"hora\", \"igual\", \"igual\", \"igual\", \"igual\", \"igual\", \"igual\", \"igual\", \"igual\", \"igual\", \"igual\", \"igual\", \"igual\", \"instrucciones\", \"instrucciones\", \"instrucciones\", \"instrucciones\", \"instrucciones\", \"instrucciones\", \"instrucciones\", \"instrucciones\", \"instrucciones\", \"libro\", \"libro\", \"libro\", \"libro\", \"libro\", \"llega\", \"llega\", \"llega\", \"llega\", \"llega\", \"llega\", \"llega\", \"llegado\", \"llegado\", \"llegado\", \"llegado\", \"llegado\", \"llegado\", \"llegado\", \"llegado\", \"llegado\", \"llegado\", \"llegado\", \"llegado\", \"llegar\", \"llegar\", \"llegar\", \"llegar\", \"llegar\", \"llego\", \"llego\", \"llego\", \"llego\", \"llego\", \"llego\", \"llego\", \"llego\", \"llego\", \"llego\", \"llego\", \"llego\", \"llego\", \"llego\", \"lleva\", \"lleva\", \"lleva\", \"lleva\", \"lleva\", \"lleva\", \"lleva\", \"lleva\", \"lleva\", \"llevar\", \"llevar\", \"llevar\", \"llevar\", \"llevar\", \"llevar\", \"luego\", \"luego\", \"luego\", \"luego\", \"luego\", \"luego\", \"luego\", \"luego\", \"luz\", \"luz\", \"luz\", \"luz\", \"luz\", \"luz\", \"mal\", \"mal\", \"mal\", \"mal\", \"mal\", \"mal\", \"mal\", \"mal\", \"mal\", \"mal\", \"mal\", \"mal\", \"mala\", \"mala\", \"mala\", \"mala\", \"mala\", \"mala\", \"mala\", \"mala\", \"mala\", \"mala\", \"mala\", \"mala\", \"malo\", \"malo\", \"malo\", \"malo\", \"malo\", \"malo\", \"malo\", \"malo\", \"malo\", \"marca\", \"marca\", \"marca\", \"marca\", \"marca\", \"marca\", \"marca\", \"marca\", \"marca\", \"marca\", \"material\", \"material\", \"material\", \"material\", \"material\", \"material\", \"material\", \"material\", \"material\", \"material\", \"mejor\", \"mejor\", \"mejor\", \"mejor\", \"mejor\", \"mejor\", \"mejor\", \"mejor\", \"mejor\", \"mejor\", \"mejor\", \"mejor\", \"mejor\", \"menos\", \"menos\", \"menos\", \"menos\", \"menos\", \"menos\", \"menos\", \"menos\", \"menos\", \"menos\", \"menos\", \"menos\", \"menos\", \"menos\", \"menos\", \"mes\", \"mes\", \"mes\", \"mes\", \"mes\", \"mes\", \"mes\", \"meses\", \"meses\", \"meses\", \"meses\", \"meses\", \"meses\", \"meses\", \"meses\", \"meses\", \"meses\", \"meses\", \"momento\", \"momento\", \"momento\", \"momento\", \"momento\", \"momento\", \"momento\", \"normal\", \"normal\", \"normal\", \"normal\", \"normal\", \"nota\", \"nota\", \"nota\", \"nota\", \"nota\", \"nota\", \"nota\", \"nota\", \"nota\", \"nunca\", \"nunca\", \"nunca\", \"nunca\", \"nunca\", \"nunca\", \"nunca\", \"nunca\", \"original\", \"original\", \"original\", \"original\", \"original\", \"original\", \"original\", \"original\", \"original\", \"original\", \"paquete\", \"paquete\", \"paquete\", \"paquete\", \"paquete\", \"paquete\", \"paquete\", \"paquete\", \"parte\", \"parte\", \"parte\", \"parte\", \"parte\", \"parte\", \"parte\", \"parte\", \"parte\", \"parte\", \"parte\", \"parte\", \"parte\", \"parte\", \"pedi\", \"pedi\", \"pedi\", \"pedi\", \"pedi\", \"pedi\", \"pedi\", \"pedi\", \"pedi\", \"pedi\", \"pedido\", \"pedido\", \"pedido\", \"pedido\", \"pedido\", \"pedido\", \"pedido\", \"pedido\", \"pedido\", \"pedido\", \"pedir\", \"pedir\", \"pedir\", \"pedir\", \"pedir\", \"pedir\", \"pedir\", \"pega\", \"pega\", \"pega\", \"pega\", \"pega\", \"pega\", \"pega\", \"pega\", \"pega\", \"pega\", \"pena\", \"pena\", \"pena\", \"pena\", \"pena\", \"pena\", \"pena\", \"pena\", \"pena\", \"peque\\u00f1a\", \"peque\\u00f1a\", \"peque\\u00f1a\", \"peque\\u00f1a\", \"peque\\u00f1a\", \"peque\\u00f1a\", \"peque\\u00f1o\", \"peque\\u00f1o\", \"peque\\u00f1o\", \"peque\\u00f1o\", \"peque\\u00f1o\", \"peque\\u00f1o\", \"peque\\u00f1o\", \"peque\\u00f1o\", \"peque\\u00f1o\", \"peque\\u00f1o\", \"peque\\u00f1o\", \"peque\\u00f1o\", \"peque\\u00f1os\", \"peque\\u00f1os\", \"peque\\u00f1os\", \"peque\\u00f1os\", \"peque\\u00f1os\", \"peque\\u00f1os\", \"peque\\u00f1os\", \"perfecta\", \"perfecta\", \"perfecta\", \"perfectamente\", \"perfectamente\", \"perfectamente\", \"perfectamente\", \"perfectamente\", \"perfectamente\", \"perfectamente\", \"perfectamente\", \"perfectamente\", \"perfectamente\", \"perfectamente\", \"perfecto\", \"perfecto\", \"perfecto\", \"perfecto\", \"perfecto\", \"perfecto\", \"perfecto\", \"perfecto\", \"perfecto\", \"perfecto\", \"perfecto\", \"plastico\", \"plastico\", \"plastico\", \"plastico\", \"plastico\", \"plastico\", \"plastico\", \"plastico\", \"plastico\", \"plastico\", \"plastico\", \"plastico\", \"plastico\", \"poder\", \"poder\", \"poder\", \"poder\", \"poder\", \"poder\", \"poder\", \"poder\", \"poder\", \"pone\", \"pone\", \"pone\", \"pone\", \"pone\", \"pone\", \"poner\", \"poner\", \"poner\", \"poner\", \"poner\", \"poner\", \"poner\", \"poner\", \"poner\", \"poner\", \"poner\", \"practico\", \"practico\", \"practico\", \"practico\", \"precio\", \"precio\", \"precio\", \"precio\", \"precio\", \"precio\", \"precio\", \"precio\", \"precio\", \"precio\", \"precio\", \"precio\", \"precio\", \"precio\", \"precio\", \"primera\", \"primera\", \"primera\", \"primera\", \"primera\", \"primera\", \"primera\", \"primera\", \"primera\", \"primera\", \"probado\", \"probado\", \"probado\", \"probado\", \"probado\", \"probado\", \"probado\", \"probado\", \"problema\", \"problema\", \"problema\", \"problema\", \"problema\", \"problema\", \"problema\", \"problema\", \"problema\", \"problema\", \"problema\", \"problema\", \"problemas\", \"problemas\", \"problemas\", \"problemas\", \"problemas\", \"problemas\", \"problemas\", \"problemas\", \"problemas\", \"problemas\", \"problemas\", \"producto\", \"producto\", \"producto\", \"producto\", \"producto\", \"producto\", \"producto\", \"producto\", \"producto\", \"producto\", \"producto\", \"producto\", \"producto\", \"producto\", \"producto\", \"puesto\", \"puesto\", \"puesto\", \"puesto\", \"puesto\", \"puesto\", \"puesto\", \"rapido\", \"rapido\", \"rapido\", \"rapido\", \"rapido\", \"rapido\", \"recibido\", \"recibido\", \"recibido\", \"recibido\", \"recibido\", \"recibido\", \"recibido\", \"recomendable\", \"recomendable\", \"recomendable\", \"recomendable\", \"recomendable\", \"recomiendo\", \"recomiendo\", \"recomiendo\", \"recomiendo\", \"recomiendo\", \"recomiendo\", \"recomiendo\", \"recomiendo\", \"recomiendo\", \"recomiendo\", \"recomiendo\", \"recomiendo\", \"recomiendo\", \"recomiendo\", \"recomiendo\", \"regalo\", \"regalo\", \"regalo\", \"regalo\", \"regalo\", \"regalo\", \"regalo\", \"regalo\", \"regalo\", \"reloj\", \"reloj\", \"reloj\", \"reloj\", \"reloj\", \"reloj\", \"reloj\", \"reloj\", \"resistente\", \"resistente\", \"resistente\", \"resistente\", \"resistente\", \"resistente\", \"resistente\", \"roto\", \"roto\", \"roto\", \"roto\", \"roto\", \"roto\", \"roto\", \"roto\", \"roto\", \"roto\", \"roto\", \"sale\", \"sale\", \"sale\", \"sale\", \"sale\", \"sale\", \"sale\", \"sale\", \"semana\", \"semana\", \"semana\", \"semana\", \"semana\", \"semana\", \"semana\", \"semana\", \"servicio\", \"servicio\", \"servicio\", \"sido\", \"sido\", \"sido\", \"sido\", \"sido\", \"sido\", \"sido\", \"sido\", \"sido\", \"sido\", \"sido\", \"siempre\", \"siempre\", \"siempre\", \"siempre\", \"siempre\", \"siempre\", \"siempre\", \"sirve\", \"sirve\", \"sirve\", \"sirve\", \"sirve\", \"sirve\", \"sirve\", \"sirve\", \"solo\", \"solo\", \"solo\", \"solo\", \"solo\", \"solo\", \"solo\", \"solo\", \"solo\", \"solo\", \"solo\", \"solo\", \"solo\", \"solo\", \"solo\", \"sonido\", \"sonido\", \"sonido\", \"sonido\", \"sonido\", \"sonido\", \"sonido\", \"sonido\", \"talla\", \"talla\", \"talla\", \"talla\", \"talla\", \"talla\", \"tama\\u00f1o\", \"tama\\u00f1o\", \"tama\\u00f1o\", \"tama\\u00f1o\", \"tama\\u00f1o\", \"tama\\u00f1o\", \"tama\\u00f1o\", \"tama\\u00f1o\", \"tampoco\", \"tampoco\", \"tampoco\", \"tampoco\", \"tampoco\", \"tampoco\", \"tampoco\", \"tampoco\", \"tampoco\", \"tampoco\", \"tampoco\", \"tener\", \"tener\", \"tener\", \"tener\", \"tener\", \"tener\", \"tener\", \"tener\", \"tener\", \"tener\", \"tener\", \"tener\", \"tiempo\", \"tiempo\", \"tiempo\", \"tiempo\", \"tiempo\", \"tiempo\", \"tiempo\", \"tiempo\", \"tiempo\", \"tiempo\", \"tiempo\", \"tiempo\", \"tiempo\", \"tiempo\", \"tiempo\", \"tipo\", \"tipo\", \"tipo\", \"tipo\", \"tipo\", \"tipo\", \"totalmente\", \"totalmente\", \"totalmente\", \"totalmente\", \"totalmente\", \"totalmente\", \"totalmente\", \"trae\", \"trae\", \"trae\", \"trae\", \"trae\", \"trae\", \"trae\", \"usado\", \"usado\", \"usado\", \"usado\", \"usado\", \"usado\", \"usar\", \"usar\", \"usar\", \"usar\", \"usar\", \"usar\", \"usar\", \"usar\", \"usar\", \"uso\", \"uso\", \"uso\", \"uso\", \"uso\", \"uso\", \"uso\", \"uso\", \"uso\", \"uso\", \"uso\", \"uso\", \"uso\", \"uso\", \"vale\", \"vale\", \"vale\", \"vale\", \"vale\", \"vale\", \"vale\", \"veces\", \"veces\", \"veces\", \"veces\", \"veces\", \"veces\", \"veces\", \"veces\", \"veces\", \"veces\", \"veces\", \"vendedor\", \"vendedor\", \"vendedor\", \"vendedor\", \"vendedor\", \"vendedor\", \"vendedor\", \"vendedor\", \"vendedor\", \"vendedor\", \"ver\", \"ver\", \"ver\", \"ver\", \"ver\", \"ver\", \"ver\", \"ver\", \"ver\", \"ver\", \"ver\", \"ver\", \"ver\", \"verdad\", \"verdad\", \"verdad\", \"verdad\", \"verdad\", \"verdad\", \"verdad\", \"verdad\", \"verdad\", \"verdad\", \"viene\", \"viene\", \"viene\", \"viene\", \"viene\", \"viene\", \"viene\", \"viene\", \"viene\", \"viene\", \"viene\", \"viene\", \"viene\", \"viene\"]}, \"R\": 30, \"lambda.step\": 0.01, \"plot.opts\": {\"xlab\": \"PC1\", \"ylab\": \"PC2\"}, \"topic.order\": [1, 2, 3, 4, 5, 6, 7, 8, 9, 10, 11, 12, 13, 14, 15]};\n",
              "\n",
              "function LDAvis_load_lib(url, callback){\n",
              "  var s = document.createElement('script');\n",
              "  s.src = url;\n",
              "  s.async = true;\n",
              "  s.onreadystatechange = s.onload = callback;\n",
              "  s.onerror = function(){console.warn(\"failed to load library \" + url);};\n",
              "  document.getElementsByTagName(\"head\")[0].appendChild(s);\n",
              "}\n",
              "\n",
              "if(typeof(LDAvis) !== \"undefined\"){\n",
              "   // already loaded: just create the visualization\n",
              "   !function(LDAvis){\n",
              "       new LDAvis(\"#\" + \"ldavis_el13871400107966928161300802078\", ldavis_el13871400107966928161300802078_data);\n",
              "   }(LDAvis);\n",
              "}else if(typeof define === \"function\" && define.amd){\n",
              "   // require.js is available: use it to load d3/LDAvis\n",
              "   require.config({paths: {d3: \"https://d3js.org/d3.v5\"}});\n",
              "   require([\"d3\"], function(d3){\n",
              "      window.d3 = d3;\n",
              "      LDAvis_load_lib(\"https://cdn.jsdelivr.net/gh/bmabey/pyLDAvis@3.2.2/pyLDAvis/js/ldavis.v3.0.0.js\", function(){\n",
              "        new LDAvis(\"#\" + \"ldavis_el13871400107966928161300802078\", ldavis_el13871400107966928161300802078_data);\n",
              "      });\n",
              "    });\n",
              "}else{\n",
              "    // require.js not available: dynamically load d3 & LDAvis\n",
              "    LDAvis_load_lib(\"https://d3js.org/d3.v5.js\", function(){\n",
              "         LDAvis_load_lib(\"https://cdn.jsdelivr.net/gh/bmabey/pyLDAvis@3.2.2/pyLDAvis/js/ldavis.v3.0.0.js\", function(){\n",
              "                 new LDAvis(\"#\" + \"ldavis_el13871400107966928161300802078\", ldavis_el13871400107966928161300802078_data);\n",
              "            })\n",
              "         });\n",
              "}\n",
              "</script>"
            ],
            "text/plain": [
              "<IPython.core.display.HTML object>"
            ]
          },
          "metadata": {
            "tags": []
          },
          "execution_count": 46
        }
      ]
    }
  ]
}